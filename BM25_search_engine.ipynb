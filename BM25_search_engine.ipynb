{
 "cells": [
  {
   "cell_type": "code",
   "execution_count": 1,
   "metadata": {},
   "outputs": [
    {
     "name": "stdout",
     "output_type": "stream",
     "text": [
      "Collecting rank_bm25\n",
      "  Downloading https://files.pythonhosted.org/packages/d2/e4/38d03d6d5e2deae8d2838b81d6ba2742475ced42045f5c46aeb00c5fb79c/rank_bm25-0.2.tar.gz\n",
      "Requirement already satisfied: nltk in c:\\users\\ankur\\anaconda3\\lib\\site-packages (3.4)\n",
      "Requirement already satisfied: numpy in c:\\users\\ankur\\anaconda3\\lib\\site-packages (from rank_bm25) (1.16.2)\n",
      "Requirement already satisfied: six in c:\\users\\ankur\\anaconda3\\lib\\site-packages (from nltk) (1.12.0)\n",
      "Requirement already satisfied: singledispatch in c:\\users\\ankur\\anaconda3\\lib\\site-packages (from nltk) (3.4.0.3)\n",
      "Building wheels for collected packages: rank-bm25\n",
      "  Building wheel for rank-bm25 (setup.py): started\n",
      "  Building wheel for rank-bm25 (setup.py): finished with status 'done'\n",
      "  Stored in directory: C:\\Users\\ankur\\AppData\\Local\\pip\\Cache\\wheels\\6f\\0c\\1f\\78945dd6a5478bbcdb50d73ac96ae5af2ffcdfcd374fd9b1bf\n",
      "Successfully built rank-bm25\n",
      "Installing collected packages: rank-bm25\n",
      "Successfully installed rank-bm25-0.2\n"
     ]
    }
   ],
   "source": [
    "!pip install rank_bm25 nltk"
   ]
  },
  {
   "cell_type": "code",
   "execution_count": 2,
   "metadata": {},
   "outputs": [
    {
     "name": "stderr",
     "output_type": "stream",
     "text": [
      "[nltk_data] Downloading package punkt to\n",
      "[nltk_data]     C:\\Users\\ankur\\AppData\\Roaming\\nltk_data...\n",
      "[nltk_data]   Package punkt is already up-to-date!\n"
     ]
    }
   ],
   "source": [
    "import numpy as np # linear algebra\n",
    "import pandas as pd # data processing, CSV file I/O (e.g. pd.read_csv)\n",
    "from pathlib import Path, PurePath\n",
    "import pandas as pd\n",
    "import requests\n",
    "from requests.exceptions import HTTPError, ConnectionError\n",
    "from ipywidgets import interact\n",
    "import ipywidgets as widgets\n",
    "from rank_bm25 import BM25Okapi\n",
    "import nltk\n",
    "from nltk.corpus import stopwords\n",
    "nltk.download(\"punkt\")\n",
    "import re"
   ]
  },
  {
   "cell_type": "code",
   "execution_count": 3,
   "metadata": {
    "scrolled": true
   },
   "outputs": [
    {
     "data": {
      "application/vnd.jupyter.widget-view+json": {
       "model_id": "629531a95a5e4bb3a11b404f63b64967",
       "version_major": 2,
       "version_minor": 0
      },
      "text/plain": [
       "interactive(children=(IntSlider(value=200, description='ColumnWidth', max=400, min=50, step=50), IntSlider(val…"
      ]
     },
     "metadata": {},
     "output_type": "display_data"
    }
   ],
   "source": [
    "from ipywidgets import interact\n",
    "import ipywidgets as widgets\n",
    "import pandas as pd\n",
    "\n",
    "def set_column_width(ColumnWidth, MaxRows):\n",
    "    pd.options.display.max_colwidth = ColumnWidth\n",
    "    pd.options.display.max_rows = MaxRows\n",
    "    print('Set pandas dataframe column width to', ColumnWidth, 'and max rows to', MaxRows)\n",
    "    \n",
    "interact(set_column_width, \n",
    "         ColumnWidth=widgets.IntSlider(min=50, max=400, step=50, value=200),\n",
    "         MaxRows=widgets.IntSlider(min=50, max=500, step=100, value=100));"
   ]
  },
  {
   "cell_type": "code",
   "execution_count": 4,
   "metadata": {},
   "outputs": [],
   "source": [
    "# Where are all the files located\n",
    "input_dir = PurePath('2020-03-13')\n",
    "\n",
    "# The all sources metadata file\n",
    "metadata = pd.read_csv(input_dir / 'all_sources_metadata_2020-03-13.csv', \n",
    "                      dtype={'Microsoft Academic Paper ID': str,\n",
    "                             'pubmed_id': str})\n",
    "\n",
    "# Convert the doi to a url\n",
    "def doi_url(d): return f'http://{d}' if d.startswith('doi.org') else f'http://doi.org/{d}'\n",
    "metadata.doi = metadata.doi.fillna('').apply(doi_url)\n",
    "\n",
    "# Set the abstract to the paper title if it is null\n",
    "metadata.abstract = metadata.abstract.fillna(metadata.title)"
   ]
  },
  {
   "cell_type": "code",
   "execution_count": 5,
   "metadata": {},
   "outputs": [
    {
     "data": {
      "text/plain": [
       "29500"
      ]
     },
     "execution_count": 5,
     "metadata": {},
     "output_type": "execute_result"
    }
   ],
   "source": [
    "len(metadata)"
   ]
  },
  {
   "cell_type": "code",
   "execution_count": 8,
   "metadata": {},
   "outputs": [
    {
     "data": {
      "text/html": [
       "<div>\n",
       "<style scoped>\n",
       "    .dataframe tbody tr th:only-of-type {\n",
       "        vertical-align: middle;\n",
       "    }\n",
       "\n",
       "    .dataframe tbody tr th {\n",
       "        vertical-align: top;\n",
       "    }\n",
       "\n",
       "    .dataframe thead th {\n",
       "        text-align: right;\n",
       "    }\n",
       "</style>\n",
       "<table border=\"1\" class=\"dataframe\">\n",
       "  <thead>\n",
       "    <tr style=\"text-align: right;\">\n",
       "      <th></th>\n",
       "      <th>sha</th>\n",
       "      <th>source_x</th>\n",
       "      <th>title</th>\n",
       "      <th>doi</th>\n",
       "      <th>pmcid</th>\n",
       "      <th>pubmed_id</th>\n",
       "      <th>license</th>\n",
       "      <th>abstract</th>\n",
       "      <th>publish_time</th>\n",
       "      <th>authors</th>\n",
       "      <th>journal</th>\n",
       "      <th>Microsoft Academic Paper ID</th>\n",
       "      <th>WHO #Covidence</th>\n",
       "      <th>has_full_text</th>\n",
       "    </tr>\n",
       "  </thead>\n",
       "  <tbody>\n",
       "    <tr>\n",
       "      <th>count</th>\n",
       "      <td>17420</td>\n",
       "      <td>29500</td>\n",
       "      <td>29130</td>\n",
       "      <td>29500</td>\n",
       "      <td>27337</td>\n",
       "      <td>16730</td>\n",
       "      <td>17692</td>\n",
       "      <td>29130</td>\n",
       "      <td>18248</td>\n",
       "      <td>28554</td>\n",
       "      <td>17791</td>\n",
       "      <td>1134</td>\n",
       "      <td>1236</td>\n",
       "      <td>17420</td>\n",
       "    </tr>\n",
       "    <tr>\n",
       "      <th>unique</th>\n",
       "      <td>17398</td>\n",
       "      <td>4</td>\n",
       "      <td>24654</td>\n",
       "      <td>22203</td>\n",
       "      <td>23222</td>\n",
       "      <td>12607</td>\n",
       "      <td>15</td>\n",
       "      <td>24753</td>\n",
       "      <td>4499</td>\n",
       "      <td>23860</td>\n",
       "      <td>1732</td>\n",
       "      <td>872</td>\n",
       "      <td>1223</td>\n",
       "      <td>2</td>\n",
       "    </tr>\n",
       "    <tr>\n",
       "      <th>top</th>\n",
       "      <td>72a5640aa0c307fbe171ca7ad55d3fda48b53988</td>\n",
       "      <td>PMC</td>\n",
       "      <td>Articles of Significant Interest Selected from This Issue by the Editors</td>\n",
       "      <td>http://doi.org/</td>\n",
       "      <td>PMC6224041</td>\n",
       "      <td>30408032</td>\n",
       "      <td>CC BY</td>\n",
       "      <td>Articles of Significant Interest Selected from This Issue by the Editors</td>\n",
       "      <td>2020</td>\n",
       "      <td>['Ehrt, Christiane', 'Brinkjost, Tobias', 'Koch, Oliver']</td>\n",
       "      <td>PLoS One</td>\n",
       "      <td>3006645647</td>\n",
       "      <td>#454</td>\n",
       "      <td>True</td>\n",
       "    </tr>\n",
       "    <tr>\n",
       "      <th>freq</th>\n",
       "      <td>4</td>\n",
       "      <td>27337</td>\n",
       "      <td>67</td>\n",
       "      <td>3143</td>\n",
       "      <td>35</td>\n",
       "      <td>35</td>\n",
       "      <td>11575</td>\n",
       "      <td>67</td>\n",
       "      <td>1148</td>\n",
       "      <td>35</td>\n",
       "      <td>2204</td>\n",
       "      <td>15</td>\n",
       "      <td>2</td>\n",
       "      <td>13219</td>\n",
       "    </tr>\n",
       "  </tbody>\n",
       "</table>\n",
       "</div>"
      ],
      "text/plain": [
       "                                             sha source_x  \\\n",
       "count                                      17420    29500   \n",
       "unique                                     17398        4   \n",
       "top     72a5640aa0c307fbe171ca7ad55d3fda48b53988      PMC   \n",
       "freq                                           4    27337   \n",
       "\n",
       "                                                                           title  \\\n",
       "count                                                                      29130   \n",
       "unique                                                                     24654   \n",
       "top     Articles of Significant Interest Selected from This Issue by the Editors   \n",
       "freq                                                                          67   \n",
       "\n",
       "                    doi       pmcid pubmed_id license  \\\n",
       "count             29500       27337     16730   17692   \n",
       "unique            22203       23222     12607      15   \n",
       "top     http://doi.org/  PMC6224041  30408032   CC BY   \n",
       "freq               3143          35        35   11575   \n",
       "\n",
       "                                                                        abstract  \\\n",
       "count                                                                      29130   \n",
       "unique                                                                     24753   \n",
       "top     Articles of Significant Interest Selected from This Issue by the Editors   \n",
       "freq                                                                          67   \n",
       "\n",
       "       publish_time  \\\n",
       "count         18248   \n",
       "unique         4499   \n",
       "top            2020   \n",
       "freq           1148   \n",
       "\n",
       "                                                          authors   journal  \\\n",
       "count                                                       28554     17791   \n",
       "unique                                                      23860      1732   \n",
       "top     ['Ehrt, Christiane', 'Brinkjost, Tobias', 'Koch, Oliver']  PLoS One   \n",
       "freq                                                           35      2204   \n",
       "\n",
       "       Microsoft Academic Paper ID WHO #Covidence has_full_text  \n",
       "count                         1134           1236         17420  \n",
       "unique                         872           1223             2  \n",
       "top                     3006645647           #454          True  \n",
       "freq                            15              2         13219  "
      ]
     },
     "execution_count": 8,
     "metadata": {},
     "output_type": "execute_result"
    }
   ],
   "source": [
    "metadata.describe()"
   ]
  },
  {
   "cell_type": "code",
   "execution_count": 9,
   "metadata": {},
   "outputs": [],
   "source": [
    "# Some papers are duplicated since they were collected from separate sources. Thanks Joerg Rings\n",
    "duplicate_paper = ~(metadata.title.isnull() | metadata.abstract.isnull()) & (metadata.duplicated(subset=['title', 'abstract']))\n",
    "metadata = metadata[~duplicate_paper].reset_index(drop=True)"
   ]
  },
  {
   "cell_type": "code",
   "execution_count": 10,
   "metadata": {},
   "outputs": [
    {
     "data": {
      "text/plain": [
       "25133"
      ]
     },
     "execution_count": 10,
     "metadata": {},
     "output_type": "execute_result"
    }
   ],
   "source": [
    "len(metadata)"
   ]
  },
  {
   "cell_type": "code",
   "execution_count": 11,
   "metadata": {},
   "outputs": [],
   "source": [
    "# Create Data Classes for the Research Dataset and Papers\n",
    "\n",
    "def get(url, timeout=6):\n",
    "    try:\n",
    "        r = requests.get(url, timeout=timeout)\n",
    "        return r.text\n",
    "    except ConnectionError:\n",
    "        print(f'Cannot connect to {url}')\n",
    "        print(f'Remember to turn Internet ON in the Kaggle notebook settings')\n",
    "    except HTTPError:\n",
    "        print('Got http error', r.status, r.text)\n",
    "\n",
    "class DataHolder:\n",
    "    '''\n",
    "    A wrapper for a dataframe with useful functions for notebooks\n",
    "    '''\n",
    "    def __init__(self, data: pd.DataFrame):\n",
    "        self.data = data\n",
    "        \n",
    "    def __len__(self): return len(self.data)\n",
    "    def __getitem__(self, item): return self.data.loc[item]\n",
    "    def head(self, n:int): return DataHolder(self.data.head(n).copy())\n",
    "    def tail(self, n:int): return DataHolder(self.data.tail(n).copy())\n",
    "    def _repr_html_(self): return self.data._repr_html_()\n",
    "    def __repr__(self): return self.data.__repr__()\n",
    "\n",
    "\n",
    "class ResearchPapers:\n",
    "    \n",
    "    def __init__(self, metadata: pd.DataFrame):\n",
    "        self.metadata = metadata\n",
    "        \n",
    "    def __getitem__(self, item):\n",
    "        return Paper(self.metadata.iloc[item])\n",
    "    \n",
    "    def __len__(self):\n",
    "        return len(self.metadata)\n",
    "    \n",
    "    def head(self, n):\n",
    "        return ResearchPapers(self.metadata.head(n).copy().reset_index(drop=True))\n",
    "    \n",
    "    def tail(self, n):\n",
    "        return ResearchPapers(self.metadata.tail(n).copy().reset_index(drop=True))\n",
    "    \n",
    "    def abstracts(self):\n",
    "        return self.metadata.abstract.dropna()\n",
    "    \n",
    "    def titles(self):\n",
    "        return self.metadata.title.dropna()\n",
    "        \n",
    "    def _repr_html_(self):\n",
    "        return self.metadata._repr_html_()\n",
    "    \n",
    "class Paper:\n",
    "    \n",
    "    '''\n",
    "    A single research paper\n",
    "    '''\n",
    "    def __init__(self, item):\n",
    "        self.paper = item.to_frame().fillna('')\n",
    "        self.paper.columns = ['Value']\n",
    "    \n",
    "    def doi(self):\n",
    "        return self.paper.loc['doi'].values[0]\n",
    "    \n",
    "    def html(self):\n",
    "        '''\n",
    "        Load the paper from doi.org and display as HTML. Requires internet to be ON\n",
    "        '''\n",
    "        text = get(self.doi())\n",
    "        return widgets.HTML(text)\n",
    "    \n",
    "    def text(self):\n",
    "        '''\n",
    "        Load the paper from doi.org and display as text. Requires Internet to be ON\n",
    "        '''\n",
    "        text = get(self.doi())\n",
    "        return text\n",
    "    \n",
    "    def abstract(self):\n",
    "        return self.paper.loc['abstract'].values[0]\n",
    "    \n",
    "    def title(self):\n",
    "        return self.paper.loc['title'].values[0]\n",
    "    \n",
    "    def authors(self, split=False):\n",
    "        '''\n",
    "        Get a list of authors\n",
    "        '''\n",
    "        authors = self.paper.loc['authors'].values[0]\n",
    "        if not authors:\n",
    "            return []\n",
    "        if not split:\n",
    "            return authors\n",
    "        if authors.startswith('['):\n",
    "            authors = authors.lstrip('[').rstrip(']')\n",
    "            return [a.strip().replace(\"\\'\", \"\") for a in authors.split(\"\\',\")]\n",
    "        \n",
    "        # Todo: Handle cases where author names are separated by \",\"\n",
    "        return [a.strip() for a in authors.split(';')]\n",
    "        \n",
    "    def _repr_html_(self):\n",
    "        return self.paper._repr_html_()\n",
    "    \n",
    "\n",
    "papers = ResearchPapers(metadata)"
   ]
  },
  {
   "cell_type": "code",
   "execution_count": 14,
   "metadata": {},
   "outputs": [
    {
     "data": {
      "text/plain": [
       "['Quilty, Billy J',\n",
       " 'Clifford, Sam',\n",
       " 'group2, CMMID nCoV working',\n",
       " 'Flasche, Stefan',\n",
       " 'Eggo, Rosalind M']"
      ]
     },
     "execution_count": 14,
     "metadata": {},
     "output_type": "execute_result"
    }
   ],
   "source": [
    "papers[11].authors(split=True)"
   ]
  },
  {
   "cell_type": "code",
   "execution_count": 15,
   "metadata": {},
   "outputs": [
    {
     "data": {
      "text/html": [
       "<div>\n",
       "<style scoped>\n",
       "    .dataframe tbody tr th:only-of-type {\n",
       "        vertical-align: middle;\n",
       "    }\n",
       "\n",
       "    .dataframe tbody tr th {\n",
       "        vertical-align: top;\n",
       "    }\n",
       "\n",
       "    .dataframe thead th {\n",
       "        text-align: right;\n",
       "    }\n",
       "</style>\n",
       "<table border=\"1\" class=\"dataframe\">\n",
       "  <thead>\n",
       "    <tr style=\"text-align: right;\">\n",
       "      <th></th>\n",
       "      <th>Value</th>\n",
       "    </tr>\n",
       "  </thead>\n",
       "  <tbody>\n",
       "    <tr>\n",
       "      <th>sha</th>\n",
       "      <td>4e550e034ccca6fa2a91e481ddba24db67bc9ae5</td>\n",
       "    </tr>\n",
       "    <tr>\n",
       "      <th>source_x</th>\n",
       "      <td>CZI</td>\n",
       "    </tr>\n",
       "    <tr>\n",
       "      <th>title</th>\n",
       "      <td>Effectiveness of airport screening at detecting travellers infected with novel coronavirus (2019-nCoV)</td>\n",
       "    </tr>\n",
       "    <tr>\n",
       "      <th>doi</th>\n",
       "      <td>http://doi.org/10.2807/1560-7917.ES.2020.25.5.2000080</td>\n",
       "    </tr>\n",
       "    <tr>\n",
       "      <th>pmcid</th>\n",
       "      <td></td>\n",
       "    </tr>\n",
       "    <tr>\n",
       "      <th>pubmed_id</th>\n",
       "      <td></td>\n",
       "    </tr>\n",
       "    <tr>\n",
       "      <th>license</th>\n",
       "      <td>cc-by</td>\n",
       "    </tr>\n",
       "    <tr>\n",
       "      <th>abstract</th>\n",
       "      <td>We simulated 100 2019-nCoV infected travellers planning to board a flight who would pose a risk for seeding transmission in a new region. The duration of travel was considered as the flight time p...</td>\n",
       "    </tr>\n",
       "    <tr>\n",
       "      <th>publish_time</th>\n",
       "      <td>2020</td>\n",
       "    </tr>\n",
       "    <tr>\n",
       "      <th>authors</th>\n",
       "      <td>Quilty, Billy J; Clifford, Sam; group2, CMMID nCoV working; Flasche, Stefan; Eggo, Rosalind M</td>\n",
       "    </tr>\n",
       "    <tr>\n",
       "      <th>journal</th>\n",
       "      <td>Eurosurveillance</td>\n",
       "    </tr>\n",
       "    <tr>\n",
       "      <th>Microsoft Academic Paper ID</th>\n",
       "      <td>3005151538</td>\n",
       "    </tr>\n",
       "    <tr>\n",
       "      <th>WHO #Covidence</th>\n",
       "      <td>#682</td>\n",
       "    </tr>\n",
       "    <tr>\n",
       "      <th>has_full_text</th>\n",
       "      <td>True</td>\n",
       "    </tr>\n",
       "  </tbody>\n",
       "</table>\n",
       "</div>"
      ],
      "text/plain": [
       "<__main__.Paper at 0x1f6b3d16128>"
      ]
     },
     "execution_count": 15,
     "metadata": {},
     "output_type": "execute_result"
    }
   ],
   "source": [
    "papers[11]"
   ]
  },
  {
   "cell_type": "code",
   "execution_count": 17,
   "metadata": {},
   "outputs": [
    {
     "data": {
      "application/vnd.jupyter.widget-view+json": {
       "model_id": "8891645560674fe3a551ce238b67cb3f",
       "version_major": 2,
       "version_minor": 0
      },
      "text/plain": [
       "HTML(value='<!DOCTYPE html>\\n<html lang=\"en\" class=\"no-js\">\\n<head>\\n    <meta charset=\"UTF-8\"/>\\n    <meta ht…"
      ]
     },
     "metadata": {},
     "output_type": "display_data"
    }
   ],
   "source": [
    "papers[0].html()"
   ]
  },
  {
   "cell_type": "code",
   "execution_count": 19,
   "metadata": {},
   "outputs": [
    {
     "data": {
      "text/plain": [
       "'<!DOCTYPE html>\\n<html lang=\"en\" class=\"no-js\">\\n<head>\\n    <meta charset=\"UTF-8\"/>\\n    <meta http-equiv=\"X-UA-Compatible\" content=\"IE=edge\"/>\\n    <meta name=\"viewport\" content=\"width=device-width, initial-scale=1\">\\n    <meta name=\"access\" content=\"Yes\">\\n    \\n\\n    <meta name=\"journal_id\" content=\"134\"/>\\n\\n    <meta name=\"dc.title\" content=\"Angiotensin-converting enzyme 2 (ACE2) as a SARS-CoV-2 receptor: molecular mechanisms and potential therapeutic target\"/>\\n\\n    <meta name=\"dc.source\" content=\"Intensive Care Medicine 2020\"/>\\n\\n    <meta name=\"dc.format\" content=\"text/html\"/>\\n\\n    <meta name=\"dc.publisher\" content=\"Springer\"/>\\n\\n    <meta name=\"dc.date\" content=\"2020-03-03\"/>\\n\\n    <meta name=\"dc.type\" content=\"BriefCommunication\"/>\\n\\n    <meta name=\"dc.language\" content=\"En\"/>\\n\\n    <meta name=\"dc.copyright\" content=\"2020 The Author(s)\"/>\\n\\n    <meta name=\"dc.rightsAgent\" content=\"journalpermissions@springernature.com\"/>\\n\\n    <meta name=\"dc.description\" content=\"\"/>\\n\\n    <meta name=\"prism.iss'"
      ]
     },
     "execution_count": 19,
     "metadata": {},
     "output_type": "execute_result"
    }
   ],
   "source": [
    "papers[0].text()[:1000]"
   ]
  },
  {
   "cell_type": "code",
   "execution_count": 20,
   "metadata": {},
   "outputs": [
    {
     "data": {
      "text/html": [
       "<div>\n",
       "<style scoped>\n",
       "    .dataframe tbody tr th:only-of-type {\n",
       "        vertical-align: middle;\n",
       "    }\n",
       "\n",
       "    .dataframe tbody tr th {\n",
       "        vertical-align: top;\n",
       "    }\n",
       "\n",
       "    .dataframe thead th {\n",
       "        text-align: right;\n",
       "    }\n",
       "</style>\n",
       "<table border=\"1\" class=\"dataframe\">\n",
       "  <thead>\n",
       "    <tr style=\"text-align: right;\">\n",
       "      <th></th>\n",
       "      <th>sha</th>\n",
       "      <th>source_x</th>\n",
       "      <th>title</th>\n",
       "      <th>doi</th>\n",
       "      <th>pmcid</th>\n",
       "      <th>pubmed_id</th>\n",
       "      <th>license</th>\n",
       "      <th>abstract</th>\n",
       "      <th>publish_time</th>\n",
       "      <th>authors</th>\n",
       "      <th>journal</th>\n",
       "      <th>Microsoft Academic Paper ID</th>\n",
       "      <th>WHO #Covidence</th>\n",
       "      <th>has_full_text</th>\n",
       "    </tr>\n",
       "  </thead>\n",
       "  <tbody>\n",
       "    <tr>\n",
       "      <th>0</th>\n",
       "      <td>c630ebcdf30652f0422c3ec12a00b50241dc9bd9</td>\n",
       "      <td>CZI</td>\n",
       "      <td>Angiotensin-converting enzyme 2 (ACE2) as a SARS-CoV-2 receptor: molecular mechanisms and potential therapeutic target</td>\n",
       "      <td>http://doi.org/10.1007/s00134-020-05985-9</td>\n",
       "      <td>NaN</td>\n",
       "      <td>32125455</td>\n",
       "      <td>cc-by-nc</td>\n",
       "      <td>Angiotensin-converting enzyme 2 (ACE2) as a SARS-CoV-2 receptor: molecular mechanisms and potential therapeutic target</td>\n",
       "      <td>2020</td>\n",
       "      <td>Zhang, Haibo; Penninger, Josef M.; Li, Yimin; Zhong, Nanshan; Slutsky, Arthur S.</td>\n",
       "      <td>Intensive Care Med</td>\n",
       "      <td>2002765492</td>\n",
       "      <td>#3252</td>\n",
       "      <td>True</td>\n",
       "    </tr>\n",
       "    <tr>\n",
       "      <th>1</th>\n",
       "      <td>53eccda7977a31e3d0f565c884da036b1e85438e</td>\n",
       "      <td>CZI</td>\n",
       "      <td>Comparative genetic analysis of the novel coronavirus (2019-nCoV/SARS-CoV-2) receptor ACE2 in different populations</td>\n",
       "      <td>http://doi.org/10.1038/s41421-020-0147-1</td>\n",
       "      <td>NaN</td>\n",
       "      <td>NaN</td>\n",
       "      <td>cc-by</td>\n",
       "      <td>Comparative genetic analysis of the novel coronavirus (2019-nCoV/SARS-CoV-2) receptor ACE2 in different populations</td>\n",
       "      <td>2020</td>\n",
       "      <td>Cao, Yanan; Li, Lin; Feng, Zhimin; Wan, Shengqing; Huang, Peide; Sun, Xiaohui; Wen, Fang; Huang, Xuanlin; Ning, Guang; Wang, Weiqing</td>\n",
       "      <td>Cell Discovery</td>\n",
       "      <td>3003430844</td>\n",
       "      <td>#1861</td>\n",
       "      <td>True</td>\n",
       "    </tr>\n",
       "  </tbody>\n",
       "</table>\n",
       "</div>"
      ],
      "text/plain": [
       "<__main__.ResearchPapers at 0x1f6b3d57b38>"
      ]
     },
     "execution_count": 20,
     "metadata": {},
     "output_type": "execute_result"
    }
   ],
   "source": [
    "papers.head(2)"
   ]
  },
  {
   "cell_type": "code",
   "execution_count": 21,
   "metadata": {},
   "outputs": [
    {
     "data": {
      "text/plain": [
       "0    Angiotensin-converting enzyme 2 (ACE2) as a SARS-CoV-2 receptor: molecular mechanisms and potential therapeutic target\n",
       "1       Comparative genetic analysis of the novel coronavirus (2019-nCoV/SARS-CoV-2) receptor ACE2 in different populations\n",
       "Name: abstract, dtype: object"
      ]
     },
     "execution_count": 21,
     "metadata": {},
     "output_type": "execute_result"
    }
   ],
   "source": [
    "papers.head(2).abstracts()"
   ]
  },
  {
   "cell_type": "code",
   "execution_count": 22,
   "metadata": {},
   "outputs": [
    {
     "data": {
      "text/plain": [
       "0    Angiotensin-converting enzyme 2 (ACE2) as a SARS-CoV-2 receptor: molecular mechanisms and potential therapeutic target\n",
       "1       Comparative genetic analysis of the novel coronavirus (2019-nCoV/SARS-CoV-2) receptor ACE2 in different populations\n",
       "Name: title, dtype: object"
      ]
     },
     "execution_count": 22,
     "metadata": {},
     "output_type": "execute_result"
    }
   ],
   "source": [
    "papers.head(2).titles()"
   ]
  },
  {
   "cell_type": "markdown",
   "metadata": {},
   "source": [
    "## BM25 search index:"
   ]
  },
  {
   "cell_type": "code",
   "execution_count": 23,
   "metadata": {},
   "outputs": [],
   "source": [
    "from rank_bm25 import BM25Okapi"
   ]
  },
  {
   "cell_type": "code",
   "execution_count": 24,
   "metadata": {},
   "outputs": [],
   "source": [
    "# Text preprocessing\n",
    "english_stopwords = list(set(stopwords.words('english')))\n",
    "\n",
    "def strip_characters(text):\n",
    "    t = re.sub('\\(|\\)|:|,|;|\\.|’|”|“|\\?|%|>|<', '', text)\n",
    "    t = re.sub('/', ' ', t)\n",
    "    t = t.replace(\"'\",'')\n",
    "    return t\n",
    "\n",
    "def clean(text):\n",
    "    t = text.lower()\n",
    "    t = strip_characters(t)\n",
    "    return t\n",
    "\n",
    "def tokenize(text):\n",
    "    words = nltk.word_tokenize(text)\n",
    "    return list(set([word for word in words \n",
    "                     if len(word) > 1\n",
    "                     and not word in english_stopwords\n",
    "                     and not (word.isnumeric() and len(word) is not 4)\n",
    "                     and (not word.isnumeric() or word.isalpha())] )\n",
    "               )\n",
    "\n",
    "def preprocess(text):\n",
    "    t = clean(text)\n",
    "    tokens = tokenize(t)\n",
    "    return tokens\n",
    "\n",
    "class SearchResults:\n",
    "    \n",
    "    def __init__(self, \n",
    "                 data: pd.DataFrame,\n",
    "                 columns = None):\n",
    "        self.results = data\n",
    "        if columns:\n",
    "            self.results = self.results[columns]\n",
    "            \n",
    "    def __getitem__(self, item):\n",
    "        return Paper(self.results.loc[item])\n",
    "    \n",
    "    def __len__(self):\n",
    "        return len(self.results)\n",
    "        \n",
    "    def _repr_html_(self):\n",
    "        return self.results._repr_html_()\n",
    "\n",
    "SEARCH_DISPLAY_COLUMNS = ['title', 'abstract', 'doi', 'authors', 'journal']\n",
    "\n",
    "class WordTokenIndex:\n",
    "    \n",
    "    def __init__(self, \n",
    "                 corpus: pd.DataFrame, \n",
    "                 columns=SEARCH_DISPLAY_COLUMNS):\n",
    "        self.corpus = corpus\n",
    "        raw_search_str = self.corpus.abstract.fillna('') + ' ' + self.corpus.title.fillna('')\n",
    "        self.index = raw_search_str.apply(preprocess).to_frame()\n",
    "        self.index.columns = ['terms']\n",
    "        self.index.index = self.corpus.index\n",
    "        self.columns = columns\n",
    "    \n",
    "    def search(self, search_string):\n",
    "        search_terms = preprocess(search_string)\n",
    "        result_index = self.index.terms.apply(lambda terms: any(i in terms for i in search_terms))\n",
    "        results = self.corpus[result_index].copy().reset_index().rename(columns={'index':'paper'})\n",
    "        return SearchResults(results, self.columns + ['paper'])"
   ]
  },
  {
   "cell_type": "code",
   "execution_count": 25,
   "metadata": {},
   "outputs": [
    {
     "data": {
      "text/html": [
       "<div>\n",
       "<style scoped>\n",
       "    .dataframe tbody tr th:only-of-type {\n",
       "        vertical-align: middle;\n",
       "    }\n",
       "\n",
       "    .dataframe tbody tr th {\n",
       "        vertical-align: top;\n",
       "    }\n",
       "\n",
       "    .dataframe thead th {\n",
       "        text-align: right;\n",
       "    }\n",
       "</style>\n",
       "<table border=\"1\" class=\"dataframe\">\n",
       "  <thead>\n",
       "    <tr style=\"text-align: right;\">\n",
       "      <th></th>\n",
       "      <th>title</th>\n",
       "      <th>abstract</th>\n",
       "      <th>doi</th>\n",
       "      <th>authors</th>\n",
       "      <th>journal</th>\n",
       "      <th>Score</th>\n",
       "    </tr>\n",
       "  </thead>\n",
       "  <tbody>\n",
       "    <tr>\n",
       "      <th>0</th>\n",
       "      <td>Backcalculating the Incidence of Infection with COVID-19 on the Diamond Princess</td>\n",
       "      <td>To understand the time-dependent risk of infection on a cruise ship, the Diamond Princess, I estimated the incidence of infection with novel coronavirus (COVID-19). The epidemic curve of a total o...</td>\n",
       "      <td>http://doi.org/10.3390/jcm9030657</td>\n",
       "      <td>Nishiura, Hiroshi</td>\n",
       "      <td>J Clin Med</td>\n",
       "      <td>3.303773</td>\n",
       "    </tr>\n",
       "    <tr>\n",
       "      <th>1</th>\n",
       "      <td>Estimation of the reproductive number of Novel Coronavirus (COVID-19) and the probable outbreak size on the Diamond Princess cruise ship: A data-driven analysis</td>\n",
       "      <td>Backgrounds Up to February 16, 2020, 355 cases have been confirmed as having COVID-19 infection on the Diamond Princess cruise ship. It is of crucial importance to estimate the reproductive number...</td>\n",
       "      <td>http://doi.org/10.1016/j.ijid.2020.02.033</td>\n",
       "      <td>Zhang, Sheng; Diao, MengYuan; Yu, Wenbo; Pei, Lei; Lin, Zhaofen; Chen, Dechang</td>\n",
       "      <td>International Journal of Infectious Diseases</td>\n",
       "      <td>2.635377</td>\n",
       "    </tr>\n",
       "    <tr>\n",
       "      <th>2</th>\n",
       "      <td>COVID-19 outbreak on the Diamond Princess cruise ship: estimating the epidemic potential and effectiveness of public health countermeasures</td>\n",
       "      <td>Cruise ships carry a large number of people in confined spaces with relative homogeneous mixing. On 3 February, 2020, an outbreak of COVID-19 on cruise ship Diamond Princess was reported with 10 i...</td>\n",
       "      <td>http://doi.org/10.1093/jtm/taaa030</td>\n",
       "      <td>Rocklöv, J.; Sjödin, H.; Wilder-Smith, A.</td>\n",
       "      <td>Journal of Travel Medicine</td>\n",
       "      <td>2.477118</td>\n",
       "    </tr>\n",
       "  </tbody>\n",
       "</table>\n",
       "</div>"
      ],
      "text/plain": [
       "<__main__.SearchResults at 0x1f6b3d62668>"
      ]
     },
     "execution_count": 25,
     "metadata": {},
     "output_type": "execute_result"
    }
   ],
   "source": [
    "# https://pypi.org/project/rank-bm25/\n",
    "class RankBM25Index(WordTokenIndex):\n",
    "    \n",
    "    def __init__(self, corpus: pd.DataFrame, columns=SEARCH_DISPLAY_COLUMNS):\n",
    "        super().__init__(corpus, columns)\n",
    "        self.bm25 = BM25Okapi(self.index.terms.tolist())\n",
    "        \n",
    "    def search(self, search_string, n=4):\n",
    "        search_terms = preprocess(search_string)\n",
    "        doc_scores = self.bm25.get_scores(search_terms)\n",
    "        ind = np.argsort(doc_scores)[::-1][:n]\n",
    "        results = self.corpus.iloc[ind][self.columns]\n",
    "        results['Score'] = doc_scores[ind]\n",
    "        results = results[results.Score > 0]\n",
    "        return SearchResults(results.reset_index(), self.columns + ['Score'])\n",
    "    \n",
    "bm25 = RankBM25Index(metadata.head(100))\n",
    "bm25.search('cruise')"
   ]
  },
  {
   "cell_type": "code",
   "execution_count": 26,
   "metadata": {},
   "outputs": [
    {
     "data": {
      "text/html": [
       "<div>\n",
       "<style scoped>\n",
       "    .dataframe tbody tr th:only-of-type {\n",
       "        vertical-align: middle;\n",
       "    }\n",
       "\n",
       "    .dataframe tbody tr th {\n",
       "        vertical-align: top;\n",
       "    }\n",
       "\n",
       "    .dataframe thead th {\n",
       "        text-align: right;\n",
       "    }\n",
       "</style>\n",
       "<table border=\"1\" class=\"dataframe\">\n",
       "  <thead>\n",
       "    <tr style=\"text-align: right;\">\n",
       "      <th></th>\n",
       "      <th>title</th>\n",
       "      <th>abstract</th>\n",
       "      <th>doi</th>\n",
       "      <th>authors</th>\n",
       "      <th>journal</th>\n",
       "      <th>Score</th>\n",
       "    </tr>\n",
       "  </thead>\n",
       "  <tbody>\n",
       "    <tr>\n",
       "      <th>0</th>\n",
       "      <td>SARS-CoV-2 infection in children: Transmission dynamics and clinical characteristics</td>\n",
       "      <td>SARS-CoV-2 infection in children: Transmission dynamics and clinical characteristics</td>\n",
       "      <td>http://doi.org/10.1016/j.jfma.2020.02.009</td>\n",
       "      <td>Cao, Qing; Chen, Yi-Ching; Chen, Chyi-Liang; Chiu, Cheng-Hsun</td>\n",
       "      <td>Journal of the Formosan Medical Association</td>\n",
       "      <td>2.617278</td>\n",
       "    </tr>\n",
       "    <tr>\n",
       "      <th>1</th>\n",
       "      <td>A potential role for integrins in host cell entry by SARS-CoV-2</td>\n",
       "      <td>A potential role for integrins in host cell entry by SARS-CoV-2</td>\n",
       "      <td>http://doi.org/10.1016/j.antiviral.2020.104759</td>\n",
       "      <td>Sigrist, Christian; Bridge, Alan; Le Mercier, Philippe</td>\n",
       "      <td>Antiviral Research</td>\n",
       "      <td>2.617278</td>\n",
       "    </tr>\n",
       "    <tr>\n",
       "      <th>2</th>\n",
       "      <td>Differential diagnosis of illness in patients under investigation for the novel coronavirus (SARS-CoV-2), Italy, February 2020</td>\n",
       "      <td>Differential diagnosis of illness in patients under investigation for the novel coronavirus (SARS-CoV-2), Italy, February 2020</td>\n",
       "      <td>http://doi.org/10.2807/1560-7917.ES.2020.25.8.2000170</td>\n",
       "      <td>Bordi, Licia; Nicastri, Emanuele; Scorzolini, Laura; Caro, Antonino Di; Capobianchi, Maria Rosaria; Castilletti, Concetta; Lalle, Eleonora; group, on behalf of INMI COVID-19 study; Centers2, Colla...</td>\n",
       "      <td>Eurosurveillance</td>\n",
       "      <td>2.531772</td>\n",
       "    </tr>\n",
       "    <tr>\n",
       "      <th>3</th>\n",
       "      <td>Angiotensin-converting enzyme 2 (ACE2) as a SARS-CoV-2 receptor: molecular mechanisms and potential therapeutic target</td>\n",
       "      <td>Angiotensin-converting enzyme 2 (ACE2) as a SARS-CoV-2 receptor: molecular mechanisms and potential therapeutic target</td>\n",
       "      <td>http://doi.org/10.1007/s00134-020-05985-9</td>\n",
       "      <td>Zhang, Haibo; Penninger, Josef M.; Li, Yimin; Zhong, Nanshan; Slutsky, Arthur S.</td>\n",
       "      <td>Intensive Care Med</td>\n",
       "      <td>2.531772</td>\n",
       "    </tr>\n",
       "  </tbody>\n",
       "</table>\n",
       "</div>"
      ],
      "text/plain": [
       "<__main__.SearchResults at 0x1f6b3d57ac8>"
      ]
     },
     "execution_count": 26,
     "metadata": {},
     "output_type": "execute_result"
    }
   ],
   "source": [
    "bm25.search('sars-cov-2')"
   ]
  },
  {
   "cell_type": "code",
   "execution_count": 27,
   "metadata": {},
   "outputs": [],
   "source": [
    "# search engine on 10000 records\n",
    "bm25_index = RankBM25Index(metadata.head(10000))"
   ]
  },
  {
   "cell_type": "code",
   "execution_count": 28,
   "metadata": {},
   "outputs": [
    {
     "data": {
      "text/html": [
       "<div>\n",
       "<style scoped>\n",
       "    .dataframe tbody tr th:only-of-type {\n",
       "        vertical-align: middle;\n",
       "    }\n",
       "\n",
       "    .dataframe tbody tr th {\n",
       "        vertical-align: top;\n",
       "    }\n",
       "\n",
       "    .dataframe thead th {\n",
       "        text-align: right;\n",
       "    }\n",
       "</style>\n",
       "<table border=\"1\" class=\"dataframe\">\n",
       "  <thead>\n",
       "    <tr style=\"text-align: right;\">\n",
       "      <th></th>\n",
       "      <th>title</th>\n",
       "      <th>abstract</th>\n",
       "      <th>doi</th>\n",
       "      <th>authors</th>\n",
       "      <th>journal</th>\n",
       "      <th>Score</th>\n",
       "    </tr>\n",
       "  </thead>\n",
       "  <tbody>\n",
       "    <tr>\n",
       "      <th>0</th>\n",
       "      <td>COVID-19 in 2 Persons with Mild Upper Respiratory Symptoms on a Cruise Ship, Japan</td>\n",
       "      <td>We describe 2 cases of COVID-19 in patients with mild upper respiratory symptoms. Both patients worked on a cruise ship quarantined off the coast of Japan. One patient had persistent, low-grade up...</td>\n",
       "      <td>http://doi.org/10.3201/eid2606.200452</td>\n",
       "      <td>Arashiro, Takeshi; Furukawa, Keiichi; Nakamura, Akira</td>\n",
       "      <td>Emerging infectious diseases</td>\n",
       "      <td>19.385938</td>\n",
       "    </tr>\n",
       "    <tr>\n",
       "      <th>1</th>\n",
       "      <td>From the frontlines of COVID-19 – How prepared are we as obstetricians: a commentary</td>\n",
       "      <td>Abstract The World Health Organization (WHO) has declared the outbreak of novel coronavirus (2019-nCoV) ? now known as Coronavirus Disease (COVID-19)1 - as a global health emergency. Singapore cur...</td>\n",
       "      <td>http://doi.org/10.1111/1471-0528.16192</td>\n",
       "      <td>Chua, Monica Shi Qi; Lee, Jill Cheng Sim; Sulaiman, Suzanna; Tan, Hak Koon</td>\n",
       "      <td>BJOG: An International Journal of Obstetrics &amp; Gynaecology</td>\n",
       "      <td>18.493467</td>\n",
       "    </tr>\n",
       "    <tr>\n",
       "      <th>2</th>\n",
       "      <td>COVID-19—New Insights on a Rapidly Changing Epidemic</td>\n",
       "      <td>Since first reported in Wuhan, China, in late December 2019, the outbreak of the novel coronavirus now known as SARS-CoV-2 (severe acute respiratory syndrome coronavirus 2) has spread globally. As...</td>\n",
       "      <td>http://doi.org/10.1001/jama.2020.3072</td>\n",
       "      <td>del Rio, Carlos; Malani, Preeti N.</td>\n",
       "      <td>JAMA</td>\n",
       "      <td>17.679552</td>\n",
       "    </tr>\n",
       "    <tr>\n",
       "      <th>3</th>\n",
       "      <td>Backcalculating the Incidence of Infection with COVID-19 on the Diamond Princess</td>\n",
       "      <td>To understand the time-dependent risk of infection on a cruise ship, the Diamond Princess, I estimated the incidence of infection with novel coronavirus (COVID-19). The epidemic curve of a total o...</td>\n",
       "      <td>http://doi.org/10.3390/jcm9030657</td>\n",
       "      <td>Nishiura, Hiroshi</td>\n",
       "      <td>J Clin Med</td>\n",
       "      <td>15.195548</td>\n",
       "    </tr>\n",
       "  </tbody>\n",
       "</table>\n",
       "</div>"
      ],
      "text/plain": [
       "<__main__.SearchResults at 0x1f6b3d160b8>"
      ]
     },
     "execution_count": 28,
     "metadata": {},
     "output_type": "execute_result"
    }
   ],
   "source": [
    "results = bm25_index.search('cruise ship')\n",
    "results"
   ]
  },
  {
   "cell_type": "code",
   "execution_count": 29,
   "metadata": {},
   "outputs": [
    {
     "data": {
      "text/plain": [
       "'Backcalculating the Incidence of Infection with COVID-19 on the Diamond Princess'"
      ]
     },
     "execution_count": 29,
     "metadata": {},
     "output_type": "execute_result"
    }
   ],
   "source": [
    "results[3].title()"
   ]
  },
  {
   "cell_type": "code",
   "execution_count": 30,
   "metadata": {},
   "outputs": [],
   "source": [
    "tasks = [('What is known about transmission, incubation, and environmental stability?', \n",
    "        'transmission incubation environment coronavirus'),\n",
    "        ('What do we know about COVID-19 risk factors?', 'risk factors'),\n",
    "        ('What do we know about virus genetics, origin, and evolution?', 'genetics origin evolution'),\n",
    "        ('What has been published about ethical and social science considerations','ethics ethical social'),\n",
    "        ('What do we know about diagnostics and surveillance?','diagnose diagnostic surveillance'),\n",
    "        ('What has been published about medical care?', 'medical care'),\n",
    "        ('What do we know about vaccines and therapeutics?', 'vaccines vaccine vaccinate therapeutic therapeutics')] \n",
    "tasks = pd.DataFrame(tasks, columns=['Task', 'Keywords'])"
   ]
  },
  {
   "cell_type": "code",
   "execution_count": 31,
   "metadata": {},
   "outputs": [
    {
     "data": {
      "application/vnd.jupyter.widget-view+json": {
       "model_id": "65f867dce7404a0ea021a1958cf3b27c",
       "version_major": 2,
       "version_minor": 0
      },
      "text/plain": [
       "interactive(children=(Dropdown(description='Task', options=('What is known about transmission, incubation, and…"
      ]
     },
     "metadata": {},
     "output_type": "display_data"
    }
   ],
   "source": [
    "# Research Papers for each task\n",
    "def show_task(Task):\n",
    "    print(Task)\n",
    "    keywords = tasks[tasks.Task == Task].Keywords.values[0]\n",
    "    search_results = bm25_index.search(keywords, n=200)\n",
    "    return search_results\n",
    "    \n",
    "results = interact(show_task, Task = tasks.Task.tolist());"
   ]
  },
  {
   "cell_type": "code",
   "execution_count": 32,
   "metadata": {},
   "outputs": [
    {
     "data": {
      "application/vnd.jupyter.widget-view+json": {
       "model_id": "fde4692bf1be4470be46ed6e0332efbd",
       "version_major": 2,
       "version_minor": 0
      },
      "text/plain": [
       "interactive(children=(Text(value='cruise ship', description='SearchTerms'), Output()), _dom_classes=('widget-i…"
      ]
     },
     "metadata": {},
     "output_type": "display_data"
    }
   ],
   "source": [
    "# Creating an Autocomplete Search bar\n",
    "from IPython.display import display\n",
    "\n",
    "def search_papers(SearchTerms: str):\n",
    "    search_results = bm25_index.search(SearchTerms, n=10)\n",
    "    if len(search_results) > 0:\n",
    "        display(search_results) \n",
    "    return search_results\n",
    "\n",
    "searchbar = widgets.interactive(search_papers, SearchTerms='cruise ship')\n",
    "searchbar"
   ]
  },
  {
   "cell_type": "code",
   "execution_count": 33,
   "metadata": {},
   "outputs": [
    {
     "data": {
      "text/html": [
       "<div>\n",
       "<style scoped>\n",
       "    .dataframe tbody tr th:only-of-type {\n",
       "        vertical-align: middle;\n",
       "    }\n",
       "\n",
       "    .dataframe tbody tr th {\n",
       "        vertical-align: top;\n",
       "    }\n",
       "\n",
       "    .dataframe thead th {\n",
       "        text-align: right;\n",
       "    }\n",
       "</style>\n",
       "<table border=\"1\" class=\"dataframe\">\n",
       "  <thead>\n",
       "    <tr style=\"text-align: right;\">\n",
       "      <th></th>\n",
       "      <th>Value</th>\n",
       "    </tr>\n",
       "  </thead>\n",
       "  <tbody>\n",
       "    <tr>\n",
       "      <th>title</th>\n",
       "      <td>COVID-19 in 2 Persons with Mild Upper Respiratory Symptoms on a Cruise Ship, Japan</td>\n",
       "    </tr>\n",
       "    <tr>\n",
       "      <th>abstract</th>\n",
       "      <td>We describe 2 cases of COVID-19 in patients with mild upper respiratory symptoms. Both patients worked on a cruise ship quarantined off the coast of Japan. One patient had persistent, low-grade up...</td>\n",
       "    </tr>\n",
       "    <tr>\n",
       "      <th>doi</th>\n",
       "      <td>http://doi.org/10.3201/eid2606.200452</td>\n",
       "    </tr>\n",
       "    <tr>\n",
       "      <th>authors</th>\n",
       "      <td>Arashiro, Takeshi; Furukawa, Keiichi; Nakamura, Akira</td>\n",
       "    </tr>\n",
       "    <tr>\n",
       "      <th>journal</th>\n",
       "      <td>Emerging infectious diseases</td>\n",
       "    </tr>\n",
       "    <tr>\n",
       "      <th>Score</th>\n",
       "      <td>19.3859</td>\n",
       "    </tr>\n",
       "  </tbody>\n",
       "</table>\n",
       "</div>"
      ],
      "text/plain": [
       "<__main__.Paper at 0x1f6bf35ea90>"
      ]
     },
     "execution_count": 33,
     "metadata": {},
     "output_type": "execute_result"
    }
   ],
   "source": [
    "searchbar.result[0]"
   ]
  },
  {
   "cell_type": "code",
   "execution_count": null,
   "metadata": {},
   "outputs": [],
   "source": []
  }
 ],
 "metadata": {
  "kernelspec": {
   "display_name": "Python 3",
   "language": "python",
   "name": "python3"
  },
  "language_info": {
   "codemirror_mode": {
    "name": "ipython",
    "version": 3
   },
   "file_extension": ".py",
   "mimetype": "text/x-python",
   "name": "python",
   "nbconvert_exporter": "python",
   "pygments_lexer": "ipython3",
   "version": "3.7.3"
  }
 },
 "nbformat": 4,
 "nbformat_minor": 2
}
