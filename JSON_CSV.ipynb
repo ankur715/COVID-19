{
 "cells": [
  {
   "cell_type": "markdown",
   "metadata": {},
   "source": [
    "# JSON -> CSV\n",
    "> ### Helper functions for you to easily format inner dictionaries from each file.\n"
   ]
  },
  {
   "cell_type": "code",
   "execution_count": 2,
   "metadata": {},
   "outputs": [],
   "source": [
    "import os\n",
    "import json\n",
    "from pprint import pprint\n",
    "from copy import deepcopy\n",
    "\n",
    "import numpy as np\n",
    "import pandas as pd\n",
    "from tqdm import tqdm"
   ]
  },
  {
   "cell_type": "code",
   "execution_count": null,
   "metadata": {},
   "outputs": [],
   "source": [
    "from datetime import datetime\n",
    "start1 = datetime.now()"
   ]
  },
  {
   "cell_type": "code",
   "execution_count": 3,
   "metadata": {},
   "outputs": [],
   "source": [
    "def format_name(author):\n",
    "    middle_name = \" \".join(author['middle'])\n",
    "    \n",
    "    if author['middle']:\n",
    "        return \" \".join([author['first'], middle_name, author['last']])\n",
    "    else:\n",
    "        return \" \".join([author['first'], author['last']])\n",
    "\n",
    "\n",
    "def format_affiliation(affiliation):\n",
    "    text = []\n",
    "    location = affiliation.get('location')\n",
    "    if location:\n",
    "        text.extend(list(affiliation['location'].values()))\n",
    "    \n",
    "    institution = affiliation.get('institution')\n",
    "    if institution:\n",
    "        text = [institution] + text\n",
    "    return \", \".join(text)\n",
    "\n",
    "def format_authors(authors, with_affiliation=False):\n",
    "    name_ls = []\n",
    "    \n",
    "    for author in authors:\n",
    "        name = format_name(author)\n",
    "        if with_affiliation:\n",
    "            affiliation = format_affiliation(author['affiliation'])\n",
    "            if affiliation:\n",
    "                name_ls.append(f\"{name} ({affiliation})\")\n",
    "            else:\n",
    "                name_ls.append(name)\n",
    "        else:\n",
    "            name_ls.append(name)\n",
    "    \n",
    "    return \", \".join(name_ls)\n",
    "\n",
    "def format_body(body_text):\n",
    "    texts = [(di['section'], di['text']) for di in body_text]\n",
    "    texts_di = {di['section']: \"\" for di in body_text}\n",
    "    \n",
    "    for section, text in texts:\n",
    "        texts_di[section] += text\n",
    "\n",
    "    body = \"\"\n",
    "\n",
    "    for section, text in texts_di.items():\n",
    "        body += section\n",
    "        body += \"\\n\\n\"\n",
    "        body += text\n",
    "        body += \"\\n\\n\"\n",
    "    \n",
    "    return body\n",
    "\n",
    "def format_bib(bibs):\n",
    "    if type(bibs) == dict:\n",
    "        bibs = list(bibs.values())\n",
    "    bibs = deepcopy(bibs)\n",
    "    formatted = []\n",
    "    \n",
    "    for bib in bibs:\n",
    "        bib['authors'] = format_authors(\n",
    "            bib['authors'], \n",
    "            with_affiliation=False\n",
    "        )\n",
    "        formatted_ls = [str(bib[k]) for k in ['title', 'authors', 'venue', 'year']]\n",
    "        formatted.append(\", \".join(formatted_ls))\n",
    "\n",
    "    return \"; \".join(formatted)"
   ]
  },
  {
   "cell_type": "code",
   "execution_count": 4,
   "metadata": {},
   "outputs": [],
   "source": [
    "def load_files(dirname):\n",
    "    filenames = os.listdir(dirname)\n",
    "    raw_files = []\n",
    "\n",
    "    for filename in tqdm(filenames):\n",
    "        filename = dirname + filename\n",
    "        file = json.load(open(filename, 'rb'))\n",
    "        raw_files.append(file)\n",
    "    \n",
    "    return raw_files\n",
    "\n",
    "def generate_clean_df(all_files):\n",
    "    cleaned_files = []\n",
    "    \n",
    "    for file in tqdm(all_files):\n",
    "        features = [\n",
    "            file['paper_id'],\n",
    "            file['metadata']['title'],\n",
    "            format_authors(file['metadata']['authors']),\n",
    "            format_authors(file['metadata']['authors'], \n",
    "                           with_affiliation=True),\n",
    "            format_body(file['abstract']),\n",
    "            format_body(file['body_text']),\n",
    "            format_bib(file['bib_entries']),\n",
    "            file['metadata']['authors'],\n",
    "            file['bib_entries']\n",
    "        ]\n",
    "\n",
    "        cleaned_files.append(features)\n",
    "\n",
    "    col_names = ['paper_id', 'title', 'authors',\n",
    "                 'affiliations', 'abstract', 'text', \n",
    "                 'bibliography','raw_authors','raw_bibliography']\n",
    "\n",
    "    clean_df = pd.DataFrame(cleaned_files, columns=col_names)\n",
    "    clean_df.head()\n",
    "    \n",
    "    return clean_df"
   ]
  },
  {
   "cell_type": "markdown",
   "metadata": {},
   "source": [
    "> ### Biorxiv- Exploration:\n"
   ]
  },
  {
   "cell_type": "code",
   "execution_count": 5,
   "metadata": {},
   "outputs": [
    {
     "name": "stdout",
     "output_type": "stream",
     "text": [
      "Number of articles retrieved from biorxiv: 803\n"
     ]
    }
   ],
   "source": [
    "biorxiv_dir = '2020-03-13/biorxiv_medrxiv/biorxiv_medrxiv/'\n",
    "filenames = os.listdir(biorxiv_dir)\n",
    "print(\"Number of articles retrieved from biorxiv:\", len(filenames))"
   ]
  },
  {
   "cell_type": "code",
   "execution_count": 6,
   "metadata": {},
   "outputs": [],
   "source": [
    "all_files = []\n",
    "\n",
    "for filename in filenames:\n",
    "    filename = biorxiv_dir + filename\n",
    "    file = json.load(open(filename, 'rb'))\n",
    "    all_files.append(file)"
   ]
  },
  {
   "cell_type": "code",
   "execution_count": 7,
   "metadata": {},
   "outputs": [
    {
     "name": "stdout",
     "output_type": "stream",
     "text": [
      "Dictionary keys: dict_keys(['paper_id', 'metadata', 'abstract', 'body_text', 'bib_entries', 'ref_entries', 'back_matter'])\n"
     ]
    }
   ],
   "source": [
    "file = all_files[0]\n",
    "print(\"Dictionary keys:\", file.keys())"
   ]
  },
  {
   "cell_type": "markdown",
   "metadata": {},
   "source": [
    "> ### Biorxiv- Abstract:"
   ]
  },
  {
   "cell_type": "code",
   "execution_count": 8,
   "metadata": {},
   "outputs": [
    {
     "name": "stdout",
     "output_type": "stream",
     "text": [
      "[{'cite_spans': [],\n",
      "  'ref_spans': [],\n",
      "  'section': 'Abstract',\n",
      "  'text': 'word count: 194 22 Text word count: 5168 23 24 25 author/funder. '\n",
      "          'All rights reserved. No reuse allowed without permission. Abstract '\n",
      "          '27 The positive stranded RNA genomes of picornaviruses comprise a '\n",
      "          'single large open reading 28 frame flanked by 5′ and 3′ '\n",
      "          'untranslated regions (UTRs). Foot-and-mouth disease virus (FMDV) 29 '\n",
      "          'has an unusually large 5′ UTR (1.3 kb) containing five structural '\n",
      "          'domains. These include the 30 internal ribosome entry site (IRES), '\n",
      "          'which facilitates initiation of translation, and the cis-acting 31 '\n",
      "          'replication element (cre). Less well characterised structures are a '\n",
      "          '5′ terminal 360 nucleotide 32 stem-loop, a variable length '\n",
      "          'poly-C-tract of approximately 100-200 nucleotides and a series of '\n",
      "          '33 two to four tandemly repeated pseudoknots (PKs). We investigated '\n",
      "          'the structures of the PKs 34 by selective 2′ hydroxyl acetylation '\n",
      "          'analysed by primer extension (SHAPE) analysis and 35 determined '\n",
      "          'their contribution to genome replication by mutation and deletion '\n",
      "          'experiments. 36 SHAPE and mutation experiments confirmed the '\n",
      "          'importance of the previously predicted PK 37 structures for their '\n",
      "          'function. Deletion experiments showed that although PKs are not '\n",
      "          'essential 38'},\n",
      " {'cite_spans': [],\n",
      "  'ref_spans': [],\n",
      "  'section': 'Abstract',\n",
      "  'text': 'for replication, they provide genomes with a competitive advantage. '\n",
      "          'However, although 39 replicons and full-length genomes lacking all '\n",
      "          'PKs were replication competent, no infectious 40 virus was rescued '\n",
      "          'from genomes containing less than one PK copy. This is consistent '\n",
      "          'with our 41 earlier report describing the presence of putative '\n",
      "          'packaging signals in the PK region. 42 43 author/funder. All rights '\n",
      "          'reserved. No reuse allowed without permission.'}]\n"
     ]
    }
   ],
   "source": [
    "pprint(file['abstract'])"
   ]
  },
  {
   "cell_type": "markdown",
   "metadata": {},
   "source": [
    "> ### Biorxiv- body text:"
   ]
  },
  {
   "cell_type": "code",
   "execution_count": 9,
   "metadata": {},
   "outputs": [
    {
     "name": "stdout",
     "output_type": "stream",
     "text": [
      "body_text type: <class 'list'>\n",
      "body_text length: 20\n",
      "body_text keys: dict_keys(['text', 'cite_spans', 'ref_spans', 'section'])\n"
     ]
    }
   ],
   "source": [
    "print(\"body_text type:\", type(file['body_text']))\n",
    "print(\"body_text length:\", len(file['body_text']))\n",
    "print(\"body_text keys:\", file['body_text'][0].keys())"
   ]
  },
  {
   "cell_type": "code",
   "execution_count": 10,
   "metadata": {},
   "outputs": [
    {
     "name": "stdout",
     "output_type": "stream",
     "text": [
      "body_text content:\n",
      "[{'cite_spans': [],\n",
      "  'ref_spans': [{...}],\n",
      "  'section': '',\n",
      "  'text': 'VP3, and VP0 (which is further processed to VP2 and VP4 during '\n",
      "          'virus assembly) (6). The P2 64 and P3 regions encode the '\n",
      "          'non-structural proteins 2B and 2C and 3A, 3B (1-3) (VPg), 3C pro '\n",
      "          'and 4 structural protein-coding region is replaced by reporter '\n",
      "          'genes, allow the study of genome 68 replication without the '\n",
      "          'requirement for high containment (9, 10) ( figure 1A ).'},\n",
      " {'cite_spans': [{...}, {...}, {...}, {...}, {...}, {...}],\n",
      "  'ref_spans': [],\n",
      "  'section': '70',\n",
      "  'text': 'The FMDV 5′ UTR is the largest known picornavirus UTR, comprising '\n",
      "          'approximately 1300 71 nucleotides and containing several highly '\n",
      "          'structured regions. The first 360 nucleotides at the 5′ 72 end are '\n",
      "          'predicted to fold into a single large stem loop termed the '\n",
      "          'S-fragment, followed by a The PKs were originally predicted in 1987 '\n",
      "          'and consist of two to four tandem repeats of a ~48 86 nucleotide '\n",
      "          'region containing a small stem loop and downstream interaction site '\n",
      "          '(figure 1B) 87 (12). Due to the sequence similarity between the PKs '\n",
      "          '(figure 1C), it is speculated that they 88 were formed by '\n",
      "          'duplication events during viral replication, probably involving '\n",
      "          'recombination. 89 Between two and four PKs are present in different '\n",
      "          'virus isolates but no strain has been 90 identified with less than '\n",
      "          'two PKs, emphasising their potential importance in the viral life '\n",
      "          'cycle 91 (19, 20) . The presence of PKs has been reported in the 5′ '\n",
      "          'UTR of other picornaviruses such as 92 author/funder. All rights '\n",
      "          'reserved. No reuse allowed without permission. can occur in the '\n",
      "          'absence of PKs at least one is required for wild-type (wt) '\n",
      "          'replication. 104 Furthermore, competition experiments showed that '\n",
      "          'extra copies of PKs conferred a replicative 105 advantage to '\n",
      "          'genomes. Although replicons and full-length genomes lacking PKs '\n",
      "          'were 106 replication-competent, no infectious virus was rescued '\n",
      "          'from genomes containing less than one 107 PK copy. This is '\n",
      "          'consistent with our earlier report describing the presence of '\n",
      "          'putative 108 packaging signals in the PK region (22). 109 110 '\n",
      "          'author/funder. All rights reserved. No reuse allowed without '\n",
      "          'permission. Plasmid construction. 117 The FMDV replicon plasmids, '\n",
      "          'pRep-ptGFP, and the replication-defective polymerase mutant 118 '\n",
      "          'control, 3D-GNN, have already been described (10).'}]\n"
     ]
    }
   ],
   "source": [
    "print(\"body_text content:\")\n",
    "pprint(file['body_text'][:2], depth=3)"
   ]
  },
  {
   "cell_type": "code",
   "execution_count": 11,
   "metadata": {},
   "outputs": [
    {
     "name": "stdout",
     "output_type": "stream",
     "text": [
      "['',\n",
      " '70',\n",
      " '120',\n",
      " '135',\n",
      " '136',\n",
      " '144',\n",
      " '301',\n",
      " 'Function of the PKs in replication is dependent on downstream interactions '\n",
      " 'and 350',\n",
      " '368',\n",
      " '468',\n",
      " '479']\n"
     ]
    }
   ],
   "source": [
    "texts = [(di['section'], di['text']) for di in file['body_text']]\n",
    "texts_di = {di['section']: \"\" for di in file['body_text']}\n",
    "for section, text in texts:\n",
    "    texts_di[section] += text\n",
    "\n",
    "pprint(list(texts_di.keys()))"
   ]
  },
  {
   "cell_type": "code",
   "execution_count": 12,
   "metadata": {},
   "outputs": [
    {
     "name": "stdout",
     "output_type": "stream",
     "text": [
      "\n",
      "\n",
      "VP3, and VP0 (which is further processed to VP2 and VP4 during virus assembly) (6). The P2 64 and P3 regions encode the non-structural proteins 2B and 2C and 3A, 3B (1-3) (VPg), 3C pro and 4 structural protein-coding region is replaced by reporter genes, allow the study of genome 68 replication without the requirement for high containment (9, 10) ( figure 1A ).\n",
      "\n",
      "70\n",
      "\n",
      "The FMDV 5′ UTR is the largest known picornavirus UTR, comprising approximately 1300 71 nucleotides and containing several highly structured regions. The first 360 nucleotides at the 5′ 72 end are predicted to fold into a single large stem loop termed the S-fragment, followed by a The PKs were originally predicted in 1987 and consist of two to four tandem repeats of a ~48 86 nucleotide region containing a small stem loop and downstream interaction site (figure 1B) 87 (12). Due to the sequence similarity between the PKs (figure 1C), it is speculated that they 88 were formed by duplication events during viral replication, probably involving recombination. 89 Between two and four PKs are present in different virus isolates but no strain has been 90 identified with less than two PKs, emphasising their potential importance in the viral life cycle 91 (19, 20) . The presence of PKs has been reported in the 5′ UTR of other picornaviruses such as 92 author/funder. All rights reserved. No reuse allowed without permission. can occur in the absence of PKs at least one is required for wild-type (wt) replication. 104 Furthermore, competition experiments showed that extra copies of PKs conferred a replicative 105 advantage to genomes. Although replicons and full-length genomes lacking PKs were 106 replication-competent, no infectious virus was rescued from genomes containing less than one 107 PK copy. This is consistent with our earlier report describing the presence of putative 108 packaging signals in the PK region (22). 109 110 author/funder. All rights reserved. No reuse allowed without permission. Plasmid construction. 117 The FMDV replicon plasmids, pRep-ptGFP, and the replication-defective polymerase mutant 118 control, 3D-GNN, have already been described (10).\n",
      "\n",
      "120\n",
      "\n",
      "To introduce mutations into the PK region, the pRep-ptGFP replicon plasmid was digested 121 with SpeI and KpnI and the resulting fragment inserted into a sub-cloning vector (pBluescript) 122 to create the pBluescript PK. PKs 3 and 4 were removed by digestion with HindIII and AatII 123 before insertion of a synthetic DNA sequence with PK 3 and 4 deleted. PKs 2, 3 and 4 were 124 deleted by PCR amplification using ΔPK 234 Forward primer and FMDV 1331-1311 reverse 125 primer, the resultant product was digested with HindIII and AatII and ligated into the 126 pBluescript PK vector. Complete PK deletion was achieved by introduction of an AflII site at 127 the 3′ end of the poly-C tract by PCR mutagenesis to create the sub-cloning vector, pBluescript 128 C11, which was then used to remove all the PKs by PCR mutagenesis using ΔPK 1234 f\n"
     ]
    }
   ],
   "source": [
    "body = \"\"\n",
    "\n",
    "for section, text in texts_di.items():\n",
    "    body += section\n",
    "    body += \"\\n\\n\"\n",
    "    body += text\n",
    "    body += \"\\n\\n\"\n",
    "\n",
    "print(body[:3000])"
   ]
  },
  {
   "cell_type": "code",
   "execution_count": 13,
   "metadata": {},
   "outputs": [
    {
     "name": "stdout",
     "output_type": "stream",
     "text": [
      "\n",
      "\n",
      "VP3, and VP0 (which is further processed to VP2 and VP4 during virus assembly) (6). The P2 64 and P3 regions encode the non-structural proteins 2B and 2C and 3A, 3B (1-3) (VPg), 3C pro and 4 structural protein-coding region is replaced by reporter genes, allow the study of genome 68 replication without the requirement for high containment (9, 10) ( figure 1A ).\n",
      "\n",
      "70\n",
      "\n",
      "The FMDV 5′ UTR is the largest known picornavirus UTR, comprising approximately 1300 71 nucleotides and containing several highly structured regions. The first 360 nucleotides at the 5′ 72 end are predicted to fold into a single large stem loop termed the S-fragment, followed by a The PKs were originally predicted in 1987 and consist of two to four tandem repeats of a ~48 86 nucleotide region containing a small stem loop and downstream interaction site (figure 1B) 87 (12). Due to the sequence similarity between the PKs (figure 1C), it is speculated that they 88 were formed by duplication events during viral replication, probably involving recombination. 89 Between two and four PKs are present in different virus isolates but no strain has been 90 identified with less than two PKs, emphasising their potential importance in the viral life cycle 91 (19, 20) . The presence of PKs has been reported in the 5′ UTR of other picornaviruses such as 92 author/funder. All rights reserved. No reuse allowed without permission. can occur in the absence of PKs at least one is required for wild-type (wt) replication. 104 Furthermore, competition experiments showed that extra copies of PKs conferred a replicative 105 advantage to genomes. Although replicons and full-length genomes lacking PKs were 106 replication-competent, no infectious virus was rescued from genomes containing less than one 107 PK copy. This is consistent with our earlier report describing the presence of putative 108 packaging signals in the PK region (22). 109 110 author/funder. All rights reserved. No reuse allowed without permission. Plasmid construction. 117 The FMDV replicon plasmids, pRep-ptGFP, and the replication-defective polymerase mutant 118 control, 3D-GNN, have already been described (10).\n",
      "\n",
      "120\n",
      "\n",
      "To introduce mutations into the PK region, the pRep-ptGFP replicon plasmid was digested 121 with SpeI and KpnI and the resulting fragment inserted into a sub-cloning vector (pBluescript) 122 to create the pBluescript PK. PKs 3 and 4 were removed by digestion with HindIII and AatII 123 before insertion of a synthetic DNA sequence with PK 3 and 4 deleted. PKs 2, 3 and 4 were 124 deleted by PCR amplification using ΔPK 234 Forward primer and FMDV 1331-1311 reverse 125 primer, the resultant product was digested with HindIII and AatII and ligated into the 126 pBluescript PK vector. Complete PK deletion was achieved by introduction of an AflII site at 127 the 3′ end of the poly-C tract by PCR mutagenesis to create the sub-cloning vector, pBluescript 128 C11, which was then used to remove all the PKs by PCR mutagenesis using ΔPK 1234 f\n"
     ]
    }
   ],
   "source": [
    "print(format_body(file['body_text'])[:3000])"
   ]
  },
  {
   "cell_type": "markdown",
   "metadata": {},
   "source": [
    "> ### Biorxiv- Metadata:"
   ]
  },
  {
   "cell_type": "code",
   "execution_count": 14,
   "metadata": {},
   "outputs": [
    {
     "name": "stdout",
     "output_type": "stream",
     "text": [
      "dict_keys(['title', 'authors'])\n"
     ]
    }
   ],
   "source": [
    "print(all_files[0]['metadata'].keys())"
   ]
  },
  {
   "cell_type": "code",
   "execution_count": 15,
   "metadata": {},
   "outputs": [
    {
     "name": "stdout",
     "output_type": "stream",
     "text": [
      "The RNA pseudoknots in foot-and-mouth disease virus are dispensable for genome replication but essential for the production of infectious virus. 2 3\n"
     ]
    }
   ],
   "source": [
    "print(all_files[0]['metadata']['title'])"
   ]
  },
  {
   "cell_type": "code",
   "execution_count": 16,
   "metadata": {},
   "outputs": [
    {
     "name": "stdout",
     "output_type": "stream",
     "text": [
      "[{'affiliation': {},\n",
      "  'email': '',\n",
      "  'first': 'Joseph',\n",
      "  'last': 'Ward',\n",
      "  'middle': ['C'],\n",
      "  'suffix': ''},\n",
      " {'affiliation': {},\n",
      "  'email': '',\n",
      "  'first': 'Lidia',\n",
      "  'last': 'Lasecka-Dykes',\n",
      "  'middle': [],\n",
      "  'suffix': ''},\n",
      " {'affiliation': {},\n",
      "  'email': '',\n",
      "  'first': 'Chris',\n",
      "  'last': 'Neil',\n",
      "  'middle': [],\n",
      "  'suffix': ''}]\n"
     ]
    }
   ],
   "source": [
    "authors = all_files[0]['metadata']['authors']\n",
    "pprint(authors[:3])"
   ]
  },
  {
   "cell_type": "code",
   "execution_count": 17,
   "metadata": {},
   "outputs": [
    {
     "name": "stdout",
     "output_type": "stream",
     "text": [
      "Name: Joseph C Ward\n",
      "Affiliation: \n",
      "\n",
      "Name: Lidia Lasecka-Dykes\n",
      "Affiliation: \n",
      "\n",
      "Name: Chris Neil\n",
      "Affiliation: \n",
      "\n",
      "Name: Oluwapelumi Adeyemi\n",
      "Affiliation: \n",
      "\n",
      "Name: Sarah \n",
      "Affiliation: \n",
      "\n",
      "Name:  Gold\n",
      "Affiliation: \n",
      "\n",
      "Name: Niall Mclean\n",
      "Affiliation: \n",
      "\n",
      "Name: Caroline Wright\n",
      "Affiliation: \n",
      "\n",
      "Name: Morgan R Herod\n",
      "Affiliation: \n",
      "\n",
      "Name: David Kealy\n",
      "Affiliation: \n",
      "\n",
      "Name: Emma \n",
      "Affiliation: \n",
      "\n",
      "Name: Warner \n",
      "Affiliation: \n",
      "\n",
      "Name: Donald P King\n",
      "Affiliation: \n",
      "\n",
      "Name: Tobias J Tuthill\n",
      "Affiliation: \n",
      "\n",
      "Name: David J Rowlands\n",
      "Affiliation: \n",
      "\n",
      "Name: Nicola J \n",
      "Affiliation: \n",
      "\n",
      "Name: Stonehouse A#\n",
      "Affiliation: \n",
      "\n"
     ]
    }
   ],
   "source": [
    "for author in authors:\n",
    "    print(\"Name:\", format_name(author))\n",
    "    print(\"Affiliation:\", format_affiliation(author['affiliation']))\n",
    "    print()"
   ]
  },
  {
   "cell_type": "code",
   "execution_count": 18,
   "metadata": {},
   "outputs": [
    {
     "name": "stdout",
     "output_type": "stream",
     "text": [
      "{'authors': [{'affiliation': {'institution': 'Chinese Academy of Sciences',\n",
      "                              'laboratory': '',\n",
      "                              'location': {...}},\n",
      "              'email': '',\n",
      "              'first': 'Xiaoyang',\n",
      "              'last': 'Ji',\n",
      "              'middle': [],\n",
      "              'suffix': ''},\n",
      "             {'affiliation': {'institution': 'Chinese Academy of Sciences',\n",
      "                              'laboratory': '',\n",
      "                              'location': {...}},\n",
      "              'email': '',\n",
      "              'first': 'Chunming',\n",
      "              'last': 'Zhang',\n",
      "              'middle': [],\n",
      "              'suffix': ''},\n",
      "             {'affiliation': {'institution': 'Chinese Academy of Sciences',\n",
      "                              'laboratory': 'State Key Laboratory of Computer '\n",
      "                                            'Architecture',\n",
      "                              'location': {...}},\n",
      "              'email': '',\n",
      "              'first': 'Yubo',\n",
      "              'last': 'Zhai',\n",
      "              'middle': [],\n",
      "              'suffix': ''},\n",
      "             {'affiliation': {},\n",
      "              'email': '',\n",
      "              'first': 'Zhonghai',\n",
      "              'last': 'Zhang',\n",
      "              'middle': [],\n",
      "              'suffix': ''},\n",
      "             {'affiliation': {'institution': 'Phil Rivers Technology',\n",
      "                              'laboratory': '',\n",
      "                              'location': {...}},\n",
      "              'email': '',\n",
      "              'first': 'Chunli',\n",
      "              'last': 'Zhang',\n",
      "              'middle': [],\n",
      "              'suffix': ''},\n",
      "             {'affiliation': {'institution': 'Chinese Academy of Sciences',\n",
      "                              'laboratory': '',\n",
      "                              'location': {...}},\n",
      "              'email': '',\n",
      "              'first': 'Yiqing',\n",
      "              'last': 'Xue',\n",
      "              'middle': [],\n",
      "              'suffix': ''},\n",
      "             {'affiliation': {'institution': 'Chinese Academy of Sciences',\n",
      "                              'laboratory': 'State Key Laboratory of Computer '\n",
      "                                            'Architecture',\n",
      "                              'location': {...}},\n",
      "              'email': '',\n",
      "              'first': 'Guangming',\n",
      "              'last': 'Tan',\n",
      "              'middle': [],\n",
      "              'suffix': ''},\n",
      "             {'affiliation': {'institution': 'Chinese Academy of Sciences',\n",
      "                              'laboratory': '',\n",
      "                              'location': {...}},\n",
      "              'email': 'g.niu@philrivers.com',\n",
      "              'first': 'Gang',\n",
      "              'last': 'Niu',\n",
      "              'middle': [],\n",
      "              'suffix': ''}],\n",
      " 'title': 'TWIRLS, an automated topic-wise inference method based on massive '\n",
      "          'literature, suggests a possible mechanism via ACE2 for the '\n",
      "          'pathological changes in the human host after coronavirus infection'}\n"
     ]
    }
   ],
   "source": [
    "pprint(all_files[4]['metadata'], depth=4)"
   ]
  },
  {
   "cell_type": "code",
   "execution_count": 19,
   "metadata": {},
   "outputs": [
    {
     "name": "stdout",
     "output_type": "stream",
     "text": [
      "Formatting without affiliation:\n",
      "Xiaoyang Ji, Chunming Zhang, Yubo Zhai, Zhonghai Zhang, Chunli Zhang, Yiqing Xue, Guangming Tan, Gang Niu\n",
      "\n",
      "Formatting with affiliation:\n",
      "Xiaoyang Ji (Chinese Academy of Sciences, Beijing, China), Chunming Zhang (Chinese Academy of Sciences, Beijing, China), Yubo Zhai (Chinese Academy of Sciences, Beijing, China), Zhonghai Zhang, Chunli Zhang (Phil Rivers Technology, Beijing, China), Yiqing Xue (Chinese Academy of Sciences, Beijing, China), Guangming Tan (Chinese Academy of Sciences, Beijing, China), Gang Niu (Chinese Academy of Sciences, Beijing, China)\n"
     ]
    }
   ],
   "source": [
    "authors = all_files[4]['metadata']['authors']\n",
    "print(\"Formatting without affiliation:\")\n",
    "print(format_authors(authors, with_affiliation=False))\n",
    "print(\"\\nFormatting with affiliation:\")\n",
    "print(format_authors(authors, with_affiliation=True))"
   ]
  },
  {
   "cell_type": "markdown",
   "metadata": {},
   "source": [
    "> ### Biorxiv- bibliography:"
   ]
  },
  {
   "cell_type": "code",
   "execution_count": 20,
   "metadata": {},
   "outputs": [
    {
     "name": "stdout",
     "output_type": "stream",
     "text": [
      "[{'authors': [{'first': 'T', 'last': 'Jackson', 'middle': [], 'suffix': ''},\n",
      "              {'first': 'T', 'last': 'Tuthill', 'middle': [...], 'suffix': ''},\n",
      "              {'first': 'D', 'last': 'Rowlands', 'middle': [...], 'suffix': ''},\n",
      "              {'first': 'N',\n",
      "               'last': 'Stonehouse',\n",
      "               'middle': [...],\n",
      "               'suffix': ''}],\n",
      "  'issn': '',\n",
      "  'other_ids': {},\n",
      "  'pages': '',\n",
      "  'ref_id': 'b0',\n",
      "  'title': 'Genetic economy in 598 picornaviruses: Foot-and-mouth disease '\n",
      "           'virus replication exploits alternative precursor 599 cleavage '\n",
      "           'pathways',\n",
      "  'venue': 'PLOS Pathog',\n",
      "  'volume': '13',\n",
      "  'year': 2017},\n",
      " {'authors': [{'first': 'N',\n",
      "               'last': 'Sanderson',\n",
      "               'middle': [...],\n",
      "               'suffix': ''},\n",
      "              {'first': 'N', 'last': 'Knowles', 'middle': [...], 'suffix': ''},\n",
      "              {'first': 'D', 'last': 'King', 'middle': [...], 'suffix': ''},\n",
      "              {'first': 'E', 'last': 'Cottam', 'middle': [...], 'suffix': ''}],\n",
      "  'issn': '',\n",
      "  'other_ids': {},\n",
      "  'pages': '',\n",
      "  'ref_id': 'b2',\n",
      "  'title': 'A universal protocol to 602 generate consensus level genome '\n",
      "           'sequences for foot-and-mouth disease virus and other 603 '\n",
      "           'positive-sense polyadenylated RNA viruses using the Illumina MiSeq',\n",
      "  'venue': 'BMC Genomics',\n",
      "  'volume': '604',\n",
      "  'year': 2014}]\n"
     ]
    }
   ],
   "source": [
    "bibs = list(file['bib_entries'].values())\n",
    "pprint(bibs[:2], depth=4)"
   ]
  },
  {
   "cell_type": "code",
   "execution_count": 21,
   "metadata": {},
   "outputs": [
    {
     "data": {
      "text/plain": [
       "'N D Sanderson, N J Knowles, D P King, E M Cottam'"
      ]
     },
     "execution_count": 21,
     "metadata": {},
     "output_type": "execute_result"
    }
   ],
   "source": [
    "format_authors(bibs[1]['authors'], with_affiliation=False)"
   ]
  },
  {
   "cell_type": "code",
   "execution_count": 22,
   "metadata": {},
   "outputs": [
    {
     "name": "stdout",
     "output_type": "stream",
     "text": [
      "Genetic economy in 598 picornaviruses: Foot-and-mouth disease virus replication exploits alternative precursor 599 cleavage pathways, T Jackson, T J Tuthill, D J Rowlands, N J Stonehouse, PLOS Pathog, 2017; A universal protocol to 602 generate consensus level genome sequences for foot-and-mouth disease virus and other 603 positive-sense polyadenylated RNA viruses using the Illumina MiSeq, N D Sanderson, N J Knowles, D P King, E M Cottam, BMC Genomics, 2014; Library preparation for highly accurate population 606 sequencing of RNA viruses, A Acevedo, R Andino, Nat Protoc, 2014; IDBA-UD: a de novo assembler for 608 single-cell and metagenomic sequencing data with highly uneven depth, Y Peng, Hcm Leung, S M Yiu, Fyl Chin, , 2012; Basic local alignment 611 search tool, S F Altschul, W Gish, W Miller, E W Myers, D J Lipman, J Mol Biol, 1990\n"
     ]
    }
   ],
   "source": [
    "bib_formatted = format_bib(bibs[:5])\n",
    "print(bib_formatted)"
   ]
  },
  {
   "cell_type": "markdown",
   "metadata": {},
   "source": [
    "> ## Biorxiv- Generate CSV:"
   ]
  },
  {
   "cell_type": "code",
   "execution_count": 27,
   "metadata": {},
   "outputs": [
    {
     "name": "stderr",
     "output_type": "stream",
     "text": [
      "100%|███████████████████████████████████████████████████████████████████████████████| 803/803 [00:02<00:00, 286.91it/s]\n"
     ]
    }
   ],
   "source": [
    "cleaned_files = []\n",
    "\n",
    "for file in tqdm(all_files):\n",
    "    features = [\n",
    "        file['paper_id'],\n",
    "        file['metadata']['title'],\n",
    "        format_authors(file['metadata']['authors']),\n",
    "        format_authors(file['metadata']['authors'], \n",
    "                       with_affiliation=True),\n",
    "        format_body(file['abstract']),\n",
    "        format_body(file['body_text']),\n",
    "        format_bib(file['bib_entries']),\n",
    "        file['metadata']['authors'],\n",
    "        file['bib_entries']\n",
    "    ]\n",
    "    \n",
    "    cleaned_files.append(features)"
   ]
  },
  {
   "cell_type": "code",
   "execution_count": 28,
   "metadata": {},
   "outputs": [
    {
     "data": {
      "text/html": [
       "<div>\n",
       "<style scoped>\n",
       "    .dataframe tbody tr th:only-of-type {\n",
       "        vertical-align: middle;\n",
       "    }\n",
       "\n",
       "    .dataframe tbody tr th {\n",
       "        vertical-align: top;\n",
       "    }\n",
       "\n",
       "    .dataframe thead th {\n",
       "        text-align: right;\n",
       "    }\n",
       "</style>\n",
       "<table border=\"1\" class=\"dataframe\">\n",
       "  <thead>\n",
       "    <tr style=\"text-align: right;\">\n",
       "      <th></th>\n",
       "      <th>paper_id</th>\n",
       "      <th>title</th>\n",
       "      <th>authors</th>\n",
       "      <th>affiliations</th>\n",
       "      <th>abstract</th>\n",
       "      <th>text</th>\n",
       "      <th>bibliography</th>\n",
       "      <th>raw_authors</th>\n",
       "      <th>raw_bibliography</th>\n",
       "    </tr>\n",
       "  </thead>\n",
       "  <tbody>\n",
       "    <tr>\n",
       "      <th>0</th>\n",
       "      <td>0015023cc06b5362d332b3baf348d11567ca2fbb</td>\n",
       "      <td>The RNA pseudoknots in foot-and-mouth disease ...</td>\n",
       "      <td>Joseph C Ward, Lidia Lasecka-Dykes, Chris Neil...</td>\n",
       "      <td>Joseph C Ward, Lidia Lasecka-Dykes, Chris Neil...</td>\n",
       "      <td>Abstract\\n\\nword count: 194 22 Text word count...</td>\n",
       "      <td>\\n\\nVP3, and VP0 (which is further processed t...</td>\n",
       "      <td>Genetic economy in 598 picornaviruses: Foot-an...</td>\n",
       "      <td>[{'first': 'Joseph', 'middle': ['C'], 'last': ...</td>\n",
       "      <td>{'BIBREF0': {'ref_id': 'b0', 'title': 'Genetic...</td>\n",
       "    </tr>\n",
       "    <tr>\n",
       "      <th>1</th>\n",
       "      <td>004f0f8bb66cf446678dc13cf2701feec4f36d76</td>\n",
       "      <td>Healthcare-resource-adjusted vulnerabilities t...</td>\n",
       "      <td>Hanchu Zhou, Jiannan Yang, Kaicheng Tang, † , ...</td>\n",
       "      <td>Hanchu Zhou (City University of Hong Kong, Hon...</td>\n",
       "      <td></td>\n",
       "      <td>Introduction\\n\\nThe 2019-nCoV epidemic has spr...</td>\n",
       "      <td>World Health Organizations. Novel Coronavirus ...</td>\n",
       "      <td>[{'first': 'Hanchu', 'middle': [], 'last': 'Zh...</td>\n",
       "      <td>{'BIBREF0': {'ref_id': 'b0', 'title': 'World H...</td>\n",
       "    </tr>\n",
       "    <tr>\n",
       "      <th>2</th>\n",
       "      <td>00d16927588fb04d4be0e6b269fc02f0d3c2aa7b</td>\n",
       "      <td>Real-time, MinION-based, amplicon sequencing f...</td>\n",
       "      <td>Salman L Butt, Eric C Erwood, Jian Zhang, Holl...</td>\n",
       "      <td>Salman L Butt (University of Georgia, 30602, A...</td>\n",
       "      <td>Abstract\\n\\nInfectious bronchitis (IB) causes ...</td>\n",
       "      <td>Introduction\\n\\nInfectious bronchitis (IB), wh...</td>\n",
       "      <td>Emergence of novel strains of avian infectious...</td>\n",
       "      <td>[{'first': 'Salman', 'middle': ['L'], 'last': ...</td>\n",
       "      <td>{'BIBREF0': {'ref_id': 'b0', 'title': 'Emergen...</td>\n",
       "    </tr>\n",
       "    <tr>\n",
       "      <th>3</th>\n",
       "      <td>013d9d1cba8a54d5d3718c229b812d7cf91b6c89</td>\n",
       "      <td>Assessing spread risk of Wuhan novel coronavir...</td>\n",
       "      <td>Shengjie Lai, Isaac I Bogoch, Nick W Ruktanonc...</td>\n",
       "      <td>Shengjie Lai (University of Southampton, UK), ...</td>\n",
       "      <td>Abstract\\n\\nBackground: A novel coronavirus (2...</td>\n",
       "      <td>Introduction\\n\\nIn December 2019, a cluster of...</td>\n",
       "      <td>A Novel Coronavirus Genome Identified in a Clu...</td>\n",
       "      <td>[{'first': 'Shengjie', 'middle': [], 'last': '...</td>\n",
       "      <td>{'BIBREF0': {'ref_id': 'b0', 'title': 'A Novel...</td>\n",
       "    </tr>\n",
       "    <tr>\n",
       "      <th>4</th>\n",
       "      <td>01d162d7fae6aaba8e6e60e563ef4c2fca7b0e18</td>\n",
       "      <td>TWIRLS, an automated topic-wise inference meth...</td>\n",
       "      <td>Xiaoyang Ji, Chunming Zhang, Yubo Zhai, Zhongh...</td>\n",
       "      <td>Xiaoyang Ji (Chinese Academy of Sciences, Beij...</td>\n",
       "      <td>Abstract\\n\\nFaced with the current large-scale...</td>\n",
       "      <td>Introduction\\n\\nThe sudden outbreak of the new...</td>\n",
       "      <td>A pneumonia outbreak associated with a new cor...</td>\n",
       "      <td>[{'first': 'Xiaoyang', 'middle': [], 'last': '...</td>\n",
       "      <td>{'BIBREF0': {'ref_id': 'b0', 'title': 'A pneum...</td>\n",
       "    </tr>\n",
       "  </tbody>\n",
       "</table>\n",
       "</div>"
      ],
      "text/plain": [
       "                                   paper_id  \\\n",
       "0  0015023cc06b5362d332b3baf348d11567ca2fbb   \n",
       "1  004f0f8bb66cf446678dc13cf2701feec4f36d76   \n",
       "2  00d16927588fb04d4be0e6b269fc02f0d3c2aa7b   \n",
       "3  013d9d1cba8a54d5d3718c229b812d7cf91b6c89   \n",
       "4  01d162d7fae6aaba8e6e60e563ef4c2fca7b0e18   \n",
       "\n",
       "                                               title  \\\n",
       "0  The RNA pseudoknots in foot-and-mouth disease ...   \n",
       "1  Healthcare-resource-adjusted vulnerabilities t...   \n",
       "2  Real-time, MinION-based, amplicon sequencing f...   \n",
       "3  Assessing spread risk of Wuhan novel coronavir...   \n",
       "4  TWIRLS, an automated topic-wise inference meth...   \n",
       "\n",
       "                                             authors  \\\n",
       "0  Joseph C Ward, Lidia Lasecka-Dykes, Chris Neil...   \n",
       "1  Hanchu Zhou, Jiannan Yang, Kaicheng Tang, † , ...   \n",
       "2  Salman L Butt, Eric C Erwood, Jian Zhang, Holl...   \n",
       "3  Shengjie Lai, Isaac I Bogoch, Nick W Ruktanonc...   \n",
       "4  Xiaoyang Ji, Chunming Zhang, Yubo Zhai, Zhongh...   \n",
       "\n",
       "                                        affiliations  \\\n",
       "0  Joseph C Ward, Lidia Lasecka-Dykes, Chris Neil...   \n",
       "1  Hanchu Zhou (City University of Hong Kong, Hon...   \n",
       "2  Salman L Butt (University of Georgia, 30602, A...   \n",
       "3  Shengjie Lai (University of Southampton, UK), ...   \n",
       "4  Xiaoyang Ji (Chinese Academy of Sciences, Beij...   \n",
       "\n",
       "                                            abstract  \\\n",
       "0  Abstract\\n\\nword count: 194 22 Text word count...   \n",
       "1                                                      \n",
       "2  Abstract\\n\\nInfectious bronchitis (IB) causes ...   \n",
       "3  Abstract\\n\\nBackground: A novel coronavirus (2...   \n",
       "4  Abstract\\n\\nFaced with the current large-scale...   \n",
       "\n",
       "                                                text  \\\n",
       "0  \\n\\nVP3, and VP0 (which is further processed t...   \n",
       "1  Introduction\\n\\nThe 2019-nCoV epidemic has spr...   \n",
       "2  Introduction\\n\\nInfectious bronchitis (IB), wh...   \n",
       "3  Introduction\\n\\nIn December 2019, a cluster of...   \n",
       "4  Introduction\\n\\nThe sudden outbreak of the new...   \n",
       "\n",
       "                                        bibliography  \\\n",
       "0  Genetic economy in 598 picornaviruses: Foot-an...   \n",
       "1  World Health Organizations. Novel Coronavirus ...   \n",
       "2  Emergence of novel strains of avian infectious...   \n",
       "3  A Novel Coronavirus Genome Identified in a Clu...   \n",
       "4  A pneumonia outbreak associated with a new cor...   \n",
       "\n",
       "                                         raw_authors  \\\n",
       "0  [{'first': 'Joseph', 'middle': ['C'], 'last': ...   \n",
       "1  [{'first': 'Hanchu', 'middle': [], 'last': 'Zh...   \n",
       "2  [{'first': 'Salman', 'middle': ['L'], 'last': ...   \n",
       "3  [{'first': 'Shengjie', 'middle': [], 'last': '...   \n",
       "4  [{'first': 'Xiaoyang', 'middle': [], 'last': '...   \n",
       "\n",
       "                                    raw_bibliography  \n",
       "0  {'BIBREF0': {'ref_id': 'b0', 'title': 'Genetic...  \n",
       "1  {'BIBREF0': {'ref_id': 'b0', 'title': 'World H...  \n",
       "2  {'BIBREF0': {'ref_id': 'b0', 'title': 'Emergen...  \n",
       "3  {'BIBREF0': {'ref_id': 'b0', 'title': 'A Novel...  \n",
       "4  {'BIBREF0': {'ref_id': 'b0', 'title': 'A pneum...  "
      ]
     },
     "execution_count": 28,
     "metadata": {},
     "output_type": "execute_result"
    }
   ],
   "source": [
    "col_names = [\n",
    "    'paper_id', \n",
    "    'title', \n",
    "    'authors',\n",
    "    'affiliations', \n",
    "    'abstract', \n",
    "    'text', \n",
    "    'bibliography',\n",
    "    'raw_authors',\n",
    "    'raw_bibliography'\n",
    "]\n",
    "\n",
    "clean_df = pd.DataFrame(cleaned_files, columns=col_names)\n",
    "clean_df.head()"
   ]
  },
  {
   "cell_type": "code",
   "execution_count": 32,
   "metadata": {
    "scrolled": false
   },
   "outputs": [],
   "source": [
    "clean_df.to_csv('2020-03-13/biorxiv/biorxiv_clean.csv', index=False)"
   ]
  },
  {
   "cell_type": "code",
   "execution_count": 33,
   "metadata": {},
   "outputs": [
    {
     "name": "stderr",
     "output_type": "stream",
     "text": [
      "100%|█████████████████████████████████████████████████████████████████████████████| 1426/1426 [00:03<00:00, 359.74it/s]\n",
      "100%|█████████████████████████████████████████████████████████████████████████████| 1426/1426 [00:05<00:00, 238.08it/s]\n"
     ]
    },
    {
     "data": {
      "text/html": [
       "<div>\n",
       "<style scoped>\n",
       "    .dataframe tbody tr th:only-of-type {\n",
       "        vertical-align: middle;\n",
       "    }\n",
       "\n",
       "    .dataframe tbody tr th {\n",
       "        vertical-align: top;\n",
       "    }\n",
       "\n",
       "    .dataframe thead th {\n",
       "        text-align: right;\n",
       "    }\n",
       "</style>\n",
       "<table border=\"1\" class=\"dataframe\">\n",
       "  <thead>\n",
       "    <tr style=\"text-align: right;\">\n",
       "      <th></th>\n",
       "      <th>paper_id</th>\n",
       "      <th>title</th>\n",
       "      <th>authors</th>\n",
       "      <th>affiliations</th>\n",
       "      <th>abstract</th>\n",
       "      <th>text</th>\n",
       "      <th>bibliography</th>\n",
       "      <th>raw_authors</th>\n",
       "      <th>raw_bibliography</th>\n",
       "    </tr>\n",
       "  </thead>\n",
       "  <tbody>\n",
       "    <tr>\n",
       "      <th>0</th>\n",
       "      <td>002f09dfc9a1323a15bf72e349d8b733ac97a2aa</td>\n",
       "      <td></td>\n",
       "      <td></td>\n",
       "      <td></td>\n",
       "      <td></td>\n",
       "      <td>\\n\\nT he modern word camel is derived from the...</td>\n",
       "      <td>Ancient and modern DNA reveal dynamics of dome...</td>\n",
       "      <td>[]</td>\n",
       "      <td>{'BIBREF0': {'ref_id': 'b0', 'title': 'Ancient...</td>\n",
       "    </tr>\n",
       "    <tr>\n",
       "      <th>1</th>\n",
       "      <td>0036e8891c93ae63611bde179ada1e03e8577dea</td>\n",
       "      <td>Stable Occupancy of the Crimean-Congo Hemorrha...</td>\n",
       "      <td>Florine E M Scholte, Brian L Hua, Jessica R Sp...</td>\n",
       "      <td>Florine E M Scholte (National Center for Emerg...</td>\n",
       "      <td>Abstract\\n\\nCrimean-Congo hemorrhagic fever vi...</td>\n",
       "      <td>\\n\\nto Western Europe with the assistance of m...</td>\n",
       "      <td>Seroepidemiological studies of Crimean-Congo h...</td>\n",
       "      <td>[{'first': 'Florine', 'middle': ['E M'], 'last...</td>\n",
       "      <td>{'BIBREF0': {'ref_id': 'b0', 'title': 'Seroepi...</td>\n",
       "    </tr>\n",
       "    <tr>\n",
       "      <th>2</th>\n",
       "      <td>00573277e6be50669016f770bc28ec2da0639a8f</td>\n",
       "      <td>Asymptomatic Severe Acute Respiratory Syndrome...</td>\n",
       "      <td></td>\n",
       "      <td></td>\n",
       "      <td></td>\n",
       "      <td>\\n\\nWe identified a nurse who was asymptomatic...</td>\n",
       "      <td>Coronavirus as a possible cause of severe acut...</td>\n",
       "      <td>[]</td>\n",
       "      <td>{'BIBREF0': {'ref_id': 'b0', 'title': 'Coronav...</td>\n",
       "    </tr>\n",
       "    <tr>\n",
       "      <th>3</th>\n",
       "      <td>00683d59d56123ae85e080d00ef1b3edd3f7405d</td>\n",
       "      <td>A Rift Valley fever (RVF) epidemic affecting a...</td>\n",
       "      <td>Raphaëlle Métras, Marc Baguelin, W John Edmund...</td>\n",
       "      <td>Raphaëlle Métras, Marc Baguelin, W John Edmund...</td>\n",
       "      <td>Abstract\\n\\nThe first cases occurred after hea...</td>\n",
       "      <td>R ift Valley fever (RVF) is a zoonotic arbovir...</td>\n",
       "      <td>Rift Valley fever virus (Bunyaviridae: Phlebov...</td>\n",
       "      <td>[{'first': 'Raphaëlle', 'middle': [], 'last': ...</td>\n",
       "      <td>{'BIBREF0': {'ref_id': 'b0', 'title': 'Rift Va...</td>\n",
       "    </tr>\n",
       "    <tr>\n",
       "      <th>4</th>\n",
       "      <td>0104f6ceccf92ae8567a0102f89cbb976969a774</td>\n",
       "      <td>BMC Medical Genetics Association of HLA class ...</td>\n",
       "      <td>Marie Lin, Hsiang-Kuang Tseng, Jean A Trejaut,...</td>\n",
       "      <td>Marie Lin (Mackay Memorial Hospital, Taipei, T...</td>\n",
       "      <td>Abstract\\n\\nThe human leukocyte antigen (HLA) ...</td>\n",
       "      <td>\\n\\npatient group, a further significant incre...</td>\n",
       "      <td>for surveillance of severe acute respiratory s...</td>\n",
       "      <td>[{'first': 'Marie', 'middle': [], 'last': 'Lin...</td>\n",
       "      <td>{'BIBREF0': {'ref_id': 'b0', 'title': 'for sur...</td>\n",
       "    </tr>\n",
       "  </tbody>\n",
       "</table>\n",
       "</div>"
      ],
      "text/plain": [
       "                                   paper_id  \\\n",
       "0  002f09dfc9a1323a15bf72e349d8b733ac97a2aa   \n",
       "1  0036e8891c93ae63611bde179ada1e03e8577dea   \n",
       "2  00573277e6be50669016f770bc28ec2da0639a8f   \n",
       "3  00683d59d56123ae85e080d00ef1b3edd3f7405d   \n",
       "4  0104f6ceccf92ae8567a0102f89cbb976969a774   \n",
       "\n",
       "                                               title  \\\n",
       "0                                                      \n",
       "1  Stable Occupancy of the Crimean-Congo Hemorrha...   \n",
       "2  Asymptomatic Severe Acute Respiratory Syndrome...   \n",
       "3  A Rift Valley fever (RVF) epidemic affecting a...   \n",
       "4  BMC Medical Genetics Association of HLA class ...   \n",
       "\n",
       "                                             authors  \\\n",
       "0                                                      \n",
       "1  Florine E M Scholte, Brian L Hua, Jessica R Sp...   \n",
       "2                                                      \n",
       "3  Raphaëlle Métras, Marc Baguelin, W John Edmund...   \n",
       "4  Marie Lin, Hsiang-Kuang Tseng, Jean A Trejaut,...   \n",
       "\n",
       "                                        affiliations  \\\n",
       "0                                                      \n",
       "1  Florine E M Scholte (National Center for Emerg...   \n",
       "2                                                      \n",
       "3  Raphaëlle Métras, Marc Baguelin, W John Edmund...   \n",
       "4  Marie Lin (Mackay Memorial Hospital, Taipei, T...   \n",
       "\n",
       "                                            abstract  \\\n",
       "0                                                      \n",
       "1  Abstract\\n\\nCrimean-Congo hemorrhagic fever vi...   \n",
       "2                                                      \n",
       "3  Abstract\\n\\nThe first cases occurred after hea...   \n",
       "4  Abstract\\n\\nThe human leukocyte antigen (HLA) ...   \n",
       "\n",
       "                                                text  \\\n",
       "0  \\n\\nT he modern word camel is derived from the...   \n",
       "1  \\n\\nto Western Europe with the assistance of m...   \n",
       "2  \\n\\nWe identified a nurse who was asymptomatic...   \n",
       "3  R ift Valley fever (RVF) is a zoonotic arbovir...   \n",
       "4  \\n\\npatient group, a further significant incre...   \n",
       "\n",
       "                                        bibliography  \\\n",
       "0  Ancient and modern DNA reveal dynamics of dome...   \n",
       "1  Seroepidemiological studies of Crimean-Congo h...   \n",
       "2  Coronavirus as a possible cause of severe acut...   \n",
       "3  Rift Valley fever virus (Bunyaviridae: Phlebov...   \n",
       "4  for surveillance of severe acute respiratory s...   \n",
       "\n",
       "                                         raw_authors  \\\n",
       "0                                                 []   \n",
       "1  [{'first': 'Florine', 'middle': ['E M'], 'last...   \n",
       "2                                                 []   \n",
       "3  [{'first': 'Raphaëlle', 'middle': [], 'last': ...   \n",
       "4  [{'first': 'Marie', 'middle': [], 'last': 'Lin...   \n",
       "\n",
       "                                    raw_bibliography  \n",
       "0  {'BIBREF0': {'ref_id': 'b0', 'title': 'Ancient...  \n",
       "1  {'BIBREF0': {'ref_id': 'b0', 'title': 'Seroepi...  \n",
       "2  {'BIBREF0': {'ref_id': 'b0', 'title': 'Coronav...  \n",
       "3  {'BIBREF0': {'ref_id': 'b0', 'title': 'Rift Va...  \n",
       "4  {'BIBREF0': {'ref_id': 'b0', 'title': 'for sur...  "
      ]
     },
     "execution_count": 33,
     "metadata": {},
     "output_type": "execute_result"
    }
   ],
   "source": [
    "# PMC\n",
    "pmc_dir = '2020-03-13/pmc_custom_license/pmc_custom_license/'\n",
    "pmc_files = load_files(pmc_dir)\n",
    "pmc_df = generate_clean_df(pmc_files)\n",
    "pmc_df.head()"
   ]
  },
  {
   "cell_type": "code",
   "execution_count": 34,
   "metadata": {},
   "outputs": [],
   "source": [
    "pmc_df.to_csv('2020-03-13/biorxiv/clean_pmc.csv', index=False)"
   ]
  },
  {
   "cell_type": "code",
   "execution_count": 36,
   "metadata": {},
   "outputs": [
    {
     "name": "stderr",
     "output_type": "stream",
     "text": [
      "100%|█████████████████████████████████████████████████████████████████████████████| 9000/9000 [00:33<00:00, 266.06it/s]\n",
      "100%|█████████████████████████████████████████████████████████████████████████████| 9000/9000 [01:09<00:00, 129.40it/s]\n"
     ]
    },
    {
     "data": {
      "text/html": [
       "<div>\n",
       "<style scoped>\n",
       "    .dataframe tbody tr th:only-of-type {\n",
       "        vertical-align: middle;\n",
       "    }\n",
       "\n",
       "    .dataframe tbody tr th {\n",
       "        vertical-align: top;\n",
       "    }\n",
       "\n",
       "    .dataframe thead th {\n",
       "        text-align: right;\n",
       "    }\n",
       "</style>\n",
       "<table border=\"1\" class=\"dataframe\">\n",
       "  <thead>\n",
       "    <tr style=\"text-align: right;\">\n",
       "      <th></th>\n",
       "      <th>paper_id</th>\n",
       "      <th>title</th>\n",
       "      <th>authors</th>\n",
       "      <th>affiliations</th>\n",
       "      <th>abstract</th>\n",
       "      <th>text</th>\n",
       "      <th>bibliography</th>\n",
       "      <th>raw_authors</th>\n",
       "      <th>raw_bibliography</th>\n",
       "    </tr>\n",
       "  </thead>\n",
       "  <tbody>\n",
       "    <tr>\n",
       "      <th>0</th>\n",
       "      <td>000b7d1517ceebb34e1e3e817695b6de03e2fa78</td>\n",
       "      <td>Supplementary Information An eco-epidemiologic...</td>\n",
       "      <td>Julien Mélade, Nicolas Wieseke 4#, Beza Ramazi...</td>\n",
       "      <td>Julien Mélade (2 rue Maxime Rivière, 97490 Sai...</td>\n",
       "      <td></td>\n",
       "      <td>\\n\\n- Figure S1 : Phylogeny of all sequences b...</td>\n",
       "      <td>NDV/HQ266603/Chicken/1992, , , None; MuV/FJ375...</td>\n",
       "      <td>[{'first': 'Julien', 'middle': [], 'last': 'Mé...</td>\n",
       "      <td>{'BIBREF32': {'ref_id': 'b32', 'title': 'NDV/H...</td>\n",
       "    </tr>\n",
       "    <tr>\n",
       "      <th>1</th>\n",
       "      <td>00142f93c18b07350be89e96372d240372437ed9</td>\n",
       "      <td>immunity to pathogens taught by specialized hu...</td>\n",
       "      <td>Elisabetta Padovan, Marina Cella, Shahram Sale...</td>\n",
       "      <td>Elisabetta Padovan, Marina Cella, Shahram Sale...</td>\n",
       "      <td>Abstract\\n\\nDendritic cells (DCs) are speciali...</td>\n",
       "      <td>\\n\\niNTRODUCTiON Human beings are constantly e...</td>\n",
       "      <td>The dendritic cell system and its role in immu...</td>\n",
       "      <td>[{'first': 'Elisabetta', 'middle': [], 'last':...</td>\n",
       "      <td>{'BIBREF0': {'ref_id': 'b0', 'title': 'The den...</td>\n",
       "    </tr>\n",
       "    <tr>\n",
       "      <th>2</th>\n",
       "      <td>0022796bb2112abd2e6423ba2d57751db06049fb</td>\n",
       "      <td>Public Health Responses to and Challenges for ...</td>\n",
       "      <td>Elvina Viennet, Scott A Ritchie, Craig R Willi...</td>\n",
       "      <td>Elvina Viennet (The Australian National Univer...</td>\n",
       "      <td>Abstract\\n\\nDengue has a negative impact in lo...</td>\n",
       "      <td>Introduction\\n\\nPathogens and vectors can now ...</td>\n",
       "      <td>The global distribution and burden of dengue, ...</td>\n",
       "      <td>[{'first': 'Elvina', 'middle': [], 'last': 'Vi...</td>\n",
       "      <td>{'BIBREF0': {'ref_id': 'b0', 'title': 'The glo...</td>\n",
       "    </tr>\n",
       "    <tr>\n",
       "      <th>3</th>\n",
       "      <td>00326efcca0852dc6e39dc6b7786267e1bc4f194</td>\n",
       "      <td>a section of the journal Frontiers in Pediatri...</td>\n",
       "      <td>Jan Hau Lee, Oguz Dursun, Phuc Huu Phan, Yek K...</td>\n",
       "      <td>Jan Hau Lee, Oguz Dursun, Phuc Huu Phan, Yek K...</td>\n",
       "      <td>Abstract\\n\\nFifteen years ago, United Nations ...</td>\n",
       "      <td>\\n\\nIn addition to preventative care and nutri...</td>\n",
       "      <td>Global, regional, and national levels of neona...</td>\n",
       "      <td>[{'first': 'Jan', 'middle': ['Hau'], 'last': '...</td>\n",
       "      <td>{'BIBREF0': {'ref_id': 'b0', 'title': 'Global,...</td>\n",
       "    </tr>\n",
       "    <tr>\n",
       "      <th>4</th>\n",
       "      <td>00352a58c8766861effed18a4b079d1683fec2ec</td>\n",
       "      <td>MINI REVIEW Function of the Deubiquitinating E...</td>\n",
       "      <td>Molly Hodul, Caroline L Dahlberg, Peter Juo, C...</td>\n",
       "      <td>Molly Hodul (Tufts University, Boston, MA, Uni...</td>\n",
       "      <td>Abstract\\n\\nPosttranslational modification of ...</td>\n",
       "      <td>INTRODUCTION\\n\\nUbiquitination is a widely use...</td>\n",
       "      <td>Regulation of AMPA receptor trafficking and sy...</td>\n",
       "      <td>[{'first': 'Molly', 'middle': [], 'last': 'Hod...</td>\n",
       "      <td>{'BIBREF0': {'ref_id': 'b0', 'title': 'Regulat...</td>\n",
       "    </tr>\n",
       "  </tbody>\n",
       "</table>\n",
       "</div>"
      ],
      "text/plain": [
       "                                   paper_id  \\\n",
       "0  000b7d1517ceebb34e1e3e817695b6de03e2fa78   \n",
       "1  00142f93c18b07350be89e96372d240372437ed9   \n",
       "2  0022796bb2112abd2e6423ba2d57751db06049fb   \n",
       "3  00326efcca0852dc6e39dc6b7786267e1bc4f194   \n",
       "4  00352a58c8766861effed18a4b079d1683fec2ec   \n",
       "\n",
       "                                               title  \\\n",
       "0  Supplementary Information An eco-epidemiologic...   \n",
       "1  immunity to pathogens taught by specialized hu...   \n",
       "2  Public Health Responses to and Challenges for ...   \n",
       "3  a section of the journal Frontiers in Pediatri...   \n",
       "4  MINI REVIEW Function of the Deubiquitinating E...   \n",
       "\n",
       "                                             authors  \\\n",
       "0  Julien Mélade, Nicolas Wieseke 4#, Beza Ramazi...   \n",
       "1  Elisabetta Padovan, Marina Cella, Shahram Sale...   \n",
       "2  Elvina Viennet, Scott A Ritchie, Craig R Willi...   \n",
       "3  Jan Hau Lee, Oguz Dursun, Phuc Huu Phan, Yek K...   \n",
       "4  Molly Hodul, Caroline L Dahlberg, Peter Juo, C...   \n",
       "\n",
       "                                        affiliations  \\\n",
       "0  Julien Mélade (2 rue Maxime Rivière, 97490 Sai...   \n",
       "1  Elisabetta Padovan, Marina Cella, Shahram Sale...   \n",
       "2  Elvina Viennet (The Australian National Univer...   \n",
       "3  Jan Hau Lee, Oguz Dursun, Phuc Huu Phan, Yek K...   \n",
       "4  Molly Hodul (Tufts University, Boston, MA, Uni...   \n",
       "\n",
       "                                            abstract  \\\n",
       "0                                                      \n",
       "1  Abstract\\n\\nDendritic cells (DCs) are speciali...   \n",
       "2  Abstract\\n\\nDengue has a negative impact in lo...   \n",
       "3  Abstract\\n\\nFifteen years ago, United Nations ...   \n",
       "4  Abstract\\n\\nPosttranslational modification of ...   \n",
       "\n",
       "                                                text  \\\n",
       "0  \\n\\n- Figure S1 : Phylogeny of all sequences b...   \n",
       "1  \\n\\niNTRODUCTiON Human beings are constantly e...   \n",
       "2  Introduction\\n\\nPathogens and vectors can now ...   \n",
       "3  \\n\\nIn addition to preventative care and nutri...   \n",
       "4  INTRODUCTION\\n\\nUbiquitination is a widely use...   \n",
       "\n",
       "                                        bibliography  \\\n",
       "0  NDV/HQ266603/Chicken/1992, , , None; MuV/FJ375...   \n",
       "1  The dendritic cell system and its role in immu...   \n",
       "2  The global distribution and burden of dengue, ...   \n",
       "3  Global, regional, and national levels of neona...   \n",
       "4  Regulation of AMPA receptor trafficking and sy...   \n",
       "\n",
       "                                         raw_authors  \\\n",
       "0  [{'first': 'Julien', 'middle': [], 'last': 'Mé...   \n",
       "1  [{'first': 'Elisabetta', 'middle': [], 'last':...   \n",
       "2  [{'first': 'Elvina', 'middle': [], 'last': 'Vi...   \n",
       "3  [{'first': 'Jan', 'middle': ['Hau'], 'last': '...   \n",
       "4  [{'first': 'Molly', 'middle': [], 'last': 'Hod...   \n",
       "\n",
       "                                    raw_bibliography  \n",
       "0  {'BIBREF32': {'ref_id': 'b32', 'title': 'NDV/H...  \n",
       "1  {'BIBREF0': {'ref_id': 'b0', 'title': 'The den...  \n",
       "2  {'BIBREF0': {'ref_id': 'b0', 'title': 'The glo...  \n",
       "3  {'BIBREF0': {'ref_id': 'b0', 'title': 'Global,...  \n",
       "4  {'BIBREF0': {'ref_id': 'b0', 'title': 'Regulat...  "
      ]
     },
     "execution_count": 36,
     "metadata": {},
     "output_type": "execute_result"
    }
   ],
   "source": [
    "# Commercial Use\n",
    "comm_dir = '2020-03-13/comm_use_subset/comm_use_subset/'\n",
    "comm_files = load_files(comm_dir)\n",
    "comm_df = generate_clean_df(comm_files)\n",
    "comm_df.head()"
   ]
  },
  {
   "cell_type": "code",
   "execution_count": 37,
   "metadata": {},
   "outputs": [],
   "source": [
    "comm_df.to_csv('2020-03-13/biorxiv/clean_comm_use.csv', index=False)"
   ]
  },
  {
   "cell_type": "code",
   "execution_count": 38,
   "metadata": {},
   "outputs": [
    {
     "name": "stderr",
     "output_type": "stream",
     "text": [
      "100%|█████████████████████████████████████████████████████████████████████████████| 1973/1973 [00:05<00:00, 368.91it/s]\n",
      "100%|█████████████████████████████████████████████████████████████████████████████| 1973/1973 [00:11<00:00, 178.25it/s]\n"
     ]
    },
    {
     "data": {
      "text/html": [
       "<div>\n",
       "<style scoped>\n",
       "    .dataframe tbody tr th:only-of-type {\n",
       "        vertical-align: middle;\n",
       "    }\n",
       "\n",
       "    .dataframe tbody tr th {\n",
       "        vertical-align: top;\n",
       "    }\n",
       "\n",
       "    .dataframe thead th {\n",
       "        text-align: right;\n",
       "    }\n",
       "</style>\n",
       "<table border=\"1\" class=\"dataframe\">\n",
       "  <thead>\n",
       "    <tr style=\"text-align: right;\">\n",
       "      <th></th>\n",
       "      <th>paper_id</th>\n",
       "      <th>title</th>\n",
       "      <th>authors</th>\n",
       "      <th>affiliations</th>\n",
       "      <th>abstract</th>\n",
       "      <th>text</th>\n",
       "      <th>bibliography</th>\n",
       "      <th>raw_authors</th>\n",
       "      <th>raw_bibliography</th>\n",
       "    </tr>\n",
       "  </thead>\n",
       "  <tbody>\n",
       "    <tr>\n",
       "      <th>0</th>\n",
       "      <td>0036b28fddf7e93da0970303672934ea2f9944e7</td>\n",
       "      <td>The fecal microbiota and unconjugated fecal bi...</td>\n",
       "      <td>B Ruggerone, A C Manchester, F Del Baldo, F Fr...</td>\n",
       "      <td>B Ruggerone (University of Thessaly, Karditsa,...</td>\n",
       "      <td>Abstract\\n\\nand Blautia (P = 0.008) significan...</td>\n",
       "      <td>\\n\\nhuman type 1 DM. The aim of this study was...</td>\n",
       "      <td>Significant Feline Proteinuria: a retrospectiv...</td>\n",
       "      <td>[{'first': 'B', 'middle': [], 'last': 'Ruggero...</td>\n",
       "      <td>{'BIBREF0': {'ref_id': 'b0', 'title': 'Signifi...</td>\n",
       "    </tr>\n",
       "    <tr>\n",
       "      <th>1</th>\n",
       "      <td>005c43980edf3fcc2a4d12ee7ad630ddb651ce6e</td>\n",
       "      <td>Development of a smartphone-based rapid dual f...</td>\n",
       "      <td>Seon-Ju Yeo, Homan Kang, Tung Duy Dao, Thi Bui...</td>\n",
       "      <td>Seon-Ju Yeo (Wonkwang University, 570-749, Iks...</td>\n",
       "      <td>Abstract\\n\\nAccurate and rapid diagnosis of hi...</td>\n",
       "      <td>Introduction\\n\\nAvian influenza (AI) viruses a...</td>\n",
       "      <td>Avian and other zoonotic influenza, , , 2018; ...</td>\n",
       "      <td>[{'first': 'Seon-Ju', 'middle': [], 'last': 'Y...</td>\n",
       "      <td>{'BIBREF0': {'ref_id': 'b0', 'title': 'Avian a...</td>\n",
       "    </tr>\n",
       "    <tr>\n",
       "      <th>2</th>\n",
       "      <td>006be99e337c84b8758591a54f0362353b24dfde</td>\n",
       "      <td>Regulated Export of a Secretory Protein from t...</td>\n",
       "      <td>Stephen S Macintyre</td>\n",
       "      <td>Stephen S Macintyre (Case Western Reserve Univ...</td>\n",
       "      <td>Abstract\\n\\n253 protein, C-reactive protein (C...</td>\n",
       "      <td>\\n\\nAbstract. The half-time for secretion of t...</td>\n",
       "      <td>Studies on the binding specificity of human C-...</td>\n",
       "      <td>[{'first': 'Stephen', 'middle': ['S'], 'last':...</td>\n",
       "      <td>{'BIBREF0': {'ref_id': 'b0', 'title': 'Studies...</td>\n",
       "    </tr>\n",
       "    <tr>\n",
       "      <th>3</th>\n",
       "      <td>00a00d0edc750db4a0c299dd1ec0c6871f5a4f24</td>\n",
       "      <td></td>\n",
       "      <td></td>\n",
       "      <td></td>\n",
       "      <td></td>\n",
       "      <td>Editorial\\n\\nThis is an Open Access article di...</td>\n",
       "      <td>Report of the Ebola Interim Assessment Panel, ...</td>\n",
       "      <td>[]</td>\n",
       "      <td>{'BIBREF0': {'ref_id': 'b0', 'title': 'Report ...</td>\n",
       "    </tr>\n",
       "    <tr>\n",
       "      <th>4</th>\n",
       "      <td>00e5a723d44eb9f2698c38b518eff85c00f9753b</td>\n",
       "      <td></td>\n",
       "      <td>Vijay Harypursat, Yao-Kai Chen,  Yao-Kai,  Chen</td>\n",
       "      <td>Vijay Harypursat (Chongqing Public Health Medi...</td>\n",
       "      <td></td>\n",
       "      <td>\\n\\nCoronaviruses have in the past been known ...</td>\n",
       "      <td>Efficient replication of the novel human betac...</td>\n",
       "      <td>[{'first': 'Vijay', 'middle': [], 'last': 'Har...</td>\n",
       "      <td>{'BIBREF0': {'ref_id': 'b0', 'title': 'Efficie...</td>\n",
       "    </tr>\n",
       "  </tbody>\n",
       "</table>\n",
       "</div>"
      ],
      "text/plain": [
       "                                   paper_id  \\\n",
       "0  0036b28fddf7e93da0970303672934ea2f9944e7   \n",
       "1  005c43980edf3fcc2a4d12ee7ad630ddb651ce6e   \n",
       "2  006be99e337c84b8758591a54f0362353b24dfde   \n",
       "3  00a00d0edc750db4a0c299dd1ec0c6871f5a4f24   \n",
       "4  00e5a723d44eb9f2698c38b518eff85c00f9753b   \n",
       "\n",
       "                                               title  \\\n",
       "0  The fecal microbiota and unconjugated fecal bi...   \n",
       "1  Development of a smartphone-based rapid dual f...   \n",
       "2  Regulated Export of a Secretory Protein from t...   \n",
       "3                                                      \n",
       "4                                                      \n",
       "\n",
       "                                             authors  \\\n",
       "0  B Ruggerone, A C Manchester, F Del Baldo, F Fr...   \n",
       "1  Seon-Ju Yeo, Homan Kang, Tung Duy Dao, Thi Bui...   \n",
       "2                                Stephen S Macintyre   \n",
       "3                                                      \n",
       "4    Vijay Harypursat, Yao-Kai Chen,  Yao-Kai,  Chen   \n",
       "\n",
       "                                        affiliations  \\\n",
       "0  B Ruggerone (University of Thessaly, Karditsa,...   \n",
       "1  Seon-Ju Yeo (Wonkwang University, 570-749, Iks...   \n",
       "2  Stephen S Macintyre (Case Western Reserve Univ...   \n",
       "3                                                      \n",
       "4  Vijay Harypursat (Chongqing Public Health Medi...   \n",
       "\n",
       "                                            abstract  \\\n",
       "0  Abstract\\n\\nand Blautia (P = 0.008) significan...   \n",
       "1  Abstract\\n\\nAccurate and rapid diagnosis of hi...   \n",
       "2  Abstract\\n\\n253 protein, C-reactive protein (C...   \n",
       "3                                                      \n",
       "4                                                      \n",
       "\n",
       "                                                text  \\\n",
       "0  \\n\\nhuman type 1 DM. The aim of this study was...   \n",
       "1  Introduction\\n\\nAvian influenza (AI) viruses a...   \n",
       "2  \\n\\nAbstract. The half-time for secretion of t...   \n",
       "3  Editorial\\n\\nThis is an Open Access article di...   \n",
       "4  \\n\\nCoronaviruses have in the past been known ...   \n",
       "\n",
       "                                        bibliography  \\\n",
       "0  Significant Feline Proteinuria: a retrospectiv...   \n",
       "1  Avian and other zoonotic influenza, , , 2018; ...   \n",
       "2  Studies on the binding specificity of human C-...   \n",
       "3  Report of the Ebola Interim Assessment Panel, ...   \n",
       "4  Efficient replication of the novel human betac...   \n",
       "\n",
       "                                         raw_authors  \\\n",
       "0  [{'first': 'B', 'middle': [], 'last': 'Ruggero...   \n",
       "1  [{'first': 'Seon-Ju', 'middle': [], 'last': 'Y...   \n",
       "2  [{'first': 'Stephen', 'middle': ['S'], 'last':...   \n",
       "3                                                 []   \n",
       "4  [{'first': 'Vijay', 'middle': [], 'last': 'Har...   \n",
       "\n",
       "                                    raw_bibliography  \n",
       "0  {'BIBREF0': {'ref_id': 'b0', 'title': 'Signifi...  \n",
       "1  {'BIBREF0': {'ref_id': 'b0', 'title': 'Avian a...  \n",
       "2  {'BIBREF0': {'ref_id': 'b0', 'title': 'Studies...  \n",
       "3  {'BIBREF0': {'ref_id': 'b0', 'title': 'Report ...  \n",
       "4  {'BIBREF0': {'ref_id': 'b0', 'title': 'Efficie...  "
      ]
     },
     "execution_count": 38,
     "metadata": {},
     "output_type": "execute_result"
    }
   ],
   "source": [
    "# Non-commercial Use\n",
    "noncomm_dir = '2020-03-13/noncomm_use_subset/noncomm_use_subset/'\n",
    "noncomm_files = load_files(noncomm_dir)\n",
    "noncomm_df = generate_clean_df(noncomm_files)\n",
    "noncomm_df.head()"
   ]
  },
  {
   "cell_type": "code",
   "execution_count": 39,
   "metadata": {},
   "outputs": [],
   "source": [
    "noncomm_df.to_csv('2020-03-13/biorxiv/clean_noncomm_use.csv', index=False)"
   ]
  },
  {
   "cell_type": "code",
   "execution_count": null,
   "metadata": {},
   "outputs": [],
   "source": [
    "stop = timeit.default_timer()\n",
    "print(datetime.now()-start1)"
   ]
  }
 ],
 "metadata": {
  "kernelspec": {
   "display_name": "Python 3",
   "language": "python",
   "name": "python3"
  },
  "language_info": {
   "codemirror_mode": {
    "name": "ipython",
    "version": 3
   },
   "file_extension": ".py",
   "mimetype": "text/x-python",
   "name": "python",
   "nbconvert_exporter": "python",
   "pygments_lexer": "ipython3",
   "version": "3.7.3"
  }
 },
 "nbformat": 4,
 "nbformat_minor": 2
}
