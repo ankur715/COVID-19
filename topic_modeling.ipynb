{
 "cells": [
  {
   "cell_type": "markdown",
   "metadata": {},
   "source": [
    "<p align=\"center\">\n",
    "  <img width=\"1000\" height=\"250\" src=\"https://inlovewithcode.files.wordpress.com/2017/02/screen-shot-2017-02-27-at-5-35-14-pm.png?w=1032&h=&zoom=2\"> \n",
    "</p>"
   ]
  },
  {
   "cell_type": "code",
   "execution_count": null,
   "metadata": {},
   "outputs": [],
   "source": [
    "pip install scispacy"
   ]
  },
  {
   "cell_type": "code",
   "execution_count": 3,
   "metadata": {},
   "outputs": [],
   "source": [
    "import numpy as np \n",
    "import pandas as pd\n",
    "\n",
    "from sklearn.feature_extraction import text\n",
    "from sklearn.feature_extraction.text import CountVectorizer, TfidfVectorizer\n",
    "from sklearn.decomposition import LatentDirichletAllocation\n",
    "\n",
    "import scispacy\n",
    "import spacy\n",
    "\n",
    "from scipy.spatial.distance import jensenshannon\n",
    "\n",
    "import joblib\n",
    "\n",
    "import pyLDAvis\n",
    "import pyLDAvis.sklearn\n",
    "pyLDAvis.enable_notebook()\n",
    "\n",
    "from IPython.display import HTML, display\n",
    "\n",
    "from ipywidgets import interact, Layout, HBox, VBox\n",
    "import ipywidgets as widgets\n",
    "from IPython.display import clear_output\n",
    "\n",
    "from tqdm import tqdm"
   ]
  },
  {
   "cell_type": "code",
   "execution_count": 6,
   "metadata": {},
   "outputs": [
    {
     "data": {
      "text/html": [
       "<div>\n",
       "<style scoped>\n",
       "    .dataframe tbody tr th:only-of-type {\n",
       "        vertical-align: middle;\n",
       "    }\n",
       "\n",
       "    .dataframe tbody tr th {\n",
       "        vertical-align: top;\n",
       "    }\n",
       "\n",
       "    .dataframe thead th {\n",
       "        text-align: right;\n",
       "    }\n",
       "</style>\n",
       "<table border=\"1\" class=\"dataframe\">\n",
       "  <thead>\n",
       "    <tr style=\"text-align: right;\">\n",
       "      <th></th>\n",
       "      <th>doc_id</th>\n",
       "      <th>source</th>\n",
       "      <th>title</th>\n",
       "      <th>abstract</th>\n",
       "      <th>text_body</th>\n",
       "      <th>Microsoft Academic Paper ID</th>\n",
       "      <th>WHO #Covidence</th>\n",
       "      <th>authors</th>\n",
       "      <th>doi</th>\n",
       "      <th>has_full_text</th>\n",
       "      <th>journal</th>\n",
       "      <th>license</th>\n",
       "      <th>pmcid</th>\n",
       "      <th>publish_time</th>\n",
       "      <th>pubmed_id</th>\n",
       "      <th>sha</th>\n",
       "      <th>source_x</th>\n",
       "    </tr>\n",
       "  </thead>\n",
       "  <tbody>\n",
       "    <tr>\n",
       "      <th>0</th>\n",
       "      <td>30457ee3ce0001f33938fbc246b4ce4eacd74f5d</td>\n",
       "      <td>BIORXIV</td>\n",
       "      <td>ZODIAC: database-independent molecular formula...</td>\n",
       "      <td>The condent high-throughput identication of sm...</td>\n",
       "      <td>For all ve datasets, we observe that ZODIAC ou...</td>\n",
       "      <td>NaN</td>\n",
       "      <td>NaN</td>\n",
       "      <td>Ludwig, M.; Nothias, L.-F.; Dührkop, K.; Koes...</td>\n",
       "      <td>http://doi.org/10.1101/842740</td>\n",
       "      <td>True</td>\n",
       "      <td>NaN</td>\n",
       "      <td>See https://www.biorxiv.org/about-biorxiv</td>\n",
       "      <td>NaN</td>\n",
       "      <td>2019-11-16</td>\n",
       "      <td>NaN</td>\n",
       "      <td>30457ee3ce0001f33938fbc246b4ce4eacd74f5d</td>\n",
       "      <td>biorxiv</td>\n",
       "    </tr>\n",
       "    <tr>\n",
       "      <th>1</th>\n",
       "      <td>5796fdc80a85b6e634a279c57711356055b65880</td>\n",
       "      <td>BIORXIV</td>\n",
       "      <td>Title: Close contacts and household transmissi...</td>\n",
       "      <td>NaN</td>\n",
       "      <td>Confirmed cases of infection with the SARS-CoV...</td>\n",
       "      <td>NaN</td>\n",
       "      <td>NaN</td>\n",
       "      <td>NaN</td>\n",
       "      <td>http://doi.org/10.1101/2020.03.02.20029868</td>\n",
       "      <td>True</td>\n",
       "      <td>NaN</td>\n",
       "      <td>See https://www.medrxiv.org/submit-a-manuscript</td>\n",
       "      <td>NaN</td>\n",
       "      <td>NaN</td>\n",
       "      <td>NaN</td>\n",
       "      <td>5796fdc80a85b6e634a279c57711356055b65880</td>\n",
       "      <td>medrxiv</td>\n",
       "    </tr>\n",
       "  </tbody>\n",
       "</table>\n",
       "</div>"
      ],
      "text/plain": [
       "                                     doc_id   source  \\\n",
       "0  30457ee3ce0001f33938fbc246b4ce4eacd74f5d  BIORXIV   \n",
       "1  5796fdc80a85b6e634a279c57711356055b65880  BIORXIV   \n",
       "\n",
       "                                               title  \\\n",
       "0  ZODIAC: database-independent molecular formula...   \n",
       "1  Title: Close contacts and household transmissi...   \n",
       "\n",
       "                                            abstract  \\\n",
       "0  The condent high-throughput identication of sm...   \n",
       "1                                                NaN   \n",
       "\n",
       "                                           text_body  \\\n",
       "0  For all ve datasets, we observe that ZODIAC ou...   \n",
       "1  Confirmed cases of infection with the SARS-CoV...   \n",
       "\n",
       "   Microsoft Academic Paper ID WHO #Covidence  \\\n",
       "0                          NaN            NaN   \n",
       "1                          NaN            NaN   \n",
       "\n",
       "                                             authors  \\\n",
       "0  Ludwig, M.; Nothias, L.-F.; Dührkop, K.; Koes...   \n",
       "1                                                NaN   \n",
       "\n",
       "                                          doi has_full_text journal  \\\n",
       "0               http://doi.org/10.1101/842740          True     NaN   \n",
       "1  http://doi.org/10.1101/2020.03.02.20029868          True     NaN   \n",
       "\n",
       "                                           license pmcid publish_time  \\\n",
       "0        See https://www.biorxiv.org/about-biorxiv   NaN   2019-11-16   \n",
       "1  See https://www.medrxiv.org/submit-a-manuscript   NaN          NaN   \n",
       "\n",
       "   pubmed_id                                       sha source_x  \n",
       "0        NaN  30457ee3ce0001f33938fbc246b4ce4eacd74f5d  biorxiv  \n",
       "1        NaN  5796fdc80a85b6e634a279c57711356055b65880  medrxiv  "
      ]
     },
     "execution_count": 6,
     "metadata": {},
     "output_type": "execute_result"
    }
   ],
   "source": [
    "# metadata\n",
    "sources = pd.read_csv('2020-03-13/all_sources_metadata_2020-03-13.csv')\n",
    "\n",
    "sources.drop_duplicates(subset=['sha'], inplace=True)\n",
    "\n",
    "def doi_url(d):\n",
    "    if d.startswith('http://'):\n",
    "        return d\n",
    "    elif d.startswith('doi.org'):\n",
    "        return f'http://{d}'\n",
    "    else:\n",
    "        return f'http://doi.org/{d}'\n",
    "\n",
    "sources.doi = sources.doi.fillna('').apply(doi_url)\n",
    "\n",
    "papers = pd.read_csv(\"2020-03-13/covid19-medical-paperscsv/kaggle_covid-19_open_csv_format.csv\")\n",
    "papers = papers.iloc[1:, 1:].reset_index(drop=True)\n",
    "\n",
    "# merge frames\n",
    "cols_to_use = sources.columns.difference(papers.columns)\n",
    "all_data = pd.merge(papers, sources[cols_to_use], left_on='doc_id', right_on='sha', how='left')\n",
    "\n",
    "all_data.title = all_data.title.astype(str) # change to string, there are also some numeric values\n",
    "\n",
    "all_data.head(2)"
   ]
  },
  {
   "cell_type": "code",
   "execution_count": 8,
   "metadata": {},
   "outputs": [],
   "source": [
    "all_texts = all_data.text_body"
   ]
  },
  {
   "cell_type": "code",
   "execution_count": 9,
   "metadata": {},
   "outputs": [
    {
     "data": {
      "text/plain": [
       "'For all ve datasets, we observe that ZODIAC outperforms SIRIUS, often substantially decreasing molecular formula annotation error rates (Fig. 1, left) . We rst consider the dendroides dataset, for which improvements are most distinctive: This dataset contains many larger compounds, and 75 % of the ground truth compounds have an m/z of 605 or higher ( Supplementary Fig. 6 ).\\n Hence, this dataset is particularly challenging for molecular formula assignment. Out of the 201 ground truth compounds, t'"
      ]
     },
     "execution_count": 9,
     "metadata": {},
     "output_type": "execute_result"
    }
   ],
   "source": [
    "# example snippet\n",
    "all_texts[0][:500]"
   ]
  },
  {
   "cell_type": "markdown",
   "metadata": {},
   "source": [
    "### Latend Dirichlet Allocation:"
   ]
  },
  {
   "cell_type": "code",
   "execution_count": null,
   "metadata": {},
   "outputs": [],
   "source": [
    "# medium model\n",
    "!pip install https://s3-us-west-2.amazonaws.com/ai2-s2-scispacy/releases/v0.2.4/en_core_sci_md-0.2.4.tar.gz\n",
    "    \n",
    "pip install en_core_sci_md"
   ]
  },
  {
   "cell_type": "code",
   "execution_count": 14,
   "metadata": {},
   "outputs": [],
   "source": [
    "# medium model\n",
    "import en_core_sci_md\n",
    "nlp = en_core_sci_md.load(disable=[\"tagger\", \"parser\", \"ner\"])\n",
    "nlp.max_length = 2000000"
   ]
  },
  {
   "cell_type": "code",
   "execution_count": 15,
   "metadata": {},
   "outputs": [],
   "source": [
    "def spacy_tokenizer(sentence):\n",
    "    return [word.lemma_ for word in nlp(sentence) if not (word.like_num or word.is_stop or word.is_punct or word.is_space)] # remove numbers (e.g. from references [1], etc.)\n",
    "\n",
    "def print_top_words(model, feature_names, n_top_words):\n",
    "    for topic_idx, topic in enumerate(model.components_):\n",
    "        message = \"\\nTopic #%d: \" % topic_idx\n",
    "        message += \" \".join([feature_names[i]\n",
    "                             for i in topic.argsort()[:-n_top_words - 1:-1]])\n",
    "        print(message)\n",
    "    print()"
   ]
  },
  {
   "cell_type": "code",
   "execution_count": 16,
   "metadata": {},
   "outputs": [],
   "source": [
    "# New stop words list \n",
    "customize_stop_words = [\n",
    "    'doi', 'preprint', 'copyright', 'peer', 'reviewed', 'org', 'https', 'et', 'al', 'author', 'figure', \n",
    "    'rights', 'reserved', 'permission', 'used', 'using', 'biorxiv', 'fig', 'fig.', 'al.',\n",
    "    'di', 'la', 'il', 'del', 'le', 'della', 'dei', 'delle', 'una', 'da',  'dell',  'non', 'si'\n",
    "]\n",
    "\n",
    "# Mark them as stop words\n",
    "for w in customize_stop_words:\n",
    "    nlp.vocab[w].is_stop = True"
   ]
  },
  {
   "cell_type": "code",
   "execution_count": 17,
   "metadata": {},
   "outputs": [
    {
     "name": "stderr",
     "output_type": "stream",
     "text": [
      "100%|████████████████████████████████████████████████████████████████████████████| 13202/13202 [10:26<00:00, 22.09it/s]\n"
     ]
    },
    {
     "data": {
      "text/plain": [
       "(13202, 641988)"
      ]
     },
     "execution_count": 17,
     "metadata": {},
     "output_type": "execute_result"
    }
   ],
   "source": [
    "tf_vectorizer = CountVectorizer(tokenizer = spacy_tokenizer)\n",
    "tf = tf_vectorizer.fit_transform(tqdm(all_texts))\n",
    "tf.shape"
   ]
  },
  {
   "cell_type": "code",
   "execution_count": 18,
   "metadata": {},
   "outputs": [
    {
     "data": {
      "text/plain": [
       "['tf.csv']"
      ]
     },
     "execution_count": 18,
     "metadata": {},
     "output_type": "execute_result"
    }
   ],
   "source": [
    "joblib.dump(tf_vectorizer, 'tf_vectorizer.csv')\n",
    "joblib.dump(tf, 'tf.csv')"
   ]
  },
  {
   "cell_type": "code",
   "execution_count": 19,
   "metadata": {},
   "outputs": [],
   "source": [
    "tf_vectorizer = joblib.load('tf_vectorizer.csv')\n",
    "tf = joblib.load('tf.csv')"
   ]
  },
  {
   "cell_type": "code",
   "execution_count": 20,
   "metadata": {},
   "outputs": [
    {
     "data": {
      "text/plain": [
       "<matplotlib.axes._subplots.AxesSubplot at 0x2935cb6f320>"
      ]
     },
     "execution_count": 20,
     "metadata": {},
     "output_type": "execute_result"
    }
   ],
   "source": [
    "# most frequent words\n",
    "word_count = pd.DataFrame({'word': tf_vectorizer.get_feature_names(), 'count': np.asarray(tf.sum(axis=0))[0]})\n",
    "\n",
    "word_count.sort_values('count', ascending=False).set_index('word')[:20].sort_values('count', ascending=True).plot(kind='barh')"
   ]
  },
  {
   "cell_type": "code",
   "execution_count": 23,
   "metadata": {
    "scrolled": true
   },
   "outputs": [
    {
     "data": {
      "text/plain": [
       "LatentDirichletAllocation(batch_size=128, doc_topic_prior=None,\n",
       "                          evaluate_every=-1, learning_decay=0.7,\n",
       "                          learning_method='batch', learning_offset=10.0,\n",
       "                          max_doc_update_iter=100, max_iter=10,\n",
       "                          mean_change_tol=0.001, n_components=50, n_jobs=-1,\n",
       "                          perp_tol=0.1, random_state=0, topic_word_prior=None,\n",
       "                          total_samples=1000000.0, verbose=0)"
      ]
     },
     "execution_count": 23,
     "metadata": {},
     "output_type": "execute_result"
    }
   ],
   "source": [
    "# this takes long! you can skip this and load the model from the output file\n",
    "lda_tf = LatentDirichletAllocation(n_components=50, random_state=0, n_jobs=-1) # TODO: tune n_components: how many topics make sense?\n",
    "lda_tf.fit(tf)"
   ]
  },
  {
   "cell_type": "code",
   "execution_count": 24,
   "metadata": {},
   "outputs": [
    {
     "name": "stdout",
     "output_type": "stream",
     "text": [
      "Time:  511.2954499000007\n",
      "0:08:31.304491\n"
     ]
    }
   ],
   "source": [
    "stop = timeit.default_timer()\n",
    "print(datetime.now()-start1)"
   ]
  },
  {
   "cell_type": "code",
   "execution_count": 25,
   "metadata": {},
   "outputs": [
    {
     "data": {
      "text/plain": [
       "['lda.csv']"
      ]
     },
     "execution_count": 25,
     "metadata": {},
     "output_type": "execute_result"
    }
   ],
   "source": [
    "joblib.dump(lda_tf, 'lda.csv')"
   ]
  },
  {
   "cell_type": "code",
   "execution_count": 27,
   "metadata": {},
   "outputs": [],
   "source": [
    "# Load from output file\n",
    "lda_tf = joblib.load('lda.csv') "
   ]
  },
  {
   "cell_type": "markdown",
   "metadata": {},
   "source": [
    "### Discovered Topics:"
   ]
  },
  {
   "cell_type": "code",
   "execution_count": 28,
   "metadata": {
    "scrolled": true
   },
   "outputs": [
    {
     "name": "stdout",
     "output_type": "stream",
     "text": [
      "\n",
      "Topic #0: cell infection mouse lung response expression cytokine level increase virus macrophage infect viral immune inflammatory study show disease neutrophil inflammation human airway epithelial type induce\n",
      "\n",
      "Topic #1: cell virus replication culture lasv show vimentin lipid result viral effect fusion assay membrane infect medium observe acid study line treatment level infection contain rna\n",
      "\n",
      "Topic #2: datum method test system pathogen set analysis result provide sample database detection information performance base user tool use sensitivity approach identify available include search allow\n",
      "\n",
      "Topic #3: model datum numb time r case estimate = value individual rate parameter network t transmission distribution epidemic result method population contact probability infection different infect\n",
      "\n",
      "Topic #4: s. bacterium bacterial p. aureus b. oil strain mrsa antimicrobial reaction product light phage suis activity pathogen aeruginosa synthesis plant show result l. essential antibacterial\n",
      "\n",
      "Topic #5: pedv frameshifting codon sequence piglet ribosome site prf trna frameshift efficiency frame translation s mrna + ped product à1 rna slippery stem result base pseudoknot\n",
      "\n",
      "Topic #6: ace2 rat mouse increase activity effect ang level ii brain expression ace heart receptor study kidney reduce show compare cardiac tissue decrease peptide significantly treatment\n",
      "\n",
      "Topic #7: cell t mouse + response immune cd8 cd4 vaccine antigen induce infection antibody b expression show high immunization day level increase express study control cytokine\n",
      "\n",
      "Topic #8: cell protein medium show control min h bind c result datum expression image assay mm culture study contain incubate effect test signal concentration increase experiment\n",
      "\n",
      "Topic #9: influenza virus ha h1n1 h5n1 pandemic human avian subtype strain na poultry h7n9 assay detection bird test h3n2 infection antibody result np study viral vaccine\n",
      "\n",
      "Topic #10: p s-layer xbp-1s cell cld gd sftsv chop different syndrome r. hire1a rosa rev er study model site ire1 mechanism hbov1 stress show occur vwf\n",
      "\n",
      "Topic #11: sequence genome read virus viral sample human analysis identify rna contig library datum assembly dna table database alignment map region numb reference gene species nucleotide\n",
      "\n",
      "Topic #12: sequence strain bat virus isolate gene phylogenetic genome coronavirus analysis nucleotide study region protein species amino s genotype acid show sample identity tree n group\n",
      "\n",
      "Topic #13: virus rna plant viral genome sequence gene cp region mink modification replication species show base astrovirus host contain family present nov protein fish probe report\n",
      "\n",
      "Topic #14: patient hospital sars contact care case infection healthcare transmission medical outbreak mers worker staff nurse hand control participant train mask room isolation person hcws day\n",
      "\n",
      "Topic #15: compound activity drug effect cell inhibit inhibitor treatment antiviral concentration show h inhibition extract acid c e group t study n treat o inhibitory µm\n",
      "\n",
      "Topic #16: rna protein cell mutant membrane virus show contain replication viral er mm domain site result sequence golgi c structure activity mutation synthesis plasmid describe complex\n",
      "\n",
      "Topic #17: research study include disease health use development review need provide process approach system article new trial work information treatment drug example clinical datum medicine develope\n",
      "\n",
      "Topic #18: q holder peer-reviewed author/funder license medrxiv display grant international perpetuity reuse available cc-by-nc-nd cf prp datum cc-by case allow sc cftr model week show numb\n",
      "\n",
      "Topic #19: cell protein c antibody serum ° assay incubate plate h min virus sample concentration wash culture add ml medium show control test mm pbs elisa\n",
      "\n",
      "Topic #20: cell cat cancer fcov fip expression tumor tissue rnase type gene study l fipv feline cypa line show ii human high result mutation fecv level\n",
      "\n",
      "Topic #21: virus viral protein cell replication hcv infection membrane rna host particle virion cellular hiv-1 target antiviral ifitm3 entry infect show interaction inhibit study mechanism require\n",
      "\n",
      "Topic #22: gene expression analysis identify datum table rna study pathway show express sample value level change transcript response result reference differentially different set numb include perform\n",
      "\n",
      "Topic #23: aptamers aptamer target bind dna selection affinity select hcp mg selex high resistance passenger oligonucleotide rna show modification delivery modify tetracycline carrier increase conjugate nucleic\n",
      "\n",
      "Topic #24: cell protein signal pathway activation response expression type induce infection role ifn activate factor gene function immune receptor study viral activity increase mechanism show regulate\n",
      "\n",
      "Topic #25: cell antibody human bind b mab mabs clone mouse antigen igg target tumor expression phage ceacam1 express culture chain neutralize library monoclonal line show gene\n",
      "\n",
      "Topic #26: group ibv chicken prrsv cell strain level vaccine expression p control show live compare high < gene study significantly ndv bird response virus result infect\n",
      "\n",
      "Topic #27: health disease case public country outbreak report risk surveillance datum population include system control study pandemic infectious information response china epidemic high increase area people\n",
      "\n",
      "Topic #28: epitope sequence peptide protein region bind site residue amino predict acid b structure mhc method analysis recombination show prediction table position result study variant identify\n",
      "\n",
      "Topic #29: virus vaccine human infection disease viral bat animal host vector infect study immune pathogen response cause gene protein dna sars-cov cell antibody development species potential\n",
      "\n",
      "Topic #30: cell protein expression infection h viral level infect control result show virus indicate transfect replication antibody analysis effect assay express c pathway increase plasmid signal\n",
      "\n",
      "Topic #31: membrane lipid structure nm image energy channel protein simulation mm show surface vesicle form nmr spectrum experiment liposome c ion concentration water force bilayer domain\n",
      "\n",
      "Topic #32: e è un che con sono nel alla ha più gli tra ad degli ed salute come stato stati nella have rischio nei studio o\n",
      "\n",
      "Topic #33: cell zikv infection virus mouse viral denv chikv dengue mosquito infect wnv rna strain jev replication zika ev71 result show day study control observe e\n",
      "\n",
      "Topic #34: dog cat = study p group disease concentration clinical horse canine n < test increase serum compare report include blood treatment day healthy case high\n",
      "\n",
      "Topic #35: tb allele genotype snps polymorphism snp haplotype association variant susceptibility domain tuberculosis population associate frequency mbl locus genetic region find system study table = p\n",
      "\n",
      "Topic #36: mers-cov camel study parasite human dromedary t. saudi l. infection arabia sample vaccine animal gondii antibody report test high level result serum east mers injection\n",
      "\n",
      "Topic #37: animal study pig calve farm bacterium group herd diarrhea intestinal bacterial c. day pathogen piglet e. cattle infection high control coli sample increase treatment antibiotic\n",
      "\n",
      "Topic #38: patient study group = p treatment level result icu blood day high increase clinical mortality ± therapy lung severe score < method show include acute\n",
      "\n",
      "Topic #39: protein peptide sequence acid interaction bind domain structure codon amino identify residue site study analysis different function group gene complex find show high region predict\n",
      "\n",
      "Topic #40: study patient infection respiratory child age virus case year pneumonia influenza test symptom group disease report viral clinical high rsv include datum = day rate\n",
      "\n",
      "Topic #41: rna probe sequence structure mrna target dna gene transcript base region rnas mrnas translation lncrnas pair signal strand length nucleotide hybridization array show splice oligonucleotide\n",
      "\n",
      "Topic #42: + animal virus day infection mouse tissue infect group study viral brain disease antibody dpi lung lesion detect titer observe sample show section pig clinical\n",
      "\n",
      "Topic #43: protein bind residue domain s fusion structure activity mutant cell sars-cov site interaction mm show complex protease form substrate virus cleavage mutation mers-cov rbd e\n",
      "\n"
     ]
    },
    {
     "name": "stdout",
     "output_type": "stream",
     "text": [
      "Topic #44: sample pcr assay detection detect primer test virus dna positive rna c result study reaction method amplification rt-pcr sequence viral specimen ° clinical perform sensitivity\n",
      "\n",
      "Topic #45: host species virus genome population genetic sequence pathogen strain tree analysis rate mutation evolutionary datum viral diversity evolution size model selection numb study human phylogenetic\n",
      "\n",
      "Topic #46: bind virus ebov hiv-1 receptor gp entry infection cell hiv lectin viral glycoprotein surface human antibody show gp120 fusion neutralize acid activity study target glycans\n",
      "\n",
      "Topic #47: de facemask à pro en tbsv mnv que eef1a y el des les 3cl norovirus ly6e app para los 3c raft hla-a o un se\n",
      "\n",
      "Topic #48: particle surface concentration sample air temperature nanoparticle aerosol size high solution time increase device filter method result water show flow nm material nps system condition\n",
      "\n",
      "Topic #49: exposure ar formaldehyde behavior intention bladder cuprizone muscle behavioral group study camp iron control doff remyelination week ppm expose contraction attitude effect vaccination site ppe\n",
      "\n"
     ]
    }
   ],
   "source": [
    "tfidf_feature_names = tf_vectorizer.get_feature_names()\n",
    "print_top_words(lda_tf, tfidf_feature_names, 25)"
   ]
  },
  {
   "cell_type": "code",
   "execution_count": null,
   "metadata": {},
   "outputs": [],
   "source": [
    "viz = pyLDAvis.sklearn.prepare(lda_tf, tf, tf_vectorizer)\n",
    "pyLDAvis.display(viz)\n",
    "pyLDAvis.save_html(viz, 'lda.html')"
   ]
  },
  {
   "cell_type": "markdown",
   "metadata": {},
   "source": [
    "<p align=\"center\">\n",
    "  <img width=\"1000\" height=\"250\" src=\"pyLDAvis.JPG\"> \n",
    "</p>"
   ]
  },
  {
   "cell_type": "code",
   "execution_count": 65,
   "metadata": {},
   "outputs": [],
   "source": [
    "# slow, load from output file instead\n",
    "topic_dist = pd.DataFrame(lda_tf.transform(tf))"
   ]
  },
  {
   "cell_type": "code",
   "execution_count": 66,
   "metadata": {},
   "outputs": [],
   "source": [
    "topic_dist.to_csv('topic_dist.csv', index=False)"
   ]
  },
  {
   "cell_type": "code",
   "execution_count": 67,
   "metadata": {},
   "outputs": [
    {
     "data": {
      "text/html": [
       "<div>\n",
       "<style scoped>\n",
       "    .dataframe tbody tr th:only-of-type {\n",
       "        vertical-align: middle;\n",
       "    }\n",
       "\n",
       "    .dataframe tbody tr th {\n",
       "        vertical-align: top;\n",
       "    }\n",
       "\n",
       "    .dataframe thead th {\n",
       "        text-align: right;\n",
       "    }\n",
       "</style>\n",
       "<table border=\"1\" class=\"dataframe\">\n",
       "  <thead>\n",
       "    <tr style=\"text-align: right;\">\n",
       "      <th></th>\n",
       "      <th>0</th>\n",
       "      <th>1</th>\n",
       "      <th>2</th>\n",
       "      <th>3</th>\n",
       "      <th>4</th>\n",
       "      <th>5</th>\n",
       "      <th>6</th>\n",
       "      <th>7</th>\n",
       "      <th>8</th>\n",
       "      <th>9</th>\n",
       "      <th>...</th>\n",
       "      <th>40</th>\n",
       "      <th>41</th>\n",
       "      <th>42</th>\n",
       "      <th>43</th>\n",
       "      <th>44</th>\n",
       "      <th>45</th>\n",
       "      <th>46</th>\n",
       "      <th>47</th>\n",
       "      <th>48</th>\n",
       "      <th>49</th>\n",
       "    </tr>\n",
       "  </thead>\n",
       "  <tbody>\n",
       "    <tr>\n",
       "      <th>0</th>\n",
       "      <td>0.000004</td>\n",
       "      <td>0.000004</td>\n",
       "      <td>0.037869</td>\n",
       "      <td>0.460793</td>\n",
       "      <td>0.000004</td>\n",
       "      <td>0.000004</td>\n",
       "      <td>0.000004</td>\n",
       "      <td>0.000004</td>\n",
       "      <td>0.000004</td>\n",
       "      <td>0.000004</td>\n",
       "      <td>...</td>\n",
       "      <td>0.000004</td>\n",
       "      <td>0.000004</td>\n",
       "      <td>0.000004</td>\n",
       "      <td>0.000004</td>\n",
       "      <td>0.007218</td>\n",
       "      <td>0.000004</td>\n",
       "      <td>0.000004</td>\n",
       "      <td>0.000004</td>\n",
       "      <td>0.005632</td>\n",
       "      <td>0.000004</td>\n",
       "    </tr>\n",
       "    <tr>\n",
       "      <th>1</th>\n",
       "      <td>0.000047</td>\n",
       "      <td>0.000047</td>\n",
       "      <td>0.000047</td>\n",
       "      <td>0.074049</td>\n",
       "      <td>0.000047</td>\n",
       "      <td>0.000047</td>\n",
       "      <td>0.000047</td>\n",
       "      <td>0.000047</td>\n",
       "      <td>0.000047</td>\n",
       "      <td>0.000047</td>\n",
       "      <td>...</td>\n",
       "      <td>0.266759</td>\n",
       "      <td>0.000047</td>\n",
       "      <td>0.000047</td>\n",
       "      <td>0.000047</td>\n",
       "      <td>0.000047</td>\n",
       "      <td>0.000047</td>\n",
       "      <td>0.000047</td>\n",
       "      <td>0.000047</td>\n",
       "      <td>0.000047</td>\n",
       "      <td>0.000047</td>\n",
       "    </tr>\n",
       "    <tr>\n",
       "      <th>2</th>\n",
       "      <td>0.000024</td>\n",
       "      <td>0.000024</td>\n",
       "      <td>0.000024</td>\n",
       "      <td>0.020718</td>\n",
       "      <td>0.000024</td>\n",
       "      <td>0.000024</td>\n",
       "      <td>0.000024</td>\n",
       "      <td>0.000024</td>\n",
       "      <td>0.000024</td>\n",
       "      <td>0.000024</td>\n",
       "      <td>...</td>\n",
       "      <td>0.000024</td>\n",
       "      <td>0.347702</td>\n",
       "      <td>0.000024</td>\n",
       "      <td>0.000024</td>\n",
       "      <td>0.000024</td>\n",
       "      <td>0.000024</td>\n",
       "      <td>0.000024</td>\n",
       "      <td>0.000024</td>\n",
       "      <td>0.000024</td>\n",
       "      <td>0.000024</td>\n",
       "    </tr>\n",
       "    <tr>\n",
       "      <th>3</th>\n",
       "      <td>0.000010</td>\n",
       "      <td>0.000010</td>\n",
       "      <td>0.000010</td>\n",
       "      <td>0.009038</td>\n",
       "      <td>0.000010</td>\n",
       "      <td>0.000010</td>\n",
       "      <td>0.000010</td>\n",
       "      <td>0.000010</td>\n",
       "      <td>0.000010</td>\n",
       "      <td>0.000010</td>\n",
       "      <td>...</td>\n",
       "      <td>0.000010</td>\n",
       "      <td>0.000010</td>\n",
       "      <td>0.000010</td>\n",
       "      <td>0.000010</td>\n",
       "      <td>0.000010</td>\n",
       "      <td>0.000010</td>\n",
       "      <td>0.000010</td>\n",
       "      <td>0.000010</td>\n",
       "      <td>0.000010</td>\n",
       "      <td>0.000010</td>\n",
       "    </tr>\n",
       "    <tr>\n",
       "      <th>4</th>\n",
       "      <td>0.000012</td>\n",
       "      <td>0.000012</td>\n",
       "      <td>0.000012</td>\n",
       "      <td>0.396789</td>\n",
       "      <td>0.000012</td>\n",
       "      <td>0.000012</td>\n",
       "      <td>0.000012</td>\n",
       "      <td>0.000012</td>\n",
       "      <td>0.000012</td>\n",
       "      <td>0.000012</td>\n",
       "      <td>...</td>\n",
       "      <td>0.055275</td>\n",
       "      <td>0.000012</td>\n",
       "      <td>0.000012</td>\n",
       "      <td>0.000012</td>\n",
       "      <td>0.000012</td>\n",
       "      <td>0.000012</td>\n",
       "      <td>0.000012</td>\n",
       "      <td>0.000012</td>\n",
       "      <td>0.000012</td>\n",
       "      <td>0.000012</td>\n",
       "    </tr>\n",
       "  </tbody>\n",
       "</table>\n",
       "<p>5 rows × 50 columns</p>\n",
       "</div>"
      ],
      "text/plain": [
       "          0         1         2         3         4         5         6  \\\n",
       "0  0.000004  0.000004  0.037869  0.460793  0.000004  0.000004  0.000004   \n",
       "1  0.000047  0.000047  0.000047  0.074049  0.000047  0.000047  0.000047   \n",
       "2  0.000024  0.000024  0.000024  0.020718  0.000024  0.000024  0.000024   \n",
       "3  0.000010  0.000010  0.000010  0.009038  0.000010  0.000010  0.000010   \n",
       "4  0.000012  0.000012  0.000012  0.396789  0.000012  0.000012  0.000012   \n",
       "\n",
       "          7         8         9  ...        40        41        42        43  \\\n",
       "0  0.000004  0.000004  0.000004  ...  0.000004  0.000004  0.000004  0.000004   \n",
       "1  0.000047  0.000047  0.000047  ...  0.266759  0.000047  0.000047  0.000047   \n",
       "2  0.000024  0.000024  0.000024  ...  0.000024  0.347702  0.000024  0.000024   \n",
       "3  0.000010  0.000010  0.000010  ...  0.000010  0.000010  0.000010  0.000010   \n",
       "4  0.000012  0.000012  0.000012  ...  0.055275  0.000012  0.000012  0.000012   \n",
       "\n",
       "         44        45        46        47        48        49  \n",
       "0  0.007218  0.000004  0.000004  0.000004  0.005632  0.000004  \n",
       "1  0.000047  0.000047  0.000047  0.000047  0.000047  0.000047  \n",
       "2  0.000024  0.000024  0.000024  0.000024  0.000024  0.000024  \n",
       "3  0.000010  0.000010  0.000010  0.000010  0.000010  0.000010  \n",
       "4  0.000012  0.000012  0.000012  0.000012  0.000012  0.000012  \n",
       "\n",
       "[5 rows x 50 columns]"
      ]
     },
     "execution_count": 67,
     "metadata": {},
     "output_type": "execute_result"
    }
   ],
   "source": [
    "# Load from output file\n",
    "topic_dist = pd.read_csv('topic_dist.csv')\n",
    "topic_dist.head()"
   ]
  },
  {
   "cell_type": "code",
   "execution_count": 68,
   "metadata": {},
   "outputs": [
    {
     "data": {
      "text/plain": [
       "(13202, 50)"
      ]
     },
     "execution_count": 68,
     "metadata": {},
     "output_type": "execute_result"
    }
   ],
   "source": [
    "topic_dist.shape"
   ]
  },
  {
   "cell_type": "markdown",
   "metadata": {},
   "source": [
    "### \"Nearest\" Papers (in Topic Space):"
   ]
  },
  {
   "cell_type": "code",
   "execution_count": 69,
   "metadata": {},
   "outputs": [],
   "source": [
    "def get_k_nearest_docs(doc_dist, k=5, use_jensenshannon=True):\n",
    "    '''\n",
    "    doc_dist: topic distribution (sums to 1) of one article\n",
    "    \n",
    "    Returns the index of the k nearest articles (as by Jensen–Shannon divergence/ Euclidean distance in topic space). \n",
    "    '''\n",
    "    \n",
    "    if use_jensenshannon:\n",
    "        distances = topic_dist.apply(lambda x: jensenshannon(x, doc_dist), axis=1)\n",
    "    else:\n",
    "        diff_df = topic_dist.sub(doc_dist)\n",
    "        distances = np.sqrt(np.square(diff_df).sum(axis=1)) # euclidean distance (faster)\n",
    "        \n",
    "    return distances[distances != 0].nsmallest(n=k).index"
   ]
  },
  {
   "cell_type": "markdown",
   "metadata": {},
   "source": [
    "### Search related papers to a chosen one:"
   ]
  },
  {
   "cell_type": "code",
   "execution_count": 70,
   "metadata": {},
   "outputs": [],
   "source": [
    "def recommendation(doc_id, k=5):\n",
    "    '''\n",
    "    Returns the title of the k papers that are closest (topic-wise) to the paper given by paper_id.\n",
    "    '''\n",
    "    \n",
    "    print(all_data.title[all_data.doc_id == doc_id].values[0])\n",
    "    recommended = get_k_nearest_docs(topic_dist[all_data.doc_id == doc_id].iloc[0], k)\n",
    "    recommended = all_data.iloc[recommended]\n",
    "    \n",
    "    h = '<br/>'.join(['<a href=\"' + l + '\" target=\"_blank\">'+ n + '</a>' for l, n in recommended[['doi','title']].values])\n",
    "    display(HTML(h))"
   ]
  },
  {
   "cell_type": "code",
   "execution_count": 71,
   "metadata": {},
   "outputs": [],
   "source": [
    "start1 = datetime.now()"
   ]
  },
  {
   "cell_type": "code",
   "execution_count": 72,
   "metadata": {},
   "outputs": [
    {
     "name": "stdout",
     "output_type": "stream",
     "text": [
      "The effect of inhibition of PP1 and TNFα signaling on pathogenesis of SARS coronavirus\n"
     ]
    },
    {
     "data": {
      "text/html": [
       "<a href=\"http://dx.doi.org/10.1128/mBio.00271-13\" target=\"_blank\">Mechanisms of Severe Acute Respiratory Syndrome Coronavirus- Induced Acute Lung Injury</a><br/><a href=\"http://dx.doi.org/10.1186/1471-2164-15-1161\" target=\"_blank\">Cytokine systems approach demonstrates differences in innate and pro-inflammatory host responses between genetically distinct MERS-CoV isolates</a><br/><a href=\"http://dx.doi.org/10.1371/journal.pone.0178408\" target=\"_blank\">Lung epithelial cells have virus-specific and shared gene expression responses to infection by diverse respiratory viruses</a><br/><a href=\"http://doi.org/10.1101/090936\" target=\"_blank\">Lung epithelial cells have virus-specific and shared gene expression responses 1 to infection by diverse respiratory viruses 2 3</a><br/><a href=\"http://dx.doi.org/10.3390/cells8090986\" target=\"_blank\">RNA Sequencing of H3N2 Influenza Virus-Infected Human Nasal Epithelial Cells from Multiple Subjects Reveals Molecular Pathways Associated with Tissue Injury and Complications</a>"
      ],
      "text/plain": [
       "<IPython.core.display.HTML object>"
      ]
     },
     "metadata": {},
     "output_type": "display_data"
    }
   ],
   "source": [
    "recommendation('a137eb51461b4a4ed3980aa5b9cb2f2c1cf0292a', k=5)"
   ]
  },
  {
   "cell_type": "code",
   "execution_count": 73,
   "metadata": {},
   "outputs": [
    {
     "name": "stdout",
     "output_type": "stream",
     "text": [
      "The role of absolute humidity on transmission rates of the COVID-19 outbreak\n"
     ]
    },
    {
     "data": {
      "text/html": [
       "<a href=\"http://dx.doi.org/10.1371/journal.pone.0058802\" target=\"_blank\">Using GPS Technology to Quantify Human Mobility, Dynamic Contacts and Infectious Disease Dynamics in a Resource-Poor Urban Environment</a><br/><a href=\"http://doi.org/10.1101/2020.02.20.20025882\" target=\"_blank\">Evaluating the impact of international airline suspensions on the early global spread of COVID-19</a><br/><a href=\"http://doi.org/10.1101/2020.02.05.20020750\" target=\"_blank\">Epidemic doubling time of the COVID-19 epidemic by Chinese province 1</a><br/><a href=\"http://doi.org/10.1101/2020.02.04.20020503\" target=\"_blank\">Risk Assessment of Novel Coronavirus COVID-19 Outbreaks Outside China</a><br/><a href=\"http://doi.org/10.1101/2020.01.31.20019901\" target=\"_blank\">Early dynamics of transmission and control of COVID-19: a mathematical modelling study</a>"
      ],
      "text/plain": [
       "<IPython.core.display.HTML object>"
      ]
     },
     "metadata": {},
     "output_type": "display_data"
    }
   ],
   "source": [
    "recommendation('90b5ecf991032f3918ad43b252e17d1171b4ea63', k=5)"
   ]
  },
  {
   "cell_type": "code",
   "execution_count": 74,
   "metadata": {},
   "outputs": [
    {
     "name": "stdout",
     "output_type": "stream",
     "text": [
      "Potential inhibitors for 2019-nCoV coronavirus M protease from clinically approved medicines\n"
     ]
    },
    {
     "data": {
      "text/html": [
       "<a href=\"http://doi.org/10.1101/2020.01.28.922922\" target=\"_blank\">Therapeutic Drugs Targeting 2019-nCoV Main Protease by High-Throughput Screening</a><br/><a href=\"http://doi.org/10.1016/j.antiviral.2020.104759\" target=\"_blank\">A potential role for integrins in host cell entry by SARS-CoV-2</a><br/><a href=\"http://doi.org/10.1016/j.apsb.2020.02.008\" target=\"_blank\">Journal Pre-proof Analysis of therapeutic targets for SARS-CoV-2 and discovery of potential drugs by computational methods Analysis of therapeutic targets for SARS-CoV-2 and discovery of potential drugs by computational methods</a><br/><a href=\"http://doi.org/10.1101/2020.02.26.961938\" target=\"_blank\">Predictions for the binding domain and potential new drug targets of 2019-nCoV</a><br/><a href=\"http://doi.org/10.1101/2020.03.06.977876\" target=\"_blank\">Crystal structure of SARS-CoV-2 nucleocapsid protein RNA binding domain 1 reveals potential unique drug targeting sites</a>"
      ],
      "text/plain": [
       "<IPython.core.display.HTML object>"
      ]
     },
     "metadata": {},
     "output_type": "display_data"
    }
   ],
   "source": [
    "recommendation('c04c7fb330a409a00f67040dde0f83b3da88eacb', k=5)"
   ]
  },
  {
   "cell_type": "code",
   "execution_count": 75,
   "metadata": {},
   "outputs": [
    {
     "name": "stdout",
     "output_type": "stream",
     "text": [
      "Estimation of the epidemic properties of the 2019 novel coronavirus: A mathematical modeling study\n"
     ]
    },
    {
     "data": {
      "text/html": [
       "<a href=\"http://dx.doi.org/10.1371/journal.pcbi.1005210\" target=\"_blank\">Spatiotemporal Analysis of the 2014 Ebola Epidemic in West Africa</a><br/><a href=\"http://doi.org/10.3390/jcm9020601\" target=\"_blank\">Clinical Medicine Assessing the Impact of Reduced Travel on Exportation Dynamics of Novel Coronavirus Infection (COVID-19)</a><br/><a href=\"http://doi.org/10.1016/j.idm.2020.02.002\" target=\"_blank\">-NC-ND license (http://creativecommons.org/licenses/by-nc-nd/4.0/)</a><br/><a href=\"http://doi.org/10.1101/2020.03.05.20031740\" target=\"_blank\">A data-driven assessment of early travel restrictions related to the spreading of the novel COVID-19 within mainland China</a><br/><a href=\"http://doi.org/10.1101/2020.02.18.20024414\" target=\"_blank\">Effective containment explains sub-exponential growth in confirmed cases of recent COVID-19 outbreak in Mainland China</a><br/><a href=\"http://doi.org/10.1101/2020.02.04.20020503\" target=\"_blank\">Risk Assessment of Novel Coronavirus COVID-19 Outbreaks Outside China</a><br/><a href=\"http://dx.doi.org/10.1371/journal.pone.0140651\" target=\"_blank\">Evaluating Subcriticality during the Ebola Epidemic in West Africa</a><br/><a href=\"http://doi.org/10.1101/2020.03.01.20029801\" target=\"_blank\">Evaluation of the potential incidence of COVID-19 and effectiveness of contention measures in Spain: a data-driven approach</a><br/><a href=\"http://dx.doi.org/10.1371/journal.pone.0016364\" target=\"_blank\">Travel Patterns in China</a><br/><a href=\"http://doi.org/10.1101/331447\" target=\"_blank\">Ministry of Health, Kinshasa, Democratic Republic of Congo g. School of Public Health</a>"
      ],
      "text/plain": [
       "<IPython.core.display.HTML object>"
      ]
     },
     "metadata": {},
     "output_type": "display_data"
    }
   ],
   "source": [
    "recommendation('36521caf90f471c9da1a4e84f8562440d73ead9a', k=10)"
   ]
  },
  {
   "cell_type": "code",
   "execution_count": 76,
   "metadata": {},
   "outputs": [
    {
     "name": "stdout",
     "output_type": "stream",
     "text": [
      "0:00:15.058968\n"
     ]
    }
   ],
   "source": [
    "print(datetime.now()-start1)"
   ]
  },
  {
   "cell_type": "markdown",
   "metadata": {},
   "source": [
    "### Widget: Pick a COVID-19-Paper:\n",
    "Without doc_id"
   ]
  },
  {
   "cell_type": "code",
   "execution_count": 77,
   "metadata": {},
   "outputs": [],
   "source": [
    "def related_papers():\n",
    "    '''\n",
    "    Creates a widget where you can select one of many papers about covid-19 and then displays related articles from the whole dataset.\n",
    "    '''\n",
    "    covid_papers = all_data[all_data.text_body.str.contains('COVID-19|SARS-CoV-2|2019-nCov')][['doc_id', 'title']] # are there are names?\n",
    "    title_to_id = covid_papers.set_index('title')['doc_id'].to_dict()\n",
    "    \n",
    "    def main_function(bullet, k=5):\n",
    "        recommendation(title_to_id[bullet], k)\n",
    "\n",
    "    kWidget = widgets.IntSlider(value=10, description='k', max=50, min=1)\n",
    "\n",
    "    bulletW = widgets.Select(options=title_to_id.keys(), layout=Layout(width='80%', height='200px'), description='Paper:')\n",
    "\n",
    "    widget = widgets.interactive(main_function, bullet=bulletW, k=kWidget)\n",
    "\n",
    "    display(widget)"
   ]
  },
  {
   "cell_type": "code",
   "execution_count": 78,
   "metadata": {},
   "outputs": [
    {
     "data": {
      "application/vnd.jupyter.widget-view+json": {
       "model_id": "334ca196b7a1408a9e427a8e1e8e10d0",
       "version_major": 2,
       "version_minor": 0
      },
      "text/plain": [
       "interactive(children=(Select(description='Paper:', layout=Layout(height='200px', width='80%'), options=(\"Title…"
      ]
     },
     "metadata": {},
     "output_type": "display_data"
    }
   ],
   "source": [
    "related_papers()"
   ]
  },
  {
   "cell_type": "markdown",
   "metadata": {},
   "source": [
    "### Browse topics:"
   ]
  },
  {
   "cell_type": "code",
   "execution_count": 79,
   "metadata": {},
   "outputs": [],
   "source": [
    "def relevant_articles(tasks, k=3):\n",
    "    tasks = [tasks] if type(tasks) is str else tasks \n",
    "    \n",
    "    tasks_tf = tf_vectorizer.transform(tasks)\n",
    "    tasks_topic_dist = pd.DataFrame(lda_tf.transform(tasks_tf))\n",
    "\n",
    "    for index, bullet in enumerate(tasks):\n",
    "        print(bullet)\n",
    "        recommended = get_k_nearest_docs(tasks_topic_dist.iloc[index], k)\n",
    "        recommended = all_data.iloc[recommended]\n",
    "\n",
    "        h = '<br/>'.join(['<a href=\"' + l + '\" target=\"_blank\">'+ n + '</a>' for l, n in recommended[['doi','title']].values])\n",
    "        display(HTML(h))"
   ]
  },
  {
   "cell_type": "code",
   "execution_count": 80,
   "metadata": {},
   "outputs": [],
   "source": [
    "## What is known about transmission, incubation, and environmental stability?\n",
    "task1 = [\"Range of incubation periods for the disease in humans (and how this varies across age and health status) and how long individuals are contagious, even after recovery.\",\n",
    "                            \"Prevalence of asymptomatic shedding and transmission (e.g., particularly children).\",\n",
    "                            \"Seasonality of transmission.\",\n",
    "                            \"Physical science of the coronavirus (e.g., charge distribution, adhesion to hydrophilic/phobic surfaces, environmental survival to inform decontamination efforts for affected areas and provide information about viral shedding).\",\n",
    "                            \"Persistence and stability on a multitude of substrates and sources (e.g., nasal discharge, sputum, urine, fecal matter, blood).\",\n",
    "                            \"Persistence of virus on surfaces of different materials (e,g., copper, stainless steel, plastic).\",\n",
    "                            \"Natural history of the virus and shedding of it from an infected person\",\n",
    "                            \"Implementation of diagnostics and products to improve clinical processes\",\n",
    "                            \"Disease models, including animal models for infection, disease and transmission\",\n",
    "                            \"Tools and studies to monitor phenotypic change and potential adaptation of the virus\",\n",
    "                            \"Immune response and immunity\",\n",
    "                            \"Effectiveness of movement control strategies to prevent secondary transmission in health care and community settings\",\n",
    "                            \"Effectiveness of personal protective equipment (PPE) and its usefulness to reduce risk of transmission in health care and community settings\",\n",
    "                            \"Role of the environment in transmission\"\n",
    "                           ]"
   ]
  },
  {
   "cell_type": "code",
   "execution_count": 81,
   "metadata": {},
   "outputs": [
    {
     "name": "stdout",
     "output_type": "stream",
     "text": [
      "Range of incubation periods for the disease in humans (and how this varies across age and health status) and how long individuals are contagious, even after recovery.\n"
     ]
    },
    {
     "data": {
      "text/html": [
       "<a href=\"http://dx.doi.org/10.1371/journal.pone.0163418\" target=\"_blank\">Reduced Risk of Importing Ebola Virus Disease because of Travel Restrictions in 2014: A Retrospective Epidemiological Modeling Study</a><br/><a href=\"http://doi.org/10.1093/jtm/taaa022\" target=\"_blank\">Quantifying the association between domestic travel and the exportation of novel coronavirus (2019-nCoV) cases from Wuhan, China in 2020: a correlational analysis</a><br/><a href=\"http://doi.org/10.1097/CM9.0000000000000782\" target=\"_blank\">Distribution of the COVID-19 Epidemic and Correlation with Population Emigration from Wuhan, China</a><br/><a href=\"http://doi.org/10.1101/2020.02.14.20022897\" target=\"_blank\">Assessing the impact of reduced travel on exportation dynamics of novel coronavirus infection (COVID-19)</a><br/><a href=\"http://doi.org/\" target=\"_blank\">Two resource distribution strategies for dynamic mitigation of influenza pandemics</a>"
      ],
      "text/plain": [
       "<IPython.core.display.HTML object>"
      ]
     },
     "metadata": {},
     "output_type": "display_data"
    },
    {
     "name": "stdout",
     "output_type": "stream",
     "text": [
      "Prevalence of asymptomatic shedding and transmission (e.g., particularly children).\n"
     ]
    },
    {
     "data": {
      "text/html": [
       "<a href=\"http://dx.doi.org/10.1590/S1517-838220120004000049\" target=\"_blank\">HUMAN RHINOVIRUS INFECTIONS IN SYMPTOMATIC AND ASYMPTOMATIC SUBJECTS</a><br/><a href=\"http://dx.doi.org/10.3349/ymj.2019.60.8.796\" target=\"_blank\">nan</a><br/><a href=\"http://dx.doi.org/10.1093/ofid/ofx006\" target=\"_blank\">Hospital-Acquired Respiratory Viral Infections: Incidence, Morbidity, and Mortality in Pediatric and Adult Patients</a><br/><a href=\"http://dx.doi.org/10.3201/eid1101.040585\" target=\"_blank\">SARS Clinical Features, United States, 2003 for the CDC SARS Clinical Investigation Team 3</a><br/><a href=\"http://dx.doi.org/10.1186/s12879-017-2649-5\" target=\"_blank\">Viral and bacterial upper respiratory tract infection in hospital health care workers over time and association with symptoms</a>"
      ],
      "text/plain": [
       "<IPython.core.display.HTML object>"
      ]
     },
     "metadata": {},
     "output_type": "display_data"
    },
    {
     "name": "stdout",
     "output_type": "stream",
     "text": [
      "Seasonality of transmission.\n"
     ]
    },
    {
     "data": {
      "text/html": [
       "<a href=\"http://dx.doi.org/10.3349/ymj.2019.60.8.796\" target=\"_blank\">nan</a><br/><a href=\"http://dx.doi.org/10.1097/MD.0000000000014250\" target=\"_blank\">nan</a><br/><a href=\"http://dx.doi.org/10.3346/jkms.2017.32.10.1576\" target=\"_blank\">The Impact of Middle East Respiratory Syndrome Outbreak on Trends in Emergency Department Utilization Patterns</a><br/><a href=\"http://dx.doi.org/10.1017/S095026881300304X\" target=\"_blank\">Quantifying the risk of respiratory infection in healthcare workers performing high-risk procedures</a><br/><a href=\"http://dx.doi.org/10.3947/ic.2019.51.2.119\" target=\"_blank\">nan</a>"
      ],
      "text/plain": [
       "<IPython.core.display.HTML object>"
      ]
     },
     "metadata": {},
     "output_type": "display_data"
    },
    {
     "name": "stdout",
     "output_type": "stream",
     "text": [
      "Physical science of the coronavirus (e.g., charge distribution, adhesion to hydrophilic/phobic surfaces, environmental survival to inform decontamination efforts for affected areas and provide information about viral shedding).\n"
     ]
    },
    {
     "data": {
      "text/html": [
       "<a href=\"http://dx.doi.org/10.3389/fcimb.2012.00163\" target=\"_blank\">Infectious disease aerobiology: miasma incarnate</a><br/><a href=\"http://dx.doi.org/10.3390/biom9080344\" target=\"_blank\">biomolecules Tannins: Prospectives and Actual Industrial Applications</a><br/><a href=\"http://dx.doi.org/10.1186/1471-2466-5-11\" target=\"_blank\">BMC Pulmonary Medicine A new paradigm in respiratory hygiene: increasing the cohesivity of airway secretions to improve cough interaction and reduce aerosol dispersion</a><br/><a href=\"http://dx.doi.org/10.3389/fpubh.2019.00023\" target=\"_blank\">MINI REVIEW Bioaerosols and Transmission, a Diverse and Growing Community of Practice</a><br/><a href=\"http://dx.doi.org/10.3201/eid1906.AC1906\" target=\"_blank\">1954) My Valley</a>"
      ],
      "text/plain": [
       "<IPython.core.display.HTML object>"
      ]
     },
     "metadata": {},
     "output_type": "display_data"
    },
    {
     "name": "stdout",
     "output_type": "stream",
     "text": [
      "Persistence and stability on a multitude of substrates and sources (e.g., nasal discharge, sputum, urine, fecal matter, blood).\n"
     ]
    },
    {
     "data": {
      "text/html": [
       "<a href=\"http://dx.doi.org/10.1371/journal.pone.0135675\" target=\"_blank\">Concentration, Size Distribution, and Infectivity of Airborne Particles Carrying Swine Viruses</a><br/><a href=\"http://dx.doi.org/10.3390/ijerph16040609\" target=\"_blank\">Design and Validation with Influenza A Virus of an Aerosol Transmission Chamber for Ferrets</a><br/><a href=\"http://dx.doi.org/10.1111/irv.12678\" target=\"_blank\">Evaluation of bioaerosol samplers for the detection and quantification of influenza virus from artificial aerosols and influenza virus-infected ferrets</a><br/><a href=\"http://dx.doi.org/10.1155/2017/3102567\" target=\"_blank\">Subcutaneous Implants of a Cholesterol-Triglyceride-Buprenorphine Suspension in Rats</a><br/><a href=\"http://dx.doi.org/10.1186/1746-6148-9-14\" target=\"_blank\">C-reactive protein, haptoglobin, serum amyloid A and pig major acute phase protein response in pigs simultaneously infected with H1N1 swine influenza virus and Pasteurella multocida</a>"
      ],
      "text/plain": [
       "<IPython.core.display.HTML object>"
      ]
     },
     "metadata": {},
     "output_type": "display_data"
    },
    {
     "name": "stdout",
     "output_type": "stream",
     "text": [
      "Persistence of virus on surfaces of different materials (e,g., copper, stainless steel, plastic).\n"
     ]
    },
    {
     "data": {
      "text/html": [
       "<a href=\"http://dx.doi.org/10.3390/nano7070152\" target=\"_blank\">Characterisation of the Chemical Composition and Structural Features of Novel Antimicrobial Nanoparticles</a><br/><a href=\"http://dx.doi.org/10.1371/journal.pone.0056896\" target=\"_blank\">Enhancing Bioaerosol Sampling by Andersen Impactors Using Mineral-Oil-Spread Agar Plate</a><br/><a href=\"http://dx.doi.org/10.1186/1471-2466-5-11\" target=\"_blank\">BMC Pulmonary Medicine A new paradigm in respiratory hygiene: increasing the cohesivity of airway secretions to improve cough interaction and reduce aerosol dispersion</a><br/><a href=\"http://dx.doi.org/10.1038/s41598-017-13732-2\" target=\"_blank\">Viscosity is an important factor of resistance to alcohol-based disinfectants by pathogens present in mucus OPEN</a><br/><a href=\"http://dx.doi.org/10.3390/biom9080344\" target=\"_blank\">biomolecules Tannins: Prospectives and Actual Industrial Applications</a>"
      ],
      "text/plain": [
       "<IPython.core.display.HTML object>"
      ]
     },
     "metadata": {},
     "output_type": "display_data"
    },
    {
     "name": "stdout",
     "output_type": "stream",
     "text": [
      "Natural history of the virus and shedding of it from an infected person\n"
     ]
    },
    {
     "data": {
      "text/html": [
       "<a href=\"http://dx.doi.org/10.3390/v11100940\" target=\"_blank\">Nosocomial Transmission of Emerging Viruses via Aerosol-Generating Medical Procedures</a><br/><a href=\"http://dx.doi.org/10.1080/21645515.2015.1122146\" target=\"_blank\">Biosafety considerations for attenuated measles virus vectors used in virotherapy and vaccination</a><br/><a href=\"http://doi.org/10.1016/j.jmii.2020.02.001\" target=\"_blank\">Emerging threats from zoonotic coronaviruses-from SARS and MERS to 2019-nCoV</a><br/><a href=\"http://doi.org/10.1038/s41368-020-0075-9\" target=\"_blank\">Transmission routes of 2019-nCoV and controls in dental practice</a><br/><a href=\"http://dx.doi.org/10.1111/cei.13295\" target=\"_blank\">Emerging viruses and current strategies for vaccine intervention</a>"
      ],
      "text/plain": [
       "<IPython.core.display.HTML object>"
      ]
     },
     "metadata": {},
     "output_type": "display_data"
    },
    {
     "name": "stdout",
     "output_type": "stream",
     "text": [
      "Implementation of diagnostics and products to improve clinical processes\n"
     ]
    },
    {
     "data": {
      "text/html": [
       "<a href=\"http://doi.org/\" target=\"_blank\">Journal of Biomedical Discovery and Collaboration Biological information specialists for biological informatics</a><br/><a href=\"http://dx.doi.org/10.4314/ahs.v19i4.34\" target=\"_blank\">Pseudoscience in medicine: cautionary recommendations</a><br/><a href=\"http://dx.doi.org/10.1371/journal.pone.0028696\" target=\"_blank\">Cochrane Systematic Reviews of Chinese Herbal Medicines: An Overview</a><br/><a href=\"http://dx.doi.org/10.5195/jmla.2018.561\" target=\"_blank\">554 Report from the Medical Library Association's InSight Initiative Summit 1: Engaging Users in a Disruptive Era</a><br/><a href=\"http://dx.doi.org/10.3934/publichealth.2016.1.172\" target=\"_blank\">What Synthesis Methodology Should I Use? A Review and Analysis of Approaches to Research Synthesis</a>"
      ],
      "text/plain": [
       "<IPython.core.display.HTML object>"
      ]
     },
     "metadata": {},
     "output_type": "display_data"
    },
    {
     "name": "stdout",
     "output_type": "stream",
     "text": [
      "Disease models, including animal models for infection, disease and transmission\n"
     ]
    },
    {
     "data": {
      "text/html": [
       "<a href=\"http://dx.doi.org/10.1111/eva.12806\" target=\"_blank\">nan</a><br/><a href=\"http://doi.org/10.1101/545087\" target=\"_blank\">Recombinant vector vaccines and within-host evolution 1</a><br/><a href=\"http://dx.doi.org/10.1371/journal.pcbi.1006857\" target=\"_blank\">Recombinant vector vaccine evolution</a><br/><a href=\"http://dx.doi.org/10.1371/journal.pntd.0004796\" target=\"_blank\">Transmission or Within-Host Dynamics Driving Pulses of Zoonotic Viruses in Reservoir-Host Populations</a><br/><a href=\"http://dx.doi.org/10.1371/journal.pntd.0004867\" target=\"_blank\">Heterogeneity in District-level Transmission of Ebola Virus Disease during the Epidemic in West Africa</a>"
      ],
      "text/plain": [
       "<IPython.core.display.HTML object>"
      ]
     },
     "metadata": {},
     "output_type": "display_data"
    },
    {
     "name": "stdout",
     "output_type": "stream",
     "text": [
      "Tools and studies to monitor phenotypic change and potential adaptation of the virus\n"
     ]
    },
    {
     "data": {
      "text/html": [
       "<a href=\"http://dx.doi.org/10.1186/1742-4682-9-42\" target=\"_blank\">A new look at an old virus: patterns of mutation accumulation in the human H1N1 influenza virus since 1918</a><br/><a href=\"http://dx.doi.org/10.1128/mSphere.00275-16\" target=\"_blank\">A Phylogeny-Based Global Nomenclature System and Automated Annotation Tool for H1 Hemagglutinin Genes from Swine Influenza A Viruses crossmark</a><br/><a href=\"http://dx.doi.org/10.1371/journal.pone.0049224\" target=\"_blank\">The Evolutionary Pattern of Glycosylation Sites in Influenza Virus (H5N1) Hemagglutinin and Neuraminidase</a><br/><a href=\"http://dx.doi.org/10.1371/journal.ppat.1000130\" target=\"_blank\">Evolutionary and Transmission Dynamics of Reassortant H5N1 Influenza Virus in Indonesia</a><br/><a href=\"http://dx.doi.org/10.1128/mBio.00524-12\" target=\"_blank\">Quantifying Pathogen Surveillance Using Temporal Genomic Data</a>"
      ],
      "text/plain": [
       "<IPython.core.display.HTML object>"
      ]
     },
     "metadata": {},
     "output_type": "display_data"
    },
    {
     "name": "stdout",
     "output_type": "stream",
     "text": [
      "Immune response and immunity\n"
     ]
    },
    {
     "data": {
      "text/html": [
       "<a href=\"http://dx.doi.org/10.1371/journal.pone.0020165\" target=\"_blank\">): e20165. 2008ZX10003011), the National Nature Science Foundation of China (no. 30872300), university basic scientific research expense, the Youth Development Project (no. 09YKPY76), the China Postdoctoral Science Foundation (no. 20090460804) and the National Key Basic</a><br/><a href=\"http://dx.doi.org/10.3389/fimmu.2018.02625\" target=\"_blank\">Beyond Type 1 Regulatory T Cells: Co-expression of LAG3 and CD49b in IL-10-Producing T Cell Lineages</a><br/><a href=\"http://dx.doi.org/10.1186/1423-0127-17-32\" target=\"_blank\">Open Access RESEARCH Treatment with Imiquimod enhances antitumor immunity induced by therapeutic HPV DNA vaccination</a><br/><a href=\"http://dx.doi.org/10.3389/fimmu.2017.00157\" target=\"_blank\">Article 157 1 Original research</a><br/><a href=\"http://doi.org/10.1101/359547\" target=\"_blank\">Beyond type 1 regulatory T cells: co-expression of LAG3 and CD49b in IL-10-producing T 1 cell lineages 2 3</a>"
      ],
      "text/plain": [
       "<IPython.core.display.HTML object>"
      ]
     },
     "metadata": {},
     "output_type": "display_data"
    },
    {
     "name": "stdout",
     "output_type": "stream",
     "text": [
      "Effectiveness of movement control strategies to prevent secondary transmission in health care and community settings\n"
     ]
    },
    {
     "data": {
      "text/html": [
       "<a href=\"http://dx.doi.org/10.1371/journal.pmed.1000272\" target=\"_blank\">nan</a><br/><a href=\"http://dx.doi.org/10.3201/eid1104.040765\" target=\"_blank\">nan</a><br/><a href=\"http://dx.doi.org/10.1186/s40249-016-0118-9\" target=\"_blank\">Nosocomial infection control in healthcare settings: Protection against emerging infectious diseases</a><br/><a href=\"http://doi.org/\" target=\"_blank\">Morbidity and Mortality Weekly Report Update: Recommendations for Middle East Respiratory Syndrome Coronavirus (MERS-CoV)</a><br/><a href=\"http://dx.doi.org/10.3201/eid1010.040356\" target=\"_blank\">nan</a>"
      ],
      "text/plain": [
       "<IPython.core.display.HTML object>"
      ]
     },
     "metadata": {},
     "output_type": "display_data"
    },
    {
     "name": "stdout",
     "output_type": "stream",
     "text": [
      "Effectiveness of personal protective equipment (PPE) and its usefulness to reduce risk of transmission in health care and community settings\n"
     ]
    },
    {
     "data": {
      "text/html": [
       "<a href=\"http://dx.doi.org/10.1186/s40249-016-0118-9\" target=\"_blank\">Nosocomial infection control in healthcare settings: Protection against emerging infectious diseases</a><br/><a href=\"http://dx.doi.org/10.1371/journal.pmed.1000272\" target=\"_blank\">nan</a><br/><a href=\"http://dx.doi.org/10.3201/eid1104.040765\" target=\"_blank\">nan</a><br/><a href=\"http://doi.org/\" target=\"_blank\">Morbidity and Mortality Weekly Report Update: Recommendations for Middle East Respiratory Syndrome Coronavirus (MERS-CoV)</a><br/><a href=\"http://dx.doi.org/10.3201/eid2209.152116\" target=\"_blank\">nan</a>"
      ],
      "text/plain": [
       "<IPython.core.display.HTML object>"
      ]
     },
     "metadata": {},
     "output_type": "display_data"
    },
    {
     "name": "stdout",
     "output_type": "stream",
     "text": [
      "Role of the environment in transmission\n"
     ]
    },
    {
     "data": {
      "text/html": [
       "<a href=\"http://dx.doi.org/10.1097/MD.0000000000014250\" target=\"_blank\">nan</a><br/><a href=\"http://dx.doi.org/10.4178/epih/e2015037\" target=\"_blank\">\"The Duty to Prevent\" during an epidemic situation like 2015 Korean MERS outbreak</a><br/><a href=\"http://dx.doi.org/10.4178/epih.e2017052\" target=\"_blank\">EPIDEMIOLOGIC INVESTIGATION Healthcare worker infected with Middle East Respiratory Syndrome during cardiopulmonary resuscitation in Korea, 2015</a><br/><a href=\"http://dx.doi.org/10.3201/eid1003.030650\" target=\"_blank\">nan</a><br/><a href=\"http://dx.doi.org/10.3947/ic.2015.47.4.278\" target=\"_blank\">Infection & Chemotherapy</a>"
      ],
      "text/plain": [
       "<IPython.core.display.HTML object>"
      ]
     },
     "metadata": {},
     "output_type": "display_data"
    }
   ],
   "source": [
    "relevant_articles(task1, 5)"
   ]
  },
  {
   "cell_type": "code",
   "execution_count": 82,
   "metadata": {},
   "outputs": [],
   "source": [
    "## What do we know about COVID-19 risk factors?\n",
    "task2 = ['Data on potential risks factors',\n",
    "'Smoking, pre-existing pulmonary disease',\n",
    "'Co-infections (determine whether co-existing respiratory/viral infections make the virus more transmissible or virulent) and other co-morbidities',\n",
    "'Neonates and pregnant women',\n",
    "'Socio-economic and behavioral factors to understand the economic impact of the virus and whether there were differences.',\n",
    "'Transmission dynamics of the virus, including the basic reproductive number, incubation period, serial interval, modes of transmission and environmental factors', \n",
    "'Severity of disease, including risk of fatality among symptomatic hospitalized patients, and high-risk patient groups',\n",
    "'Susceptibility of populations',\n",
    "'Public health mitigation measures that could be effective for control']"
   ]
  },
  {
   "cell_type": "code",
   "execution_count": 83,
   "metadata": {
    "scrolled": true
   },
   "outputs": [
    {
     "name": "stdout",
     "output_type": "stream",
     "text": [
      "Data on potential risks factors\n"
     ]
    },
    {
     "data": {
      "text/html": [
       "<a href=\"http://dx.doi.org/10.1016/S1473-3099(06)70601-6\" target=\"_blank\">On-line Supplementary Table 3 -Malaria Papers Reporting Significant Linkage or Association</a><br/><a href=\"http://dx.doi.org/10.3201/eid2409.171427\" target=\"_blank\">World Health Organization Methodology to Prioritize Emerging Infectious Diseases in Need of Research and Development</a><br/><a href=\"http://dx.doi.org/10.1016/S2214-109X(16)30168-1\" target=\"_blank\">Supplementary appendix</a><br/><a href=\"http://dx.doi.org/10.15585/mmwr.mm6636a1\" target=\"_blank\">Morbidity and Mortality Weekly Report</a><br/><a href=\"http://dx.doi.org/10.3201/eid1906.121426\" target=\"_blank\">nan</a>"
      ],
      "text/plain": [
       "<IPython.core.display.HTML object>"
      ]
     },
     "metadata": {},
     "output_type": "display_data"
    },
    {
     "name": "stdout",
     "output_type": "stream",
     "text": [
      "Smoking, pre-existing pulmonary disease\n"
     ]
    },
    {
     "data": {
      "text/html": [
       "<a href=\"http://dx.doi.org/10.4178/epih.e2016048\" target=\"_blank\">메르스 격리자에서의 정신건강 Mental health status of the isolated people due to MERS</a><br/><a href=\"http://dx.doi.org/10.1371/journal.pone.0170200\" target=\"_blank\">Comparing Human Metapneumovirus and Respiratory Syncytial Virus: Viral Co- Detections, Genotypes and Risk Factors for Severe Disease</a><br/><a href=\"http://dx.doi.org/10.1093/cid/ciy317\" target=\"_blank\">Clinical Infectious Diseases Burden and Risk Factors for Coronavirus Infections in Infants in Rural Nepal</a><br/><a href=\"http://dx.doi.org/10.1111/irv.12277\" target=\"_blank\">Population-based hospitalization incidence of respiratory viruses in community-acquired pneumonia in children younger than 5 years of age</a><br/><a href=\"http://dx.doi.org/10.1186/s12879-017-2858-y\" target=\"_blank\">The impact of virus infections on pneumonia mortality is complex in adults: a prospective multicentre observational study</a>"
      ],
      "text/plain": [
       "<IPython.core.display.HTML object>"
      ]
     },
     "metadata": {},
     "output_type": "display_data"
    },
    {
     "name": "stdout",
     "output_type": "stream",
     "text": [
      "Co-infections (determine whether co-existing respiratory/viral infections make the virus more transmissible or virulent) and other co-morbidities\n"
     ]
    },
    {
     "data": {
      "text/html": [
       "<a href=\"http://dx.doi.org/10.3390/vaccines7040168\" target=\"_blank\">Vaccination against Paediatric Respiratory Pathogens</a><br/><a href=\"http://dx.doi.org/10.1038/s41598-017-01234-0\" target=\"_blank\">Changes in the Prevalence of HBsAg and HBeAg: a Study of 8696 Parturients in a Well Vaccinated Area OPEN</a><br/><a href=\"http://doi.org/\" target=\"_blank\">Morbidity and Mortality Weekly Report</a><br/><a href=\"http://dx.doi.org/10.1186/1756-8722-6-94\" target=\"_blank\">Diagnosis and treatment of viral diseases in recipients of allogeneic hematopoietic stem cell transplantation</a><br/><a href=\"http://dx.doi.org/10.4103/0366-6999.196575\" target=\"_blank\">Issue 1 Polio Vaccine Strains</a>"
      ],
      "text/plain": [
       "<IPython.core.display.HTML object>"
      ]
     },
     "metadata": {},
     "output_type": "display_data"
    },
    {
     "name": "stdout",
     "output_type": "stream",
     "text": [
      "Neonates and pregnant women\n"
     ]
    },
    {
     "data": {
      "text/html": [
       "<a href=\"http://dx.doi.org/10.1038/s41598-019-56291-4\" target=\"_blank\">A natural polymorphism in Zika virus NS2A protein responsible of virulence in mice</a><br/><a href=\"http://dx.doi.org/10.1293/tox.31.97S\" target=\"_blank\">Nonproliferative and Proliferative Lesions of the Rat and Mouse Special Sense Organs (Ocular [eye and glands], Olfactory and Otic)</a><br/><a href=\"http://dx.doi.org/10.1186/1471-2180-10-201\" target=\"_blank\">Mixed infections with Chlamydia and porcine epidemic diarrhea virus -a new in vitro model of chlamydial persistence</a><br/><a href=\"http://dx.doi.org/10.1038/ncomms15672\" target=\"_blank\">nan</a><br/><a href=\"http://dx.doi.org/10.1038/s41467-018-05276-4\" target=\"_blank\">nan</a>"
      ],
      "text/plain": [
       "<IPython.core.display.HTML object>"
      ]
     },
     "metadata": {},
     "output_type": "display_data"
    },
    {
     "name": "stdout",
     "output_type": "stream",
     "text": [
      "Socio-economic and behavioral factors to understand the economic impact of the virus and whether there were differences.\n"
     ]
    },
    {
     "data": {
      "text/html": [
       "<a href=\"http://dx.doi.org/10.4269/ajtmh.13-0267\" target=\"_blank\">Foreign Health, Ministry of Health, Social Services and Equality of Spain in Barcelona, Delegation of the Spanish Government in Catalonia</a><br/><a href=\"http://dx.doi.org/10.1016/S1473-3099(06)70601-6\" target=\"_blank\">On-line Supplementary Table 3 -Malaria Papers Reporting Significant Linkage or Association</a><br/><a href=\"http://dx.doi.org/10.1186/1475-2875-11-269\" target=\"_blank\">Operational efficiency and sustainability of vector control of malaria and dengue: descriptive case studies from the Philippines</a><br/><a href=\"http://dx.doi.org/10.1016/S2214-109X(16)30168-1\" target=\"_blank\">Supplementary appendix</a><br/><a href=\"http://dx.doi.org/10.3201/eid2409.171343\" target=\"_blank\">Travelers' Actual and Subjective Knowledge about Risk for Ebola Virus Disease</a>"
      ],
      "text/plain": [
       "<IPython.core.display.HTML object>"
      ]
     },
     "metadata": {},
     "output_type": "display_data"
    },
    {
     "name": "stdout",
     "output_type": "stream",
     "text": [
      "Transmission dynamics of the virus, including the basic reproductive number, incubation period, serial interval, modes of transmission and environmental factors\n"
     ]
    },
    {
     "data": {
      "text/html": [
       "<a href=\"http://dx.doi.org/10.1371/journal.pntd.0006999\" target=\"_blank\">Robustness of the reproductive number estimates in vector-borne disease systems Supplementary material Individual Based Model</a><br/><a href=\"http://dx.doi.org/10.1155/2011/527610\" target=\"_blank\">The Failure of R 0</a><br/><a href=\"http://dx.doi.org/10.1371/journal.ppat.1002976\" target=\"_blank\">nan</a><br/><a href=\"http://dx.doi.org/10.7717/peerj.171\" target=\"_blank\">nan</a><br/><a href=\"http://dx.doi.org/10.1371/journal.pntd.0004867\" target=\"_blank\">Heterogeneity in District-level Transmission of Ebola Virus Disease during the Epidemic in West Africa</a>"
      ],
      "text/plain": [
       "<IPython.core.display.HTML object>"
      ]
     },
     "metadata": {},
     "output_type": "display_data"
    },
    {
     "name": "stdout",
     "output_type": "stream",
     "text": [
      "Severity of disease, including risk of fatality among symptomatic hospitalized patients, and high-risk patient groups\n"
     ]
    },
    {
     "data": {
      "text/html": [
       "<a href=\"http://dx.doi.org/10.4178/epih.e2016048\" target=\"_blank\">메르스 격리자에서의 정신건강 Mental health status of the isolated people due to MERS</a><br/><a href=\"http://dx.doi.org/10.1111/irv.12277\" target=\"_blank\">Population-based hospitalization incidence of respiratory viruses in community-acquired pneumonia in children younger than 5 years of age</a><br/><a href=\"http://dx.doi.org/10.1186/s12879-017-2858-y\" target=\"_blank\">The impact of virus infections on pneumonia mortality is complex in adults: a prospective multicentre observational study</a><br/><a href=\"http://dx.doi.org/10.1111/irv.12414\" target=\"_blank\">nan</a><br/><a href=\"http://dx.doi.org/10.1093/ofid/ofv139\" target=\"_blank\">Faculty of Health Sciences, 9 Department of Science and Technology/National Research Foundation: Vaccine Preventable Diseases, 10 MRC/Wits Rural Public Health and Health Transitions Research Unit (Agincourt), School of Public Health, 11 Department of Internal Medicine, and 12 School of Pathology, Faculty of Health Sciences</a>"
      ],
      "text/plain": [
       "<IPython.core.display.HTML object>"
      ]
     },
     "metadata": {},
     "output_type": "display_data"
    },
    {
     "name": "stdout",
     "output_type": "stream",
     "text": [
      "Susceptibility of populations\n"
     ]
    },
    {
     "data": {
      "text/html": [
       "<a href=\"http://dx.doi.org/10.1016/S1473-3099(06)70601-6\" target=\"_blank\">Aw24 Japanese? Leprosy per se Ca = 59; Co = 125 25</a><br/><a href=\"http://dx.doi.org/10.1128/mBio.00609-12\" target=\"_blank\">Probe&Name& Gene& Symbol& Fold& Change& Descrip9on&</a><br/><a href=\"http://dx.doi.org/10.1093/nar/gky129\" target=\"_blank\">Supplementary,Figure,1 Absorbance Fractions: Supplementary%Table%1:%Characteristics%of%the%sequenced%RNA%libraries</a><br/><a href=\"http://dx.doi.org/10.1002/advs.201800275\" target=\"_blank\">Origin, Genetic Diversity, and Evolutionary Dynamics of Novel Porcine Circovirus 3</a><br/><a href=\"http://dx.doi.org/10.1371/journal.pcbi.1002015\" target=\"_blank\">/* * 0 ! V * *</a>"
      ],
      "text/plain": [
       "<IPython.core.display.HTML object>"
      ]
     },
     "metadata": {},
     "output_type": "display_data"
    },
    {
     "name": "stdout",
     "output_type": "stream",
     "text": [
      "Public health mitigation measures that could be effective for control\n"
     ]
    },
    {
     "data": {
      "text/html": [
       "<a href=\"http://dx.doi.org/10.1016/S1473-3099(06)70601-6\" target=\"_blank\">On-line Supplementary Table 3 -Malaria Papers Reporting Significant Linkage or Association</a><br/><a href=\"http://dx.doi.org/10.1016/S2214-109X(16)30168-1\" target=\"_blank\">Supplementary appendix</a><br/><a href=\"http://dx.doi.org/10.3201/eid2409.171427\" target=\"_blank\">World Health Organization Methodology to Prioritize Emerging Infectious Diseases in Need of Research and Development</a><br/><a href=\"http://dx.doi.org/10.15585/mmwr.mm6636a1\" target=\"_blank\">Morbidity and Mortality Weekly Report</a><br/><a href=\"http://doi.org/10.1093/jtm/taaa011\" target=\"_blank\">Potential for global spread of a novel coronavirus from China</a>"
      ],
      "text/plain": [
       "<IPython.core.display.HTML object>"
      ]
     },
     "metadata": {},
     "output_type": "display_data"
    }
   ],
   "source": [
    "relevant_articles(task2, 5)"
   ]
  },
  {
   "cell_type": "code",
   "execution_count": null,
   "metadata": {},
   "outputs": [],
   "source": [
    "## What do we know about virus genetics, origin, and evolution?"
   ]
  },
  {
   "cell_type": "code",
   "execution_count": 84,
   "metadata": {},
   "outputs": [],
   "source": [
    "task3 = ['Real-time tracking of whole genomes and a mechanism for coordinating the rapid dissemination of that information to inform the development of diagnostics and therapeutics and to track variations of the virus over time.',\n",
    "'Access to geographic and temporal diverse sample sets to understand geographic distribution and genomic differences, and determine whether there is more than one strain in circulation. Multi-lateral agreements such as the Nagoya Protocol could be leveraged.',\n",
    "'Evidence that livestock could be infected (e.g., field surveillance, genetic sequencing, receptor binding) and serve as a reservoir after the epidemic appears to be over.',\n",
    "'Evidence of whether farmers are infected, and whether farmers could have played a role in the origin.',\n",
    "'Surveillance of mixed wildlife- livestock farms for SARS-CoV-2 and other coronaviruses in Southeast Asia.',\n",
    "'Experimental infections to test host range for this pathogen.',\n",
    "'Animal host(s) and any evidence of continued spill-over to humans',\n",
    "'Socioeconomic and behavioral risk factors for this spill-over',\n",
    "'Sustainable risk reduction strategies']"
   ]
  },
  {
   "cell_type": "code",
   "execution_count": 85,
   "metadata": {
    "scrolled": true
   },
   "outputs": [
    {
     "name": "stdout",
     "output_type": "stream",
     "text": [
      "Real-time tracking of whole genomes and a mechanism for coordinating the rapid dissemination of that information to inform the development of diagnostics and therapeutics and to track variations of the virus over time.\n"
     ]
    },
    {
     "data": {
      "text/html": [
       "<a href=\"http://dx.doi.org/10.1093/nar/gkm925\" target=\"_blank\">IDBD: Infectious Disease Biomarker Database</a><br/><a href=\"http://dx.doi.org/10.1186/s13028-017-0285-0\" target=\"_blank\">Ecological niche modeling of rabies in the changing Arctic of Alaska</a><br/><a href=\"http://dx.doi.org/10.3389/fgene.2014.00080\" target=\"_blank\">How integration of global omics-data could help preparing for pandemics -a scent of influenza</a><br/><a href=\"http://dx.doi.org/10.1371/journal.pntd.0005358\" target=\"_blank\">The risk of transmission of a viral haemorrhagic fever infection in a United Kingdom laboratory</a><br/><a href=\"http://doi.org/10.1101/2020.02.26.967026\" target=\"_blank\">CRISPR-based surveillance for COVID-19 using genomically-comprehensive machine learning design</a>"
      ],
      "text/plain": [
       "<IPython.core.display.HTML object>"
      ]
     },
     "metadata": {},
     "output_type": "display_data"
    },
    {
     "name": "stdout",
     "output_type": "stream",
     "text": [
      "Access to geographic and temporal diverse sample sets to understand geographic distribution and genomic differences, and determine whether there is more than one strain in circulation. Multi-lateral agreements such as the Nagoya Protocol could be leveraged.\n"
     ]
    },
    {
     "data": {
      "text/html": [
       "<a href=\"http://dx.doi.org/10.1098/rsos.171089\" target=\"_blank\">nan</a><br/><a href=\"http://dx.doi.org/10.3390/ijms13078159\" target=\"_blank\">Genetic Variation and Population Differentiation in a Medical Herb Houttuynia cordata in China Revealed by Inter-Simple Sequence Repeats (ISSRs)</a><br/><a href=\"http://dx.doi.org/10.1093/ve/vex012\" target=\"_blank\">Global patterns in coronavirus diversity</a><br/><a href=\"http://dx.doi.org/10.7717/peerj.7672\" target=\"_blank\">A pilot study-genetic diversity and population structure of snow leopards of Gilgit-Baltistan, Pakistan, using molecular techniques</a><br/><a href=\"http://dx.doi.org/10.3201/eid1401.071119\" target=\"_blank\">The North is a frontier for exploration of emerging in- fectious diseases and the large-scale drivers infl uencing distribution, host associations, and evolution of pathogens among persons, domestic animals, and wildlife. Leading into the International Polar</a>"
      ],
      "text/plain": [
       "<IPython.core.display.HTML object>"
      ]
     },
     "metadata": {},
     "output_type": "display_data"
    },
    {
     "name": "stdout",
     "output_type": "stream",
     "text": [
      "Evidence that livestock could be infected (e.g., field surveillance, genetic sequencing, receptor binding) and serve as a reservoir after the epidemic appears to be over.\n"
     ]
    },
    {
     "data": {
      "text/html": [
       "<a href=\"http://dx.doi.org/10.3402/ehtj.v4i0.7159\" target=\"_blank\">Bats, emerging infectious diseases, and the rabies paradigm revisited</a><br/><a href=\"http://dx.doi.org/10.1128/mBio.00002-13\" target=\"_blank\">Human Coronavirus EMC Is Not the Same as Severe Acute Respiratory Syndrome Coronavirus</a><br/><a href=\"http://doi.org/10.1016/S0140-6736(20)30419-0\" target=\"_blank\">nan</a><br/><a href=\"http://doi.org/10.3390/ijerph17051633\" target=\"_blank\">Potential Factors Influencing Repeated SARS Outbreaks in China</a><br/><a href=\"http://dx.doi.org/10.3390/tropicalmed4010031\" target=\"_blank\">Tropical Medicine and Infectious Disease Bats and Viruses: Emergence of Novel Lyssaviruses and Association of Bats with Viral Zoonoses in the EU</a>"
      ],
      "text/plain": [
       "<IPython.core.display.HTML object>"
      ]
     },
     "metadata": {},
     "output_type": "display_data"
    },
    {
     "name": "stdout",
     "output_type": "stream",
     "text": [
      "Evidence of whether farmers are infected, and whether farmers could have played a role in the origin.\n"
     ]
    },
    {
     "data": {
      "text/html": [
       "<a href=\"http://dx.doi.org/10.1186/s13071-017-2257-7\" target=\"_blank\">Experimentally confirmed toltrazuril resistance in a field isolate of Cystoisospora suis</a><br/><a href=\"http://dx.doi.org/10.1186/1746-6148-9-206\" target=\"_blank\">nan</a><br/><a href=\"http://dx.doi.org/10.1186/1751-0147-54-2\" target=\"_blank\">Antimicrobial resistance and virulence factors in Escherichia coli from Swedish dairy calves</a><br/><a href=\"http://dx.doi.org/10.1371/journal.pone.0219321\" target=\"_blank\">Effectiveness of zinc supplementation on diarrhea and average daily gain in pre- weaned dairy calves: A double-blind, block- randomized, placebo-controlled clinical trial</a><br/><a href=\"http://dx.doi.org/10.1186/s13104-017-3038-2\" target=\"_blank\">Bacteriological study of calf colisepticemia in Alage Dairy Farm, Southern Ethiopia</a>"
      ],
      "text/plain": [
       "<IPython.core.display.HTML object>"
      ]
     },
     "metadata": {},
     "output_type": "display_data"
    },
    {
     "name": "stdout",
     "output_type": "stream",
     "text": [
      "Surveillance of mixed wildlife- livestock farms for SARS-CoV-2 and other coronaviruses in Southeast Asia.\n"
     ]
    },
    {
     "data": {
      "text/html": [
       "<a href=\"http://dx.doi.org/10.24171/j.phrp.2019.10.4.03\" target=\"_blank\">Article history: Risk of Water and Food-Borne Communicable Diseases in Travelers Entering Korea</a><br/><a href=\"http://dx.doi.org/10.1007/s11250-018-1668-6\" target=\"_blank\">Analysis of pig trading networks and practices in Uganda</a><br/><a href=\"http://dx.doi.org/10.1093/inthealth/ihaa001\" target=\"_blank\">A qualitative study of zoonotic risk factors among rural communities in southern China</a><br/><a href=\"http://dx.doi.org/10.1186/s12917-019-1800-5\" target=\"_blank\">Transboundary spread of pig diseases: the role of international trade and travel</a><br/><a href=\"http://dx.doi.org/10.1186/s12889-015-1811-5\" target=\"_blank\">Household practices related to disease transmission between animals and humans in rural Cambodia</a>"
      ],
      "text/plain": [
       "<IPython.core.display.HTML object>"
      ]
     },
     "metadata": {},
     "output_type": "display_data"
    },
    {
     "name": "stdout",
     "output_type": "stream",
     "text": [
      "Experimental infections to test host range for this pathogen.\n"
     ]
    },
    {
     "data": {
      "text/html": [
       "<a href=\"http://dx.doi.org/10.1371/journal.pbio.1001641\" target=\"_blank\">The Mongoose, the Pheasant, the Pox, and the Retrovirus</a><br/><a href=\"http://dx.doi.org/10.3390/v3010012\" target=\"_blank\">Changes in Population Dynamics in Mutualistic versus Pathogenic Viruses</a><br/><a href=\"http://dx.doi.org/10.1186/gb-2003-4-5-213\" target=\"_blank\">Discovering human history from stomach bacteria</a><br/><a href=\"http://dx.doi.org/10.1155/2011/741406\" target=\"_blank\">Commentary It Takes a Community to Raise the Prevalence of a Zoonotic Pathogen</a><br/><a href=\"http://dx.doi.org/10.1098/rstb.2011.0354\" target=\"_blank\">Human viruses: discovery and emergence</a>"
      ],
      "text/plain": [
       "<IPython.core.display.HTML object>"
      ]
     },
     "metadata": {},
     "output_type": "display_data"
    },
    {
     "name": "stdout",
     "output_type": "stream",
     "text": [
      "Animal host(s) and any evidence of continued spill-over to humans\n"
     ]
    },
    {
     "data": {
      "text/html": [
       "<a href=\"http://dx.doi.org/10.1111/cei.13295\" target=\"_blank\">Emerging viruses and current strategies for vaccine intervention</a><br/><a href=\"http://dx.doi.org/10.1080/21645515.2017.1383575\" target=\"_blank\">Chimpanzee adenoviral vectors as vaccines for outbreak pathogens</a><br/><a href=\"http://dx.doi.org/10.7774/cevr.2016.5.1.12\" target=\"_blank\">CLINICAL EXPERIMENTAL VACCINE RESEARCH</a><br/><a href=\"http://dx.doi.org/10.1371/journal.ppat.1007134\" target=\"_blank\">Bat pathogens hit the road: But which one?</a><br/><a href=\"http://dx.doi.org/10.3390/v6072531\" target=\"_blank\">RNA Virus Reverse Genetics and Vaccine Design</a>"
      ],
      "text/plain": [
       "<IPython.core.display.HTML object>"
      ]
     },
     "metadata": {},
     "output_type": "display_data"
    },
    {
     "name": "stdout",
     "output_type": "stream",
     "text": [
      "Socioeconomic and behavioral risk factors for this spill-over\n"
     ]
    },
    {
     "data": {
      "text/html": [
       "<a href=\"http://dx.doi.org/10.1016/S1473-3099(06)70601-6\" target=\"_blank\">On-line Supplementary Table 3 -Malaria Papers Reporting Significant Linkage or Association</a><br/><a href=\"http://dx.doi.org/10.3201/eid2409.171427\" target=\"_blank\">World Health Organization Methodology to Prioritize Emerging Infectious Diseases in Need of Research and Development</a><br/><a href=\"http://dx.doi.org/10.4269/ajtmh.13-0267\" target=\"_blank\">Foreign Health, Ministry of Health, Social Services and Equality of Spain in Barcelona, Delegation of the Spanish Government in Catalonia</a><br/><a href=\"http://dx.doi.org/10.1016/S2214-109X(16)30168-1\" target=\"_blank\">Supplementary appendix</a><br/><a href=\"http://dx.doi.org/10.1186/s12936-017-1709-z\" target=\"_blank\">Malaria from hyperendemicity to elimination in Hekou County on China- Vietnam border: an ecological study</a>"
      ],
      "text/plain": [
       "<IPython.core.display.HTML object>"
      ]
     },
     "metadata": {},
     "output_type": "display_data"
    },
    {
     "name": "stdout",
     "output_type": "stream",
     "text": [
      "Sustainable risk reduction strategies\n"
     ]
    },
    {
     "data": {
      "text/html": [
       "<a href=\"http://dx.doi.org/10.1016/S1473-3099(06)70601-6\" target=\"_blank\">On-line Supplementary Table 3 -Malaria Papers Reporting Significant Linkage or Association</a><br/><a href=\"http://dx.doi.org/10.3201/eid2409.171427\" target=\"_blank\">World Health Organization Methodology to Prioritize Emerging Infectious Diseases in Need of Research and Development</a><br/><a href=\"http://dx.doi.org/10.1016/S2214-109X(16)30168-1\" target=\"_blank\">Supplementary appendix</a><br/><a href=\"http://dx.doi.org/10.15585/mmwr.mm6636a1\" target=\"_blank\">Morbidity and Mortality Weekly Report</a><br/><a href=\"http://dx.doi.org/10.3201/eid1906.121426\" target=\"_blank\">nan</a>"
      ],
      "text/plain": [
       "<IPython.core.display.HTML object>"
      ]
     },
     "metadata": {},
     "output_type": "display_data"
    }
   ],
   "source": [
    "relevant_articles(task3, 5)"
   ]
  },
  {
   "cell_type": "markdown",
   "metadata": {},
   "source": [
    "### Widget- Pick a Task:"
   ]
  },
  {
   "cell_type": "code",
   "execution_count": 86,
   "metadata": {},
   "outputs": [],
   "source": [
    "def relevant_articles_for_task():\n",
    "    tasks={'Task 1': task1,'Task 2': task2, 'Task 3': task3}\n",
    "\n",
    "    def main_function(bullet, task, k=5):\n",
    "        relevant_articles([bullet], k)\n",
    "        bulletW.options = tasks[task]    \n",
    "\n",
    "    kWidget = widgets.IntSlider(value=5, description='k', max=30, min=1)\n",
    "\n",
    "    taskW = widgets.Select(options=tasks.keys(), description='Task:')\n",
    "    init = taskW.value\n",
    "    bulletW = widgets.Select(options=tasks[init], layout=Layout(width='60%', height='200px'), description='Bullet:')\n",
    "\n",
    "    widget = widgets.interactive(main_function, task=taskW, bullet=bulletW, k=kWidget)\n",
    "\n",
    "    controls = HBox([VBox([widget.children[:-1][1], widget.children[:-1][2]]), widget.children[:-1][0]], layout = Layout(flex_flow='row wrap'))\n",
    "    output = widget.children[-1]\n",
    "    display(VBox([controls, output]))"
   ]
  },
  {
   "cell_type": "code",
   "execution_count": 87,
   "metadata": {},
   "outputs": [
    {
     "data": {
      "application/vnd.jupyter.widget-view+json": {
       "model_id": "42acd7bc0d324e5e990e8aa913f75fc0",
       "version_major": 2,
       "version_minor": 0
      },
      "text/plain": [
       "VBox(children=(HBox(children=(VBox(children=(Select(description='Task:', options=('Task 1', 'Task 2', 'Task 3'…"
      ]
     },
     "metadata": {},
     "output_type": "display_data"
    }
   ],
   "source": [
    "relevant_articles_for_task()"
   ]
  },
  {
   "cell_type": "markdown",
   "metadata": {},
   "source": [
    "### Widget- Free Text Search:"
   ]
  },
  {
   "cell_type": "code",
   "execution_count": 88,
   "metadata": {},
   "outputs": [],
   "source": [
    "def relevant_articles_for_text():    \n",
    "    textW = widgets.Textarea(\n",
    "        value='',\n",
    "        placeholder='Type something',\n",
    "        description='Text:',\n",
    "        disabled=False,\n",
    "        layout=Layout(width='80%', height='200px')\n",
    "    )\n",
    "\n",
    "    kWidget = widgets.IntSlider(value=15, description='k', max=30, min=1)\n",
    "\n",
    "    button = widgets.Button(description=\"Search\")\n",
    "\n",
    "    display(VBox([textW, HBox([kWidget, button])]))\n",
    "\n",
    "    def on_button_clicked(b):\n",
    "        clear_output()\n",
    "        display(VBox([textW, HBox([kWidget, button])]))\n",
    "        relevant_articles(textW.value, kWidget.value)\n",
    "\n",
    "    button.on_click(on_button_clicked)"
   ]
  },
  {
   "cell_type": "code",
   "execution_count": 89,
   "metadata": {
    "scrolled": false
   },
   "outputs": [
    {
     "data": {
      "application/vnd.jupyter.widget-view+json": {
       "model_id": "1e77ef1c67674ca29406ac5997178d2c",
       "version_major": 2,
       "version_minor": 0
      },
      "text/plain": [
       "VBox(children=(Textarea(value='coronavirus medicine treatment cure', description='Text:', layout=Layout(height…"
      ]
     },
     "metadata": {},
     "output_type": "display_data"
    },
    {
     "name": "stdout",
     "output_type": "stream",
     "text": [
      "coronavirus medicine treatment cure\n"
     ]
    },
    {
     "data": {
      "text/html": [
       "<a href=\"http://dx.doi.org/10.1038/s41420-019-0213-3\" target=\"_blank\">nan</a><br/><a href=\"http://dx.doi.org/10.1371/journal.pone.0028696\" target=\"_blank\">Cochrane Systematic Reviews of Chinese Herbal Medicines: An Overview</a><br/><a href=\"http://dx.doi.org/10.4178/epih.e2017052\" target=\"_blank\">Healthcare worker infected with Middle East respiratory syndrome during cardiopulmonary resuscitation in Korea, 2015 심폐소생술 시행 중 MERS-CoV에 감염된 의료인 사례</a><br/><a href=\"http://doi.org/\" target=\"_blank\">Journal of Biomedical Discovery and Collaboration Biological information specialists for biological informatics</a><br/><a href=\"http://dx.doi.org/10.4314/ahs.v19i4.34\" target=\"_blank\">Pseudoscience in medicine: cautionary recommendations</a><br/><a href=\"http://dx.doi.org/10.1186/1743-422X-11-4\" target=\"_blank\">Thank you to Virology Journal's peer reviewers in 2013</a><br/><a href=\"http://dx.doi.org/10.5195/jmla.2018.561\" target=\"_blank\">554 Report from the Medical Library Association's InSight Initiative Summit 1: Engaging Users in a Disruptive Era</a><br/><a href=\"http://dx.doi.org/10.3934/publichealth.2016.1.172\" target=\"_blank\">What Synthesis Methodology Should I Use? A Review and Analysis of Approaches to Research Synthesis</a><br/><a href=\"http://dx.doi.org/10.1186/s12995-019-0248-7\" target=\"_blank\">Global scientific trends on aflatoxin research during 1998-2017: a bibliometric and visualized study</a><br/><a href=\"http://dx.doi.org/10.1080/17290376.2017.1375426\" target=\"_blank\">Contemporary HIV/AIDS research: Insights from knowledge management theory Article Original</a><br/><a href=\"http://dx.doi.org/10.1186/2001-1326-2-10\" target=\"_blank\">Rapid, responsive, relevant (R3) research: a call for a rapid learning health research enterprise</a><br/><a href=\"http://dx.doi.org/10.1186/s12992-018-0335-z\" target=\"_blank\">Estimates of global research productivity in using nicotine replacement therapy for tobacco cessation: a bibliometric study</a><br/><a href=\"http://dx.doi.org/10.30773/pi.2020.0047\" target=\"_blank\">nan</a><br/><a href=\"http://dx.doi.org/10.1186/s12917-017-1072-x\" target=\"_blank\">Stimulating collaboration between human and veterinary health care professionals</a><br/><a href=\"http://dx.doi.org/10.1186/s13020-018-0165-1\" target=\"_blank\">SWOT analysis and revelation in traditional Chinese medicine internationalization</a>"
      ],
      "text/plain": [
       "<IPython.core.display.HTML object>"
      ]
     },
     "metadata": {},
     "output_type": "display_data"
    }
   ],
   "source": [
    "relevant_articles_for_text()"
   ]
  },
  {
   "cell_type": "code",
   "execution_count": null,
   "metadata": {},
   "outputs": [],
   "source": [
    "stop = timeit.default_timer()\n",
    "print(datetime.now()-start1)"
   ]
  }
 ],
 "metadata": {
  "kernelspec": {
   "display_name": "Python 3",
   "language": "python",
   "name": "python3"
  },
  "language_info": {
   "codemirror_mode": {
    "name": "ipython",
    "version": 3
   },
   "file_extension": ".py",
   "mimetype": "text/x-python",
   "name": "python",
   "nbconvert_exporter": "python",
   "pygments_lexer": "ipython3",
   "version": "3.7.3"
  }
 },
 "nbformat": 4,
 "nbformat_minor": 2
}
